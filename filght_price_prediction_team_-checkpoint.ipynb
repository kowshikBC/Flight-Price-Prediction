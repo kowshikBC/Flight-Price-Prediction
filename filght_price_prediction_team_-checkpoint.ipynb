{
 "cells": [
  {
   "cell_type": "markdown",
   "id": "302346bc",
   "metadata": {},
   "source": [
    "###### MADE BY TEAM ID : PTID-CDS-JUN-23-1533\n",
    "#### PROJECT ID : PRCP-1025-Flightpriceprediction\n",
    "\n",
    "\n",
    "## BUSINESS CASE - To predict future flight prices and plan their journey according\n",
    "\n",
    "\n",
    "* The objective of this project is to develop a machine learning model that can accurately predict flight fares for future journeys. The aim is to provide travelers with a reliable tool to estimate flight prices in advance, enabling them to plan their trips efficiently and make informed decisions about their travel expenses.\n",
    "\n",
    "* By accurately predicting flight fares, travelers can plan their journeys during periods when prices are expected to be lower, helping them secure better deals and save money on their travel expenses."
   ]
  },
  {
   "cell_type": "markdown",
   "id": "bbf92b88",
   "metadata": {},
   "source": [
    "#  PROBLEM DEFINITION\n",
    "* The problem is to develop a machine learning model that can accurately predict flight fares for future journeys. The goal is to provide travelers with a reliable tool to estimate flight prices in advance, enabling them to plan their trips efficiently and make informed decisions about their travel expenses"
   ]
  },
  {
   "cell_type": "markdown",
   "id": "29223b09",
   "metadata": {},
   "source": [
    "* I found the data that I needed from: https://d3ilbtxij3aepc.cloudfront.net/projects/CDS-Capstone-Projects/flight-\n",
    "fare.zip"
   ]
  },
  {
   "cell_type": "markdown",
   "id": "7157deaa",
   "metadata": {},
   "source": [
    "# FLIGHT PRICE PREDICTION"
   ]
  },
  {
   "cell_type": "code",
   "execution_count": 2,
   "id": "e95b2204",
   "metadata": {},
   "outputs": [],
   "source": [
    "#  required Labraries IMPORTING\n",
    "import pandas as pd\n",
    "import numpy as np\n",
    "import matplotlib.pyplot as plt\n",
    "import seaborn as sns\n",
    "import warnings\n",
    "warnings.filterwarnings('ignore')"
   ]
  },
  {
   "cell_type": "code",
   "execution_count": 3,
   "id": "5825c61e",
   "metadata": {},
   "outputs": [
    {
     "data": {
      "text/html": [
       "<div>\n",
       "<style scoped>\n",
       "    .dataframe tbody tr th:only-of-type {\n",
       "        vertical-align: middle;\n",
       "    }\n",
       "\n",
       "    .dataframe tbody tr th {\n",
       "        vertical-align: top;\n",
       "    }\n",
       "\n",
       "    .dataframe thead th {\n",
       "        text-align: right;\n",
       "    }\n",
       "</style>\n",
       "<table border=\"1\" class=\"dataframe\">\n",
       "  <thead>\n",
       "    <tr style=\"text-align: right;\">\n",
       "      <th></th>\n",
       "      <th>Airline</th>\n",
       "      <th>Date_of_Journey</th>\n",
       "      <th>Source</th>\n",
       "      <th>Destination</th>\n",
       "      <th>Route</th>\n",
       "      <th>Dep_Time</th>\n",
       "      <th>Arrival_Time</th>\n",
       "      <th>Duration</th>\n",
       "      <th>Total_Stops</th>\n",
       "      <th>Additional_Info</th>\n",
       "      <th>Price</th>\n",
       "    </tr>\n",
       "  </thead>\n",
       "  <tbody>\n",
       "    <tr>\n",
       "      <th>0</th>\n",
       "      <td>IndiGo</td>\n",
       "      <td>24/03/2019</td>\n",
       "      <td>Banglore</td>\n",
       "      <td>New Delhi</td>\n",
       "      <td>BLR → DEL</td>\n",
       "      <td>22:20</td>\n",
       "      <td>01:10 22 Mar</td>\n",
       "      <td>2h 50m</td>\n",
       "      <td>non-stop</td>\n",
       "      <td>No info</td>\n",
       "      <td>3897</td>\n",
       "    </tr>\n",
       "    <tr>\n",
       "      <th>1</th>\n",
       "      <td>Air India</td>\n",
       "      <td>1/05/2019</td>\n",
       "      <td>Kolkata</td>\n",
       "      <td>Banglore</td>\n",
       "      <td>CCU → IXR → BBI → BLR</td>\n",
       "      <td>05:50</td>\n",
       "      <td>13:15</td>\n",
       "      <td>7h 25m</td>\n",
       "      <td>2 stops</td>\n",
       "      <td>No info</td>\n",
       "      <td>7662</td>\n",
       "    </tr>\n",
       "    <tr>\n",
       "      <th>2</th>\n",
       "      <td>Jet Airways</td>\n",
       "      <td>9/06/2019</td>\n",
       "      <td>Delhi</td>\n",
       "      <td>Cochin</td>\n",
       "      <td>DEL → LKO → BOM → COK</td>\n",
       "      <td>09:25</td>\n",
       "      <td>04:25 10 Jun</td>\n",
       "      <td>19h</td>\n",
       "      <td>2 stops</td>\n",
       "      <td>No info</td>\n",
       "      <td>13882</td>\n",
       "    </tr>\n",
       "    <tr>\n",
       "      <th>3</th>\n",
       "      <td>IndiGo</td>\n",
       "      <td>12/05/2019</td>\n",
       "      <td>Kolkata</td>\n",
       "      <td>Banglore</td>\n",
       "      <td>CCU → NAG → BLR</td>\n",
       "      <td>18:05</td>\n",
       "      <td>23:30</td>\n",
       "      <td>5h 25m</td>\n",
       "      <td>1 stop</td>\n",
       "      <td>No info</td>\n",
       "      <td>6218</td>\n",
       "    </tr>\n",
       "    <tr>\n",
       "      <th>4</th>\n",
       "      <td>IndiGo</td>\n",
       "      <td>01/03/2019</td>\n",
       "      <td>Banglore</td>\n",
       "      <td>New Delhi</td>\n",
       "      <td>BLR → NAG → DEL</td>\n",
       "      <td>16:50</td>\n",
       "      <td>21:35</td>\n",
       "      <td>4h 45m</td>\n",
       "      <td>1 stop</td>\n",
       "      <td>No info</td>\n",
       "      <td>13302</td>\n",
       "    </tr>\n",
       "    <tr>\n",
       "      <th>...</th>\n",
       "      <td>...</td>\n",
       "      <td>...</td>\n",
       "      <td>...</td>\n",
       "      <td>...</td>\n",
       "      <td>...</td>\n",
       "      <td>...</td>\n",
       "      <td>...</td>\n",
       "      <td>...</td>\n",
       "      <td>...</td>\n",
       "      <td>...</td>\n",
       "      <td>...</td>\n",
       "    </tr>\n",
       "    <tr>\n",
       "      <th>10678</th>\n",
       "      <td>Air Asia</td>\n",
       "      <td>9/04/2019</td>\n",
       "      <td>Kolkata</td>\n",
       "      <td>Banglore</td>\n",
       "      <td>CCU → BLR</td>\n",
       "      <td>19:55</td>\n",
       "      <td>22:25</td>\n",
       "      <td>2h 30m</td>\n",
       "      <td>non-stop</td>\n",
       "      <td>No info</td>\n",
       "      <td>4107</td>\n",
       "    </tr>\n",
       "    <tr>\n",
       "      <th>10679</th>\n",
       "      <td>Air India</td>\n",
       "      <td>27/04/2019</td>\n",
       "      <td>Kolkata</td>\n",
       "      <td>Banglore</td>\n",
       "      <td>CCU → BLR</td>\n",
       "      <td>20:45</td>\n",
       "      <td>23:20</td>\n",
       "      <td>2h 35m</td>\n",
       "      <td>non-stop</td>\n",
       "      <td>No info</td>\n",
       "      <td>4145</td>\n",
       "    </tr>\n",
       "    <tr>\n",
       "      <th>10680</th>\n",
       "      <td>Jet Airways</td>\n",
       "      <td>27/04/2019</td>\n",
       "      <td>Banglore</td>\n",
       "      <td>Delhi</td>\n",
       "      <td>BLR → DEL</td>\n",
       "      <td>08:20</td>\n",
       "      <td>11:20</td>\n",
       "      <td>3h</td>\n",
       "      <td>non-stop</td>\n",
       "      <td>No info</td>\n",
       "      <td>7229</td>\n",
       "    </tr>\n",
       "    <tr>\n",
       "      <th>10681</th>\n",
       "      <td>Vistara</td>\n",
       "      <td>01/03/2019</td>\n",
       "      <td>Banglore</td>\n",
       "      <td>New Delhi</td>\n",
       "      <td>BLR → DEL</td>\n",
       "      <td>11:30</td>\n",
       "      <td>14:10</td>\n",
       "      <td>2h 40m</td>\n",
       "      <td>non-stop</td>\n",
       "      <td>No info</td>\n",
       "      <td>12648</td>\n",
       "    </tr>\n",
       "    <tr>\n",
       "      <th>10682</th>\n",
       "      <td>Air India</td>\n",
       "      <td>9/05/2019</td>\n",
       "      <td>Delhi</td>\n",
       "      <td>Cochin</td>\n",
       "      <td>DEL → GOI → BOM → COK</td>\n",
       "      <td>10:55</td>\n",
       "      <td>19:15</td>\n",
       "      <td>8h 20m</td>\n",
       "      <td>2 stops</td>\n",
       "      <td>No info</td>\n",
       "      <td>11753</td>\n",
       "    </tr>\n",
       "  </tbody>\n",
       "</table>\n",
       "<p>10683 rows × 11 columns</p>\n",
       "</div>"
      ],
      "text/plain": [
       "           Airline Date_of_Journey    Source Destination  \\\n",
       "0           IndiGo      24/03/2019  Banglore   New Delhi   \n",
       "1        Air India       1/05/2019   Kolkata    Banglore   \n",
       "2      Jet Airways       9/06/2019     Delhi      Cochin   \n",
       "3           IndiGo      12/05/2019   Kolkata    Banglore   \n",
       "4           IndiGo      01/03/2019  Banglore   New Delhi   \n",
       "...            ...             ...       ...         ...   \n",
       "10678     Air Asia       9/04/2019   Kolkata    Banglore   \n",
       "10679    Air India      27/04/2019   Kolkata    Banglore   \n",
       "10680  Jet Airways      27/04/2019  Banglore       Delhi   \n",
       "10681      Vistara      01/03/2019  Banglore   New Delhi   \n",
       "10682    Air India       9/05/2019     Delhi      Cochin   \n",
       "\n",
       "                       Route Dep_Time  Arrival_Time Duration Total_Stops  \\\n",
       "0                  BLR → DEL    22:20  01:10 22 Mar   2h 50m    non-stop   \n",
       "1      CCU → IXR → BBI → BLR    05:50         13:15   7h 25m     2 stops   \n",
       "2      DEL → LKO → BOM → COK    09:25  04:25 10 Jun      19h     2 stops   \n",
       "3            CCU → NAG → BLR    18:05         23:30   5h 25m      1 stop   \n",
       "4            BLR → NAG → DEL    16:50         21:35   4h 45m      1 stop   \n",
       "...                      ...      ...           ...      ...         ...   \n",
       "10678              CCU → BLR    19:55         22:25   2h 30m    non-stop   \n",
       "10679              CCU → BLR    20:45         23:20   2h 35m    non-stop   \n",
       "10680              BLR → DEL    08:20         11:20       3h    non-stop   \n",
       "10681              BLR → DEL    11:30         14:10   2h 40m    non-stop   \n",
       "10682  DEL → GOI → BOM → COK    10:55         19:15   8h 20m     2 stops   \n",
       "\n",
       "      Additional_Info  Price  \n",
       "0             No info   3897  \n",
       "1             No info   7662  \n",
       "2             No info  13882  \n",
       "3             No info   6218  \n",
       "4             No info  13302  \n",
       "...               ...    ...  \n",
       "10678         No info   4107  \n",
       "10679         No info   4145  \n",
       "10680         No info   7229  \n",
       "10681         No info  12648  \n",
       "10682         No info  11753  \n",
       "\n",
       "[10683 rows x 11 columns]"
      ]
     },
     "execution_count": 3,
     "metadata": {},
     "output_type": "execute_result"
    }
   ],
   "source": [
    "data=pd.read_excel('Flight_Fare.xlsx')\n",
    "\n",
    "data"
   ]
  },
  {
   "cell_type": "markdown",
   "id": "5b38fcd1",
   "metadata": {},
   "source": [
    "## DOMAIN Analysis"
   ]
  },
  {
   "cell_type": "raw",
   "id": "9410a57d",
   "metadata": {},
   "source": [
    " #Attribute Information :\n",
    "1. Airline: So this column will have all the types of airlines like Indigo, Jet Airways,\n",
    "Air India, and many more.\n",
    "\n",
    "2. Date_of_Journey: This column will let us know about the date on which the\n",
    "passenger’s journey will start.\n",
    "\n",
    "3. Source: This column holds the name of the place from where the passenger’s\n",
    "journey will start.\n",
    "\n",
    "4. Destination: This column holds the name of the place to where passengers\n",
    "wanted to travel.\n",
    "\n",
    "5. Route: Here we can know about what the route is through which passengers\n",
    "have opted to travel from his/her source to their destination.\n",
    "\n",
    "6. Arrival_Time: Arrival time is when the passenger will reach his/her destination.\n",
    "\n",
    "7. Duration: Duration is the whole period that a flight will take to complete its\n",
    "journey from source to destination.\n",
    "\n",
    "8. Total_Stops: This will let us know in how many places flights will stop there for\n",
    "the flight in the whole journey.\n",
    "\n",
    "9. Additional_Info: In this column, we will get information about food, kind of food,\n",
    "and other amenities.\n",
    "\n",
    "10. Price: Price of the flight for a complete journey including all the expenses\n",
    "before onboarding. "
   ]
  },
  {
   "cell_type": "markdown",
   "id": "32cb7856",
   "metadata": {},
   "source": [
    "# Basic Check"
   ]
  },
  {
   "cell_type": "code",
   "execution_count": 4,
   "id": "40683e93",
   "metadata": {
    "scrolled": true
   },
   "outputs": [
    {
     "data": {
      "text/html": [
       "<div>\n",
       "<style scoped>\n",
       "    .dataframe tbody tr th:only-of-type {\n",
       "        vertical-align: middle;\n",
       "    }\n",
       "\n",
       "    .dataframe tbody tr th {\n",
       "        vertical-align: top;\n",
       "    }\n",
       "\n",
       "    .dataframe thead th {\n",
       "        text-align: right;\n",
       "    }\n",
       "</style>\n",
       "<table border=\"1\" class=\"dataframe\">\n",
       "  <thead>\n",
       "    <tr style=\"text-align: right;\">\n",
       "      <th></th>\n",
       "      <th>Airline</th>\n",
       "      <th>Date_of_Journey</th>\n",
       "      <th>Source</th>\n",
       "      <th>Destination</th>\n",
       "      <th>Route</th>\n",
       "      <th>Dep_Time</th>\n",
       "      <th>Arrival_Time</th>\n",
       "      <th>Duration</th>\n",
       "      <th>Total_Stops</th>\n",
       "      <th>Additional_Info</th>\n",
       "      <th>Price</th>\n",
       "    </tr>\n",
       "  </thead>\n",
       "  <tbody>\n",
       "    <tr>\n",
       "      <th>0</th>\n",
       "      <td>IndiGo</td>\n",
       "      <td>24/03/2019</td>\n",
       "      <td>Banglore</td>\n",
       "      <td>New Delhi</td>\n",
       "      <td>BLR → DEL</td>\n",
       "      <td>22:20</td>\n",
       "      <td>01:10 22 Mar</td>\n",
       "      <td>2h 50m</td>\n",
       "      <td>non-stop</td>\n",
       "      <td>No info</td>\n",
       "      <td>3897</td>\n",
       "    </tr>\n",
       "    <tr>\n",
       "      <th>1</th>\n",
       "      <td>Air India</td>\n",
       "      <td>1/05/2019</td>\n",
       "      <td>Kolkata</td>\n",
       "      <td>Banglore</td>\n",
       "      <td>CCU → IXR → BBI → BLR</td>\n",
       "      <td>05:50</td>\n",
       "      <td>13:15</td>\n",
       "      <td>7h 25m</td>\n",
       "      <td>2 stops</td>\n",
       "      <td>No info</td>\n",
       "      <td>7662</td>\n",
       "    </tr>\n",
       "    <tr>\n",
       "      <th>2</th>\n",
       "      <td>Jet Airways</td>\n",
       "      <td>9/06/2019</td>\n",
       "      <td>Delhi</td>\n",
       "      <td>Cochin</td>\n",
       "      <td>DEL → LKO → BOM → COK</td>\n",
       "      <td>09:25</td>\n",
       "      <td>04:25 10 Jun</td>\n",
       "      <td>19h</td>\n",
       "      <td>2 stops</td>\n",
       "      <td>No info</td>\n",
       "      <td>13882</td>\n",
       "    </tr>\n",
       "    <tr>\n",
       "      <th>3</th>\n",
       "      <td>IndiGo</td>\n",
       "      <td>12/05/2019</td>\n",
       "      <td>Kolkata</td>\n",
       "      <td>Banglore</td>\n",
       "      <td>CCU → NAG → BLR</td>\n",
       "      <td>18:05</td>\n",
       "      <td>23:30</td>\n",
       "      <td>5h 25m</td>\n",
       "      <td>1 stop</td>\n",
       "      <td>No info</td>\n",
       "      <td>6218</td>\n",
       "    </tr>\n",
       "    <tr>\n",
       "      <th>4</th>\n",
       "      <td>IndiGo</td>\n",
       "      <td>01/03/2019</td>\n",
       "      <td>Banglore</td>\n",
       "      <td>New Delhi</td>\n",
       "      <td>BLR → NAG → DEL</td>\n",
       "      <td>16:50</td>\n",
       "      <td>21:35</td>\n",
       "      <td>4h 45m</td>\n",
       "      <td>1 stop</td>\n",
       "      <td>No info</td>\n",
       "      <td>13302</td>\n",
       "    </tr>\n",
       "  </tbody>\n",
       "</table>\n",
       "</div>"
      ],
      "text/plain": [
       "       Airline Date_of_Journey    Source Destination                  Route  \\\n",
       "0       IndiGo      24/03/2019  Banglore   New Delhi              BLR → DEL   \n",
       "1    Air India       1/05/2019   Kolkata    Banglore  CCU → IXR → BBI → BLR   \n",
       "2  Jet Airways       9/06/2019     Delhi      Cochin  DEL → LKO → BOM → COK   \n",
       "3       IndiGo      12/05/2019   Kolkata    Banglore        CCU → NAG → BLR   \n",
       "4       IndiGo      01/03/2019  Banglore   New Delhi        BLR → NAG → DEL   \n",
       "\n",
       "  Dep_Time  Arrival_Time Duration Total_Stops Additional_Info  Price  \n",
       "0    22:20  01:10 22 Mar   2h 50m    non-stop         No info   3897  \n",
       "1    05:50         13:15   7h 25m     2 stops         No info   7662  \n",
       "2    09:25  04:25 10 Jun      19h     2 stops         No info  13882  \n",
       "3    18:05         23:30   5h 25m      1 stop         No info   6218  \n",
       "4    16:50         21:35   4h 45m      1 stop         No info  13302  "
      ]
     },
     "execution_count": 4,
     "metadata": {},
     "output_type": "execute_result"
    }
   ],
   "source": [
    "# chech the first five rows\n",
    "data.head()"
   ]
  },
  {
   "cell_type": "code",
   "execution_count": 5,
   "id": "fa0b6292",
   "metadata": {},
   "outputs": [
    {
     "data": {
      "text/plain": [
       "(10683, 11)"
      ]
     },
     "execution_count": 5,
     "metadata": {},
     "output_type": "execute_result"
    }
   ],
   "source": [
    "# check the all rows and columns counts.\n",
    "data.shape"
   ]
  },
  {
   "cell_type": "code",
   "execution_count": 6,
   "id": "fb752d52",
   "metadata": {
    "scrolled": true
   },
   "outputs": [
    {
     "name": "stdout",
     "output_type": "stream",
     "text": [
      "<class 'pandas.core.frame.DataFrame'>\n",
      "RangeIndex: 10683 entries, 0 to 10682\n",
      "Data columns (total 11 columns):\n",
      " #   Column           Non-Null Count  Dtype \n",
      "---  ------           --------------  ----- \n",
      " 0   Airline          10683 non-null  object\n",
      " 1   Date_of_Journey  10683 non-null  object\n",
      " 2   Source           10683 non-null  object\n",
      " 3   Destination      10683 non-null  object\n",
      " 4   Route            10682 non-null  object\n",
      " 5   Dep_Time         10683 non-null  object\n",
      " 6   Arrival_Time     10683 non-null  object\n",
      " 7   Duration         10683 non-null  object\n",
      " 8   Total_Stops      10682 non-null  object\n",
      " 9   Additional_Info  10683 non-null  object\n",
      " 10  Price            10683 non-null  int64 \n",
      "dtypes: int64(1), object(10)\n",
      "memory usage: 918.2+ KB\n"
     ]
    }
   ],
   "source": [
    "# check the all columns with datatype\n",
    "data.info()"
   ]
  },
  {
   "cell_type": "code",
   "execution_count": 7,
   "id": "312b978a",
   "metadata": {},
   "outputs": [
    {
     "data": {
      "text/html": [
       "<div>\n",
       "<style scoped>\n",
       "    .dataframe tbody tr th:only-of-type {\n",
       "        vertical-align: middle;\n",
       "    }\n",
       "\n",
       "    .dataframe tbody tr th {\n",
       "        vertical-align: top;\n",
       "    }\n",
       "\n",
       "    .dataframe thead th {\n",
       "        text-align: right;\n",
       "    }\n",
       "</style>\n",
       "<table border=\"1\" class=\"dataframe\">\n",
       "  <thead>\n",
       "    <tr style=\"text-align: right;\">\n",
       "      <th></th>\n",
       "      <th>Price</th>\n",
       "    </tr>\n",
       "  </thead>\n",
       "  <tbody>\n",
       "    <tr>\n",
       "      <th>count</th>\n",
       "      <td>10683.000000</td>\n",
       "    </tr>\n",
       "    <tr>\n",
       "      <th>mean</th>\n",
       "      <td>9087.064121</td>\n",
       "    </tr>\n",
       "    <tr>\n",
       "      <th>std</th>\n",
       "      <td>4611.359167</td>\n",
       "    </tr>\n",
       "    <tr>\n",
       "      <th>min</th>\n",
       "      <td>1759.000000</td>\n",
       "    </tr>\n",
       "    <tr>\n",
       "      <th>25%</th>\n",
       "      <td>5277.000000</td>\n",
       "    </tr>\n",
       "    <tr>\n",
       "      <th>50%</th>\n",
       "      <td>8372.000000</td>\n",
       "    </tr>\n",
       "    <tr>\n",
       "      <th>75%</th>\n",
       "      <td>12373.000000</td>\n",
       "    </tr>\n",
       "    <tr>\n",
       "      <th>max</th>\n",
       "      <td>79512.000000</td>\n",
       "    </tr>\n",
       "  </tbody>\n",
       "</table>\n",
       "</div>"
      ],
      "text/plain": [
       "              Price\n",
       "count  10683.000000\n",
       "mean    9087.064121\n",
       "std     4611.359167\n",
       "min     1759.000000\n",
       "25%     5277.000000\n",
       "50%     8372.000000\n",
       "75%    12373.000000\n",
       "max    79512.000000"
      ]
     },
     "execution_count": 7,
     "metadata": {},
     "output_type": "execute_result"
    }
   ],
   "source": [
    "# check the statistic mathmatic information as mean,average,max and min etc.\n",
    "data.describe()"
   ]
  },
  {
   "cell_type": "raw",
   "id": "e95eeab7",
   "metadata": {},
   "source": [
    "# The Average flight fare price is 9087.064.\n",
    "# Maximum fare is 79512 and minimum fare is 1759."
   ]
  },
  {
   "cell_type": "code",
   "execution_count": 8,
   "id": "35f2575f",
   "metadata": {
    "scrolled": true
   },
   "outputs": [
    {
     "data": {
      "text/html": [
       "<div>\n",
       "<style scoped>\n",
       "    .dataframe tbody tr th:only-of-type {\n",
       "        vertical-align: middle;\n",
       "    }\n",
       "\n",
       "    .dataframe tbody tr th {\n",
       "        vertical-align: top;\n",
       "    }\n",
       "\n",
       "    .dataframe thead th {\n",
       "        text-align: right;\n",
       "    }\n",
       "</style>\n",
       "<table border=\"1\" class=\"dataframe\">\n",
       "  <thead>\n",
       "    <tr style=\"text-align: right;\">\n",
       "      <th></th>\n",
       "      <th>Airline</th>\n",
       "      <th>Date_of_Journey</th>\n",
       "      <th>Source</th>\n",
       "      <th>Destination</th>\n",
       "      <th>Route</th>\n",
       "      <th>Dep_Time</th>\n",
       "      <th>Arrival_Time</th>\n",
       "      <th>Duration</th>\n",
       "      <th>Total_Stops</th>\n",
       "      <th>Additional_Info</th>\n",
       "    </tr>\n",
       "  </thead>\n",
       "  <tbody>\n",
       "    <tr>\n",
       "      <th>count</th>\n",
       "      <td>10683</td>\n",
       "      <td>10683</td>\n",
       "      <td>10683</td>\n",
       "      <td>10683</td>\n",
       "      <td>10682</td>\n",
       "      <td>10683</td>\n",
       "      <td>10683</td>\n",
       "      <td>10683</td>\n",
       "      <td>10682</td>\n",
       "      <td>10683</td>\n",
       "    </tr>\n",
       "    <tr>\n",
       "      <th>unique</th>\n",
       "      <td>12</td>\n",
       "      <td>44</td>\n",
       "      <td>5</td>\n",
       "      <td>6</td>\n",
       "      <td>128</td>\n",
       "      <td>222</td>\n",
       "      <td>1343</td>\n",
       "      <td>368</td>\n",
       "      <td>5</td>\n",
       "      <td>10</td>\n",
       "    </tr>\n",
       "    <tr>\n",
       "      <th>top</th>\n",
       "      <td>Jet Airways</td>\n",
       "      <td>18/05/2019</td>\n",
       "      <td>Delhi</td>\n",
       "      <td>Cochin</td>\n",
       "      <td>DEL → BOM → COK</td>\n",
       "      <td>18:55</td>\n",
       "      <td>19:00</td>\n",
       "      <td>2h 50m</td>\n",
       "      <td>1 stop</td>\n",
       "      <td>No info</td>\n",
       "    </tr>\n",
       "    <tr>\n",
       "      <th>freq</th>\n",
       "      <td>3849</td>\n",
       "      <td>504</td>\n",
       "      <td>4537</td>\n",
       "      <td>4537</td>\n",
       "      <td>2376</td>\n",
       "      <td>233</td>\n",
       "      <td>423</td>\n",
       "      <td>550</td>\n",
       "      <td>5625</td>\n",
       "      <td>8345</td>\n",
       "    </tr>\n",
       "  </tbody>\n",
       "</table>\n",
       "</div>"
      ],
      "text/plain": [
       "            Airline Date_of_Journey Source Destination            Route  \\\n",
       "count         10683           10683  10683       10683            10682   \n",
       "unique           12              44      5           6              128   \n",
       "top     Jet Airways      18/05/2019  Delhi      Cochin  DEL → BOM → COK   \n",
       "freq           3849             504   4537        4537             2376   \n",
       "\n",
       "       Dep_Time Arrival_Time Duration Total_Stops Additional_Info  \n",
       "count     10683        10683    10683       10682           10683  \n",
       "unique      222         1343      368           5              10  \n",
       "top       18:55        19:00   2h 50m      1 stop         No info  \n",
       "freq        233          423      550        5625            8345  "
      ]
     },
     "execution_count": 8,
     "metadata": {},
     "output_type": "execute_result"
    }
   ],
   "source": [
    "# check the statastic mathematic information of objects columns\n",
    "data.describe(include=['O'])"
   ]
  },
  {
   "cell_type": "raw",
   "id": "69881ad1",
   "metadata": {},
   "source": [
    "# 1) Airline : We can see airline ,there are 12 unique labels present like IndiGo,Air India,Jet Airways,SpiceJet,Multiple carriers,GoAir,Vistara,Air Asia,\n",
    "Vistara Premium economy,Jet Airways Business,Multiple carriers Premium economy,Trujet, But most Frequently Used Airline is Jet Airways.\n",
    "\n",
    "# 2) Date_of_Journey: In the Date_of_Journey, There are 44 Unique Labels present in columns,Date 8/05/2019 is most frequent travel started on this date.\n",
    "\n",
    "# 3) Source: We can see in Source,There is 5 Unique labels like Delhi,Kolkata,bangalore, mumbai and chennai.And the most frequent Source of journey started from delhi.\n",
    "\n",
    "# 4) Route: In the route We can see Maximum passengers have used the Del-Bom-Cok route.\n",
    "\n",
    "# 5) Destination: In the Destination,There are 6 Diffrent Destination cochin ,Bangalore,Delhi,New Delhi,Hydrabad and kolkata.We can see Maximum Passengers Have traveled to cochin.\n",
    "\n",
    "# 6) Dep_Time: In the Dep_Time,There are diffrent departure time and Maximum passengers have departure time as 18:55.\n",
    "\n",
    "# 7) Arrival_Time: In the Arrival_Time,There are diffrent Arrival_Time.maximum passenger have Arrival_Time as 19:00.\n",
    "\n",
    "# 8) Duration :in the Duration,We can see There are 1343 diffrent duration.Maximum passenger have traveled duration as 2hours 50 mins to reached their destination.\n",
    "\n",
    "# 9) Total_Stops :In the Total_Stops ,there are 5 diffrent stopage place \n",
    "1 stop, Non-stop, 2-stops,3-stops and 4-stops.Maximum passengers have reached their destination in 1 stop.\n",
    "\n",
    "# 10) Additional_Info: In the Additional_Info , What kind of facilities passengers have got while traveling. Maximum passengers have No inforamtion about amenties.\n",
    "    "
   ]
  },
  {
   "cell_type": "markdown",
   "id": "14589761",
   "metadata": {},
   "source": [
    "# Exploratory Data Analysis"
   ]
  },
  {
   "cell_type": "markdown",
   "id": "e846afd2",
   "metadata": {},
   "source": [
    "## Univariate Analysis"
   ]
  },
  {
   "cell_type": "markdown",
   "id": "d51c7a17",
   "metadata": {},
   "source": [
    "## Airline"
   ]
  },
  {
   "cell_type": "code",
   "execution_count": 9,
   "id": "eb95214b",
   "metadata": {},
   "outputs": [
    {
     "data": {
      "text/plain": [
       "<Axes: xlabel='Airline', ylabel='count'>"
      ]
     },
     "execution_count": 9,
     "metadata": {},
     "output_type": "execute_result"
    },
    {
     "data": {
      "image/png": "[encoded data removed]",
      "text/plain": [
       "<Figure size 800x800 with 1 Axes>"
      ]
     },
     "metadata": {},
     "output_type": "display_data"
    }
   ],
   "source": [
    "# Airline Analysis \n",
    "plt.figure(figsize=(8,8))\n",
    "sns.countplot(x='Airline',data=data)"
   ]
  },
  {
   "cell_type": "raw",
   "id": "4c003102",
   "metadata": {},
   "source": [
    "# approximately 3800 passenger have traveled in jet Airways flight."
   ]
  },
  {
   "cell_type": "markdown",
   "id": "2707de85",
   "metadata": {},
   "source": [
    "### The Columns Date_of_Journey,Dep_Time and Arrival_Time is Object and we need to convert into date and time"
   ]
  },
  {
   "cell_type": "code",
   "execution_count": 10,
   "id": "741dae81",
   "metadata": {},
   "outputs": [],
   "source": [
    "# The Columns Date_of_Journey,Dep_Time and Arrival_Time is Object and we need to convert into date and time.\n",
    "def convert_into_datetime(columns):\n",
    "    data[columns]=pd.to_datetime(data[columns]) # Convert columns in pandas dataframe to the datetime datatype using the pd.to_datetime"
   ]
  },
  {
   "cell_type": "code",
   "execution_count": 11,
   "id": "bc03c6d4",
   "metadata": {},
   "outputs": [],
   "source": [
    "# Converting the columns into Datetime using for loop\n",
    "for i in ['Date_of_Journey','Dep_Time','Arrival_Time']:  \n",
    "    convert_into_datetime(i)        "
   ]
  },
  {
   "cell_type": "markdown",
   "id": "21cc4739",
   "metadata": {},
   "source": [
    "# Date_of_Journey"
   ]
  },
  {
   "cell_type": "code",
   "execution_count": 12,
   "id": "e98d5e4a",
   "metadata": {},
   "outputs": [],
   "source": [
    "data['Journey_Day']=data['Date_of_Journey'].dt.day     # Extracts the day from Date_of_Journey using dt.day and assing in new column Journey_Day.\n",
    "data['Journey_Month']=data['Date_of_Journey'].dt.month  # Extracts the Month from Date_of_Journey using dt.day and assing in new column Journey_Month."
   ]
  },
  {
   "cell_type": "code",
   "execution_count": 13,
   "id": "6b1a3292",
   "metadata": {},
   "outputs": [],
   "source": [
    "# Drop the Date_of_Journey\n",
    "data.drop('Date_of_Journey',axis=1,inplace=True)  # Extract the new columns journey_day and journey_month from Date_of_Journey so that's why drop this column"
   ]
  },
  {
   "cell_type": "code",
   "execution_count": 14,
   "id": "84d7284a",
   "metadata": {
    "scrolled": false
   },
   "outputs": [
    {
     "data": {
      "text/plain": [
       "<Axes: xlabel='Journey_Month', ylabel='count'>"
      ]
     },
     "execution_count": 14,
     "metadata": {},
     "output_type": "execute_result"
    },
    {
     "data": {
      "image/png": "[encoded data removed]",
      "text/plain": [
       "<Figure size 640x480 with 1 Axes>"
      ]
     },
     "metadata": {},
     "output_type": "display_data"
    }
   ],
   "source": [
    "#Analysis Journey months columns which months have passengers traveled more.\n",
    "sns.countplot(x='Journey_Month',data=data)"
   ]
  },
  {
   "cell_type": "raw",
   "id": "5736420b",
   "metadata": {},
   "source": [
    "# more then 2500 passengers have traveled in June month.\n",
    "# minimum passengers have traveled in April month."
   ]
  },
  {
   "cell_type": "markdown",
   "id": "9bbce662",
   "metadata": {},
   "source": [
    "# Dep_Time"
   ]
  },
  {
   "cell_type": "code",
   "execution_count": 15,
   "id": "23ea3bca",
   "metadata": {},
   "outputs": [],
   "source": [
    "# Converting the Dep_time into Dep_time_hour and Dep_time_min\n",
    "data['Dep_time_hour']=data['Dep_Time'].dt.hour  # Extract the hour from Dep_Time using dt.hour and assing in the new column Dep_time_hour\n",
    "data['Dep_time_min']=data['Dep_Time'].dt.minute  # Extract the min from Dep_time using dt.min and assing in new column Dep_time_min."
   ]
  },
  {
   "cell_type": "code",
   "execution_count": 16,
   "id": "99432f01",
   "metadata": {},
   "outputs": [],
   "source": [
    "# Drop the Dep_time Colunms\n",
    "data.drop('Dep_Time',axis=1,inplace=True) # Extract the new columns Dep_time_hour and Dep_time_min so that's why removing the Dep_time column."
   ]
  },
  {
   "cell_type": "code",
   "execution_count": 17,
   "id": "6b664a27",
   "metadata": {},
   "outputs": [
    {
     "data": {
      "text/plain": [
       "<Axes: xlabel='Dep_time_hour', ylabel='Count'>"
      ]
     },
     "execution_count": 17,
     "metadata": {},
     "output_type": "execute_result"
    },
    {
     "data": {
      "image/png": "[encoded data removed]",
      "text/plain": [
       "<Figure size 640x480 with 1 Axes>"
      ]
     },
     "metadata": {},
     "output_type": "display_data"
    }
   ],
   "source": [
    "#Analysis Dep_Time_hour\n",
    "sns.histplot(x='Dep_time_hour',data=data)"
   ]
  },
  {
   "cell_type": "raw",
   "id": "9bcf0adc",
   "metadata": {},
   "source": [
    "# Maximum passengers have deperture time as 9 dep_time_hour and minimum passengers have dep_time_hour as 3 to 4 depature range. "
   ]
  },
  {
   "cell_type": "markdown",
   "id": "7996babe",
   "metadata": {},
   "source": [
    "# Arrival_Time"
   ]
  },
  {
   "cell_type": "code",
   "execution_count": 18,
   "id": "5a0fa5f4",
   "metadata": {},
   "outputs": [],
   "source": [
    "#Converting the Arrival_Time into Arrival_Time_hour and Arrival_Time_min\n",
    "data['Arrival_Time_hour']=data['Arrival_Time'].dt.hour  ## Extract the hour from Arrival_Time using dt.hour and assing in the new column Arrival_Time_hour.\n",
    "data['Arrival_Time_min']=data['Arrival_Time'].dt.minute  # Extract the hour from Arrival_Time using dt.min and assing in the new column Arrival_Time_min."
   ]
  },
  {
   "cell_type": "code",
   "execution_count": 19,
   "id": "a6d5efe5",
   "metadata": {},
   "outputs": [],
   "source": [
    "# Drop The Arrival_Time columns\n",
    "data.drop('Arrival_Time',axis=1,inplace=True)  # Extract the new columns Arrival_Time_hour and Arrival_Time_min so that's why removing the Arrival_Time column."
   ]
  },
  {
   "cell_type": "code",
   "execution_count": 20,
   "id": "a9aa7db4",
   "metadata": {},
   "outputs": [
    {
     "data": {
      "text/plain": [
       "<Axes: xlabel='Arrival_Time_hour', ylabel='count'>"
      ]
     },
     "execution_count": 20,
     "metadata": {},
     "output_type": "execute_result"
    },
    {
     "data": {
      "image/png": "[encoded data removed]",
      "text/plain": [
       "<Figure size 640x480 with 1 Axes>"
      ]
     },
     "metadata": {},
     "output_type": "display_data"
    }
   ],
   "source": [
    "# Analysis the Arrival_Time_hour\n",
    "sns.countplot(x='Arrival_Time_hour',data=data)"
   ]
  },
  {
   "cell_type": "raw",
   "id": "8fa3a31a",
   "metadata": {},
   "source": [
    "# We can see in Arrival_Time_hour, Maximum passengers have Arrival_Time_hour as 19.\n",
    "#Minimum passengers have Arrival_Time_hour as 6."
   ]
  },
  {
   "cell_type": "markdown",
   "id": "3874fb0a",
   "metadata": {},
   "source": [
    "# Duration"
   ]
  },
  {
   "cell_type": "code",
   "execution_count": 21,
   "id": "ccc1c32f",
   "metadata": {},
   "outputs": [],
   "source": [
    "# using the for loop in Duration where we need to split the hour and minute.\n",
    "duration=list(data['Duration'])  #Create the list duration and contain the value from Duration\n",
    "for i in range(len(duration)):  # loop will run over each element inthe duration list\n",
    "    if len(duration[i].split(' '))==2:  # if the value at index i can be split using space('') into two part.\n",
    "        pass                            # Above condition is true continue.\n",
    "    else:\n",
    "        if 'h' in duration[i]: # Check if duration contains only hour\n",
    "             duration[i]=duration[i] + ' 0m' # Adds 0 minute\n",
    "        else:\n",
    "             duration[i]='0h '+ duration[i]  # Add 0 hour when only minute is present."
   ]
  },
  {
   "cell_type": "code",
   "execution_count": 22,
   "id": "00ccf6ce",
   "metadata": {},
   "outputs": [],
   "source": [
    "data['Duration']=duration    # Duration columns is equal to duration list"
   ]
  },
  {
   "cell_type": "code",
   "execution_count": 23,
   "id": "aadcb713",
   "metadata": {},
   "outputs": [],
   "source": [
    "# Define the hour function\n",
    "def hour(x):\n",
    "    return x.split(' ')[0][0:-1] # get the hour value using the slicing\n",
    "## Define the min function\n",
    "def minutes(x):\n",
    "    return x.split(' ')[1][0:-1]  #get the min value using the slicing"
   ]
  },
  {
   "cell_type": "code",
   "execution_count": 24,
   "id": "41d09504",
   "metadata": {},
   "outputs": [],
   "source": [
    "data['dur_hour']=data['Duration'].apply(hour)  # creating the new columns dur_hour"
   ]
  },
  {
   "cell_type": "code",
   "execution_count": 25,
   "id": "157cf71d",
   "metadata": {},
   "outputs": [],
   "source": [
    "data['dur_min']=data['Duration'].apply(minutes)  # creating the new columns dur_min"
   ]
  },
  {
   "cell_type": "code",
   "execution_count": 26,
   "id": "2e991b1b",
   "metadata": {},
   "outputs": [],
   "source": [
    "# drop the Duration Columns\n",
    "data.drop('Duration',axis=1,inplace=True)"
   ]
  },
  {
   "cell_type": "code",
   "execution_count": 27,
   "id": "5ef41da7",
   "metadata": {},
   "outputs": [],
   "source": [
    "data['dur_hour'] = data['dur_hour'].astype(int)\n",
    "data['dur_min'] = data['dur_min'].astype(int)"
   ]
  },
  {
   "cell_type": "code",
   "execution_count": 28,
   "id": "d693e1af",
   "metadata": {},
   "outputs": [
    {
     "data": {
      "text/plain": [
       "<Axes: xlabel='dur_hour', ylabel='Count'>"
      ]
     },
     "execution_count": 28,
     "metadata": {},
     "output_type": "execute_result"
    },
    {
     "data": {
      "image/png": "[encoded data removed]",
      "text/plain": [
       "<Figure size 640x480 with 1 Axes>"
      ]
     },
     "metadata": {},
     "output_type": "display_data"
    }
   ],
   "source": [
    "# Analysis the dur_hour\n",
    "sns.histplot(x='dur_hour',data=data)"
   ]
  },
  {
   "cell_type": "raw",
   "id": "74641833",
   "metadata": {},
   "source": [
    "# We can see dur_hour, maximum passengers have travel duration hour as 1 to 2 hours.\n",
    "# Minimum passengers have travel duration hour as 40 to 41 hours."
   ]
  },
  {
   "cell_type": "markdown",
   "id": "305f2d54",
   "metadata": {},
   "source": [
    "## Source"
   ]
  },
  {
   "cell_type": "code",
   "execution_count": 29,
   "id": "579e64f8",
   "metadata": {},
   "outputs": [
    {
     "data": {
      "text/plain": [
       "<Axes: xlabel='Source', ylabel='count'>"
      ]
     },
     "execution_count": 29,
     "metadata": {},
     "output_type": "execute_result"
    },
    {
     "data": {
      "image/png": "[encoded data removed]",
      "text/plain": [
       "<Figure size 640x480 with 1 Axes>"
      ]
     },
     "metadata": {},
     "output_type": "display_data"
    }
   ],
   "source": [
    "# Anlaysis Source\n",
    "sns.countplot(x='Source',data=data)"
   ]
  },
  {
   "cell_type": "raw",
   "id": "74c52577",
   "metadata": {},
   "source": [
    "# We can see in Source, More then 4500 passengers have started their journey from Delhi.\n",
    "# Near to 3000 passengers have started their journey from kollata.\n",
    "# Minimum passeners have started their journey from chennai."
   ]
  },
  {
   "cell_type": "markdown",
   "id": "379f38f3",
   "metadata": {},
   "source": [
    "## Destination"
   ]
  },
  {
   "cell_type": "code",
   "execution_count": 30,
   "id": "c9f0f81d",
   "metadata": {},
   "outputs": [
    {
     "data": {
      "text/plain": [
       "<Axes: xlabel='Destination', ylabel='count'>"
      ]
     },
     "execution_count": 30,
     "metadata": {},
     "output_type": "execute_result"
    },
    {
     "data": {
      "image/png": "[encoded data removed]",
      "text/plain": [
       "<Figure size 640x480 with 1 Axes>"
      ]
     },
     "metadata": {},
     "output_type": "display_data"
    }
   ],
   "source": [
    "# Analysis Desitination\n",
    "sns.countplot(x='Destination',data=data)"
   ]
  },
  {
   "cell_type": "raw",
   "id": "3b55ca69",
   "metadata": {},
   "source": [
    "# We can see in Destination, more then 4000 passengers wanted to travelto cochin.\n",
    "# Near to 3000 passengers wanted to travel to Bangalore and more 1000 passengers wanted to travel to Delhi.\n",
    "# Minimum Passenger have traveled to kolkata."
   ]
  },
  {
   "cell_type": "markdown",
   "id": "f97f1cbb",
   "metadata": {},
   "source": [
    "## Route"
   ]
  },
  {
   "cell_type": "code",
   "execution_count": 31,
   "id": "675c72b7",
   "metadata": {},
   "outputs": [
    {
     "data": {
      "text/plain": [
       "<Axes: xlabel='Route', ylabel='count'>"
      ]
     },
     "execution_count": 31,
     "metadata": {},
     "output_type": "execute_result"
    },
    {
     "data": {
      "image/png": "[encoded data removed]",
      "text/plain": [
       "<Figure size 2000x2000 with 1 Axes>"
      ]
     },
     "metadata": {},
     "output_type": "display_data"
    }
   ],
   "source": [
    "# Analysis Route\n",
    "plt.figure(figsize=(20,20))\n",
    "sns.countplot(x='Route',data=data)"
   ]
  },
  {
   "cell_type": "raw",
   "id": "3542b170",
   "metadata": {},
   "source": [
    "# We can see in Route,Maximum passenger have strated their journey from Del-Bom-Cok and then Blr-Del they have started their jouney."
   ]
  },
  {
   "cell_type": "code",
   "execution_count": 32,
   "id": "4f4560ff",
   "metadata": {},
   "outputs": [
    {
     "data": {
      "text/plain": [
       "DEL → BOM → COK          2376\n",
       "BLR → DEL                1552\n",
       "CCU → BOM → BLR           979\n",
       "CCU → BLR                 724\n",
       "BOM → HYD                 621\n",
       "                         ... \n",
       "CCU → VTZ → BLR             1\n",
       "CCU → IXZ → MAA → BLR       1\n",
       "BOM → COK → MAA → HYD       1\n",
       "BOM → CCU → HYD             1\n",
       "BOM → BBI → HYD             1\n",
       "Name: Route, Length: 128, dtype: int64"
      ]
     },
     "execution_count": 32,
     "metadata": {},
     "output_type": "execute_result"
    }
   ],
   "source": [
    "# check the Route categories with counts\n",
    "data.Route.value_counts()"
   ]
  },
  {
   "cell_type": "markdown",
   "id": "ae01028d",
   "metadata": {},
   "source": [
    "## Total Stops"
   ]
  },
  {
   "cell_type": "code",
   "execution_count": 33,
   "id": "82a0be3e",
   "metadata": {},
   "outputs": [
    {
     "data": {
      "text/plain": [
       "<Axes: xlabel='Total_Stops', ylabel='count'>"
      ]
     },
     "execution_count": 33,
     "metadata": {},
     "output_type": "execute_result"
    },
    {
     "data": {
      "image/png": "[encoded data removed]",
      "text/plain": [
       "<Figure size 640x480 with 1 Axes>"
      ]
     },
     "metadata": {},
     "output_type": "display_data"
    }
   ],
   "source": [
    "# Anslysis Total stops\n",
    "sns.countplot(x='Total_Stops',data=data)"
   ]
  },
  {
   "cell_type": "raw",
   "id": "a9c970bc",
   "metadata": {},
   "source": [
    "# We can see in Total_Stops, More then 5000 passenger have traveled with 1 stop flights. \n",
    "# 3500 passenger have traveled with non stop flights.\n",
    "# Very less passenger have traveled with 3 stops and 4 stops."
   ]
  },
  {
   "cell_type": "markdown",
   "id": "ec3e9aab",
   "metadata": {},
   "source": [
    "## Additional_Info"
   ]
  },
  {
   "cell_type": "code",
   "execution_count": 34,
   "id": "33c50f9a",
   "metadata": {},
   "outputs": [
    {
     "data": {
      "text/plain": [
       "<Axes: xlabel='Additional_Info', ylabel='count'>"
      ]
     },
     "execution_count": 34,
     "metadata": {},
     "output_type": "execute_result"
    },
    {
     "data": {
      "image/png": "[encoded data removed]",
      "text/plain": [
       "<Figure size 2000x2000 with 1 Axes>"
      ]
     },
     "metadata": {},
     "output_type": "display_data"
    }
   ],
   "source": [
    "# Analysis Additional_Info\n",
    "plt.figure(figsize=(20,20))\n",
    "sns.countplot(x='Additional_Info',data=data)"
   ]
  },
  {
   "cell_type": "raw",
   "id": "ff7d8adc",
   "metadata": {},
   "source": [
    "# We can seen in Additional_Info,maximum passenger have traveled with No info details,then In-flight meal not included."
   ]
  },
  {
   "cell_type": "markdown",
   "id": "fe0b7fcb",
   "metadata": {},
   "source": [
    "## Price"
   ]
  },
  {
   "cell_type": "code",
   "execution_count": 35,
   "id": "95c3e1e2",
   "metadata": {},
   "outputs": [
    {
     "data": {
      "text/plain": [
       "<Axes: xlabel='Price', ylabel='Count'>"
      ]
     },
     "execution_count": 35,
     "metadata": {},
     "output_type": "execute_result"
    },
    {
     "data": {
      "image/png": "[encoded data removed]",
      "text/plain": [
       "<Figure size 640x480 with 1 Axes>"
      ]
     },
     "metadata": {},
     "output_type": "display_data"
    }
   ],
   "source": [
    "# Analysis the Price\n",
    "sns.histplot(x='Price',data=data)"
   ]
  },
  {
   "cell_type": "code",
   "execution_count": 36,
   "id": "e0a649d7",
   "metadata": {},
   "outputs": [
    {
     "data": {
      "text/plain": [
       "10262    258\n",
       "10844    212\n",
       "7229     162\n",
       "4804     160\n",
       "4823     131\n",
       "        ... \n",
       "14153      1\n",
       "8488       1\n",
       "7826       1\n",
       "6315       1\n",
       "12648      1\n",
       "Name: Price, Length: 1870, dtype: int64"
      ]
     },
     "execution_count": 36,
     "metadata": {},
     "output_type": "execute_result"
    }
   ],
   "source": [
    "data.Price.value_counts()  # Check the price value counts"
   ]
  },
  {
   "cell_type": "markdown",
   "id": "ea7900e9",
   "metadata": {},
   "source": [
    "# Bivariate Analysis"
   ]
  },
  {
   "cell_type": "code",
   "execution_count": 37,
   "id": "aba39800",
   "metadata": {},
   "outputs": [
    {
     "data": {
      "text/plain": [
       "<Axes: xlabel='Airline', ylabel='Price'>"
      ]
     },
     "execution_count": 37,
     "metadata": {},
     "output_type": "execute_result"
    },
    {
     "data": {
      "image/png": "[encoded data removed]",
      "text/plain": [
       "<Figure size 1500x1000 with 1 Axes>"
      ]
     },
     "metadata": {},
     "output_type": "display_data"
    }
   ],
   "source": [
    "# Analyzing the relationship between airline and month with target variable\n",
    "plt.figure(figsize=(15,10))\n",
    "sns.boxplot(x='Airline',y='Price',data=data)"
   ]
  },
  {
   "cell_type": "raw",
   "id": "575d7840",
   "metadata": {},
   "source": [
    "# In This Graph we can see that Jet Airways Business Have Highest fare for flight fare as compare the other flight fare."
   ]
  },
  {
   "cell_type": "code",
   "execution_count": 38,
   "id": "579566a8",
   "metadata": {
    "scrolled": false
   },
   "outputs": [
    {
     "data": {
      "text/plain": [
       "<Axes: xlabel='Journey_Month', ylabel='Price'>"
      ]
     },
     "execution_count": 38,
     "metadata": {},
     "output_type": "execute_result"
    },
    {
     "data": {
      "image/png": "[encoded data removed]",
      "text/plain": [
       "<Figure size 640x480 with 1 Axes>"
      ]
     },
     "metadata": {},
     "output_type": "display_data"
    }
   ],
   "source": [
    "# Analyzing the relationship between Month and Price\n",
    "sns.boxplot(x='Journey_Month',y='Price',data=data)"
   ]
  },
  {
   "cell_type": "raw",
   "id": "23720fd3",
   "metadata": {},
   "source": [
    "# We can see Journey Month march have highest fare price for flight fare as compare other months."
   ]
  },
  {
   "cell_type": "code",
   "execution_count": 39,
   "id": "e2fb0e06",
   "metadata": {},
   "outputs": [
    {
     "data": {
      "text/plain": [
       "<Axes: xlabel='Source', ylabel='Price'>"
      ]
     },
     "execution_count": 39,
     "metadata": {},
     "output_type": "execute_result"
    },
    {
     "data": {
      "image/png": "[encoded data removed]",
      "text/plain": [
       "<Figure size 640x480 with 1 Axes>"
      ]
     },
     "metadata": {},
     "output_type": "display_data"
    }
   ],
   "source": [
    "# Analysis relationship between Source and price\n",
    "sns.boxplot(x='Source',y='Price',data=data)"
   ]
  },
  {
   "cell_type": "raw",
   "id": "0d9c2ebc",
   "metadata": {},
   "source": [
    "# We can see , Maximum passenger had wanted to travel to New Delh  and the price of fare is also high and then Cochin."
   ]
  },
  {
   "cell_type": "code",
   "execution_count": 40,
   "id": "df418bdc",
   "metadata": {},
   "outputs": [
    {
     "data": {
      "text/plain": [
       "<Axes: xlabel='Total_Stops', ylabel='Price'>"
      ]
     },
     "execution_count": 40,
     "metadata": {},
     "output_type": "execute_result"
    },
    {
     "data": {
      "image/png": "[encoded data removed]",
      "text/plain": [
       "<Figure size 640x480 with 1 Axes>"
      ]
     },
     "metadata": {},
     "output_type": "display_data"
    }
   ],
   "source": [
    "# Analysis the relationship between Total_Stops  and price\n",
    "sns.boxplot(x='Total_Stops',y='Price',data=data)"
   ]
  },
  {
   "cell_type": "raw",
   "id": "c9344b5a",
   "metadata": {},
   "source": [
    "# We can see,The passenger have traveled with non stop , 1 stop ,2 stops  and 4 stops but price fare sightly different."
   ]
  },
  {
   "cell_type": "code",
   "execution_count": 41,
   "id": "4200ecf0",
   "metadata": {},
   "outputs": [
    {
     "data": {
      "text/plain": [
       "<Axes: xlabel='Additional_Info', ylabel='Price'>"
      ]
     },
     "execution_count": 41,
     "metadata": {},
     "output_type": "execute_result"
    },
    {
     "data": {
      "image/png": "[encoded data removed]",
      "text/plain": [
       "<Figure size 1500x1000 with 1 Axes>"
      ]
     },
     "metadata": {},
     "output_type": "display_data"
    }
   ],
   "source": [
    "# Analysis the relationship between Additional_Info and price\n",
    "plt.figure(figsize=(15,10))\n",
    "sns.boxplot(x='Additional_Info',y='Price',data=data)"
   ]
  },
  {
   "cell_type": "raw",
   "id": "f2dd7f2b",
   "metadata": {},
   "source": [
    "# We can see in Additional_Info categories business class have price fare highest , might be passengers got other amenities.\n",
    "# Additional_Info have No check-in baggage included price fare of flight is very less as compare to there categories."
   ]
  },
  {
   "cell_type": "markdown",
   "id": "1f777511",
   "metadata": {},
   "source": [
    "# Data preprocessing and Feature engineering"
   ]
  },
  {
   "cell_type": "code",
   "execution_count": 42,
   "id": "64b5616f",
   "metadata": {},
   "outputs": [
    {
     "data": {
      "text/plain": [
       "Airline              0\n",
       "Source               0\n",
       "Destination          0\n",
       "Route                1\n",
       "Total_Stops          1\n",
       "Additional_Info      0\n",
       "Price                0\n",
       "Journey_Day          0\n",
       "Journey_Month        0\n",
       "Dep_time_hour        0\n",
       "Dep_time_min         0\n",
       "Arrival_Time_hour    0\n",
       "Arrival_Time_min     0\n",
       "dur_hour             0\n",
       "dur_min              0\n",
       "dtype: int64"
      ]
     },
     "execution_count": 42,
     "metadata": {},
     "output_type": "execute_result"
    }
   ],
   "source": [
    "# check the null value\n",
    "data.isnull().sum()   \n",
    "# one missing value present in route\n",
    "# one missing value present in total stops"
   ]
  },
  {
   "cell_type": "code",
   "execution_count": 43,
   "id": "84ad6462",
   "metadata": {},
   "outputs": [
    {
     "data": {
      "text/html": [
       "<div>\n",
       "<style scoped>\n",
       "    .dataframe tbody tr th:only-of-type {\n",
       "        vertical-align: middle;\n",
       "    }\n",
       "\n",
       "    .dataframe tbody tr th {\n",
       "        vertical-align: top;\n",
       "    }\n",
       "\n",
       "    .dataframe thead th {\n",
       "        text-align: right;\n",
       "    }\n",
       "</style>\n",
       "<table border=\"1\" class=\"dataframe\">\n",
       "  <thead>\n",
       "    <tr style=\"text-align: right;\">\n",
       "      <th></th>\n",
       "      <th>Airline</th>\n",
       "      <th>Source</th>\n",
       "      <th>Destination</th>\n",
       "      <th>Route</th>\n",
       "      <th>Total_Stops</th>\n",
       "      <th>Additional_Info</th>\n",
       "      <th>Price</th>\n",
       "      <th>Journey_Day</th>\n",
       "      <th>Journey_Month</th>\n",
       "      <th>Dep_time_hour</th>\n",
       "      <th>Dep_time_min</th>\n",
       "      <th>Arrival_Time_hour</th>\n",
       "      <th>Arrival_Time_min</th>\n",
       "      <th>dur_hour</th>\n",
       "      <th>dur_min</th>\n",
       "    </tr>\n",
       "  </thead>\n",
       "  <tbody>\n",
       "    <tr>\n",
       "      <th>9039</th>\n",
       "      <td>Air India</td>\n",
       "      <td>Delhi</td>\n",
       "      <td>Cochin</td>\n",
       "      <td>NaN</td>\n",
       "      <td>NaN</td>\n",
       "      <td>No info</td>\n",
       "      <td>7480</td>\n",
       "      <td>5</td>\n",
       "      <td>6</td>\n",
       "      <td>9</td>\n",
       "      <td>45</td>\n",
       "      <td>9</td>\n",
       "      <td>25</td>\n",
       "      <td>23</td>\n",
       "      <td>40</td>\n",
       "    </tr>\n",
       "  </tbody>\n",
       "</table>\n",
       "</div>"
      ],
      "text/plain": [
       "        Airline Source Destination Route Total_Stops Additional_Info  Price  \\\n",
       "9039  Air India  Delhi      Cochin   NaN         NaN         No info   7480   \n",
       "\n",
       "      Journey_Day  Journey_Month  Dep_time_hour  Dep_time_min  \\\n",
       "9039            5              6              9            45   \n",
       "\n",
       "      Arrival_Time_hour  Arrival_Time_min  dur_hour  dur_min  \n",
       "9039                  9                25        23       40  "
      ]
     },
     "execution_count": 43,
     "metadata": {},
     "output_type": "execute_result"
    }
   ],
   "source": [
    "data.loc[data['Route'].isnull()]  ##check the null value row location using Loc function."
   ]
  },
  {
   "cell_type": "code",
   "execution_count": 44,
   "id": "2fb241d5",
   "metadata": {},
   "outputs": [],
   "source": [
    "#Drop the null value row\n",
    "data.drop(9039,axis=0,inplace=True)   # there is one null value present in row "
   ]
  },
  {
   "cell_type": "code",
   "execution_count": 45,
   "id": "243bb040",
   "metadata": {},
   "outputs": [
    {
     "data": {
      "text/plain": [
       "Airline              0\n",
       "Source               0\n",
       "Destination          0\n",
       "Route                0\n",
       "Total_Stops          0\n",
       "Additional_Info      0\n",
       "Price                0\n",
       "Journey_Day          0\n",
       "Journey_Month        0\n",
       "Dep_time_hour        0\n",
       "Dep_time_min         0\n",
       "Arrival_Time_hour    0\n",
       "Arrival_Time_min     0\n",
       "dur_hour             0\n",
       "dur_min              0\n",
       "dtype: int64"
      ]
     },
     "execution_count": 45,
     "metadata": {},
     "output_type": "execute_result"
    }
   ],
   "source": [
    "data.isnull().sum()      # No null value present"
   ]
  },
  {
   "cell_type": "markdown",
   "id": "24f07975",
   "metadata": {},
   "source": [
    "## Drop The Unwanted Feature"
   ]
  },
  {
   "cell_type": "code",
   "execution_count": 46,
   "id": "35a1ac16",
   "metadata": {},
   "outputs": [],
   "source": [
    "# Route and Total stops Feature are giving the same information so we can drop the one feature.\n",
    "# drop the route Columns\n",
    "data.drop('Route',axis=1,inplace=True)"
   ]
  },
  {
   "cell_type": "markdown",
   "id": "2bd45c2e",
   "metadata": {},
   "source": [
    "## Convert Categorical data into numerical Usuing labelEncoding"
   ]
  },
  {
   "cell_type": "code",
   "execution_count": 47,
   "id": "034142a7",
   "metadata": {},
   "outputs": [],
   "source": [
    "# labelEncoding technique is used to transform categorical feature into numerical values.\n",
    "from sklearn.preprocessing import LabelEncoder\n",
    "le=LabelEncoder()     "
   ]
  },
  {
   "cell_type": "code",
   "execution_count": 48,
   "id": "3d7ed492",
   "metadata": {},
   "outputs": [],
   "source": [
    "data.Airline=le.fit_transform(data.Airline)  # transform categorical data into numerical"
   ]
  },
  {
   "cell_type": "code",
   "execution_count": 49,
   "id": "fcf78d42",
   "metadata": {},
   "outputs": [],
   "source": [
    "data.Source=le.fit_transform(data.Source)   #transform categorical data into numerical"
   ]
  },
  {
   "cell_type": "code",
   "execution_count": 50,
   "id": "aebe0782",
   "metadata": {},
   "outputs": [],
   "source": [
    "data.Destination=le.fit_transform(data.Destination)  #transform categorical data into numerical"
   ]
  },
  {
   "cell_type": "code",
   "execution_count": 51,
   "id": "9220bdad",
   "metadata": {},
   "outputs": [],
   "source": [
    "data.Total_Stops=le.fit_transform(data.Total_Stops)    #transform categorical data into numerical"
   ]
  },
  {
   "cell_type": "code",
   "execution_count": 52,
   "id": "b57315b3",
   "metadata": {},
   "outputs": [],
   "source": [
    "data.Additional_Info=le.fit_transform(data.Additional_Info)  #transform categorical data into numerical"
   ]
  },
  {
   "cell_type": "markdown",
   "id": "c0edaec9",
   "metadata": {},
   "source": [
    "## Scalling the dataset"
   ]
  },
  {
   "cell_type": "code",
   "execution_count": 53,
   "id": "5ab4797b",
   "metadata": {},
   "outputs": [],
   "source": [
    "# Scalling the dataset Using StandardScaler ,where the values range will be 3 to -3 between.\n",
    "from sklearn.preprocessing import StandardScaler\n",
    "scale=StandardScaler()\n",
    "# Transformation the data\n",
    "data[['Airline','Source','Destination','Total_Stops','Additional_Info','dur_hour','dur_min','Journey_Day','Journey_Month','Dep_time_hour','Dep_time_min','Arrival_Time_hour','Arrival_Time_min']]=scale.fit_transform(data[['Airline','Source','Destination','Total_Stops','Additional_Info','dur_hour','dur_min','Journey_Day','Journey_Month','Dep_time_hour','Dep_time_min','Arrival_Time_hour','Arrival_Time_min']])"
   ]
  },
  {
   "cell_type": "code",
   "execution_count": 54,
   "id": "ea92dcfd",
   "metadata": {},
   "outputs": [
    {
     "data": {
      "text/html": [
       "<div>\n",
       "<style scoped>\n",
       "    .dataframe tbody tr th:only-of-type {\n",
       "        vertical-align: middle;\n",
       "    }\n",
       "\n",
       "    .dataframe tbody tr th {\n",
       "        vertical-align: top;\n",
       "    }\n",
       "\n",
       "    .dataframe thead th {\n",
       "        text-align: right;\n",
       "    }\n",
       "</style>\n",
       "<table border=\"1\" class=\"dataframe\">\n",
       "  <thead>\n",
       "    <tr style=\"text-align: right;\">\n",
       "      <th></th>\n",
       "      <th>Airline</th>\n",
       "      <th>Source</th>\n",
       "      <th>Destination</th>\n",
       "      <th>Total_Stops</th>\n",
       "      <th>Additional_Info</th>\n",
       "      <th>Price</th>\n",
       "      <th>Journey_Day</th>\n",
       "      <th>Journey_Month</th>\n",
       "      <th>Dep_time_hour</th>\n",
       "      <th>Dep_time_min</th>\n",
       "      <th>Arrival_Time_hour</th>\n",
       "      <th>Arrival_Time_min</th>\n",
       "      <th>dur_hour</th>\n",
       "      <th>dur_min</th>\n",
       "    </tr>\n",
       "  </thead>\n",
       "  <tbody>\n",
       "    <tr>\n",
       "      <th>0</th>\n",
       "      <td>-0.410805</td>\n",
       "      <td>-1.658359</td>\n",
       "      <td>2.416534</td>\n",
       "      <td>1.407210</td>\n",
       "      <td>0.499921</td>\n",
       "      <td>3897</td>\n",
       "      <td>1.285536</td>\n",
       "      <td>-0.848450</td>\n",
       "      <td>1.654154</td>\n",
       "      <td>-0.234950</td>\n",
       "      <td>-1.800436</td>\n",
       "      <td>-0.890014</td>\n",
       "      <td>-0.970614</td>\n",
       "      <td>1.279041</td>\n",
       "    </tr>\n",
       "    <tr>\n",
       "      <th>1</th>\n",
       "      <td>-1.261152</td>\n",
       "      <td>0.890014</td>\n",
       "      <td>-0.973812</td>\n",
       "      <td>-0.253703</td>\n",
       "      <td>0.499921</td>\n",
       "      <td>7662</td>\n",
       "      <td>-0.872724</td>\n",
       "      <td>-1.517909</td>\n",
       "      <td>-1.303113</td>\n",
       "      <td>1.363607</td>\n",
       "      <td>-0.050909</td>\n",
       "      <td>-0.587094</td>\n",
       "      <td>-0.381999</td>\n",
       "      <td>-0.196319</td>\n",
       "    </tr>\n",
       "    <tr>\n",
       "      <th>2</th>\n",
       "      <td>0.014369</td>\n",
       "      <td>0.040556</td>\n",
       "      <td>-0.295743</td>\n",
       "      <td>-0.253703</td>\n",
       "      <td>0.499921</td>\n",
       "      <td>13882</td>\n",
       "      <td>-0.759131</td>\n",
       "      <td>1.159928</td>\n",
       "      <td>-0.607286</td>\n",
       "      <td>0.031476</td>\n",
       "      <td>-1.363054</td>\n",
       "      <td>0.018745</td>\n",
       "      <td>1.030677</td>\n",
       "      <td>-1.671678</td>\n",
       "    </tr>\n",
       "    <tr>\n",
       "      <th>3</th>\n",
       "      <td>-0.410805</td>\n",
       "      <td>0.890014</td>\n",
       "      <td>-0.973812</td>\n",
       "      <td>-0.807341</td>\n",
       "      <td>0.499921</td>\n",
       "      <td>6218</td>\n",
       "      <td>-0.872724</td>\n",
       "      <td>2.164117</td>\n",
       "      <td>0.958326</td>\n",
       "      <td>-1.034229</td>\n",
       "      <td>1.407030</td>\n",
       "      <td>0.321664</td>\n",
       "      <td>-0.617445</td>\n",
       "      <td>-0.196319</td>\n",
       "    </tr>\n",
       "    <tr>\n",
       "      <th>4</th>\n",
       "      <td>-0.410805</td>\n",
       "      <td>-1.658359</td>\n",
       "      <td>2.416534</td>\n",
       "      <td>-0.807341</td>\n",
       "      <td>0.499921</td>\n",
       "      <td>13302</td>\n",
       "      <td>-1.099909</td>\n",
       "      <td>-1.517909</td>\n",
       "      <td>0.610412</td>\n",
       "      <td>1.363607</td>\n",
       "      <td>1.115442</td>\n",
       "      <td>0.624584</td>\n",
       "      <td>-0.735168</td>\n",
       "      <td>0.983969</td>\n",
       "    </tr>\n",
       "  </tbody>\n",
       "</table>\n",
       "</div>"
      ],
      "text/plain": [
       "    Airline    Source  Destination  Total_Stops  Additional_Info  Price  \\\n",
       "0 -0.410805 -1.658359     2.416534     1.407210         0.499921   3897   \n",
       "1 -1.261152  0.890014    -0.973812    -0.253703         0.499921   7662   \n",
       "2  0.014369  0.040556    -0.295743    -0.253703         0.499921  13882   \n",
       "3 -0.410805  0.890014    -0.973812    -0.807341         0.499921   6218   \n",
       "4 -0.410805 -1.658359     2.416534    -0.807341         0.499921  13302   \n",
       "\n",
       "   Journey_Day  Journey_Month  Dep_time_hour  Dep_time_min  Arrival_Time_hour  \\\n",
       "0     1.285536      -0.848450       1.654154     -0.234950          -1.800436   \n",
       "1    -0.872724      -1.517909      -1.303113      1.363607          -0.050909   \n",
       "2    -0.759131       1.159928      -0.607286      0.031476          -1.363054   \n",
       "3    -0.872724       2.164117       0.958326     -1.034229           1.407030   \n",
       "4    -1.099909      -1.517909       0.610412      1.363607           1.115442   \n",
       "\n",
       "   Arrival_Time_min  dur_hour   dur_min  \n",
       "0         -0.890014 -0.970614  1.279041  \n",
       "1         -0.587094 -0.381999 -0.196319  \n",
       "2          0.018745  1.030677 -1.671678  \n",
       "3          0.321664 -0.617445 -0.196319  \n",
       "4          0.624584 -0.735168  0.983969  "
      ]
     },
     "execution_count": 54,
     "metadata": {},
     "output_type": "execute_result"
    }
   ],
   "source": [
    "data.head()"
   ]
  },
  {
   "cell_type": "markdown",
   "id": "ee8966be",
   "metadata": {},
   "source": [
    "## feature Selection"
   ]
  },
  {
   "cell_type": "code",
   "execution_count": 55,
   "id": "2859b5f8",
   "metadata": {},
   "outputs": [
    {
     "data": {
      "text/html": [
       "<div>\n",
       "<style scoped>\n",
       "    .dataframe tbody tr th:only-of-type {\n",
       "        vertical-align: middle;\n",
       "    }\n",
       "\n",
       "    .dataframe tbody tr th {\n",
       "        vertical-align: top;\n",
       "    }\n",
       "\n",
       "    .dataframe thead th {\n",
       "        text-align: right;\n",
       "    }\n",
       "</style>\n",
       "<table border=\"1\" class=\"dataframe\">\n",
       "  <thead>\n",
       "    <tr style=\"text-align: right;\">\n",
       "      <th></th>\n",
       "      <th>Airline</th>\n",
       "      <th>Source</th>\n",
       "      <th>Destination</th>\n",
       "      <th>Total_Stops</th>\n",
       "      <th>Additional_Info</th>\n",
       "      <th>dur_hour</th>\n",
       "      <th>dur_min</th>\n",
       "      <th>Journey_Day</th>\n",
       "      <th>Journey_Month</th>\n",
       "      <th>Dep_time_hour</th>\n",
       "      <th>Dep_time_min</th>\n",
       "      <th>Arrival_Time_hour</th>\n",
       "      <th>Arrival_Time_min</th>\n",
       "    </tr>\n",
       "  </thead>\n",
       "  <tbody>\n",
       "    <tr>\n",
       "      <th>0</th>\n",
       "      <td>-0.410805</td>\n",
       "      <td>-1.658359</td>\n",
       "      <td>2.416534</td>\n",
       "      <td>1.407210</td>\n",
       "      <td>0.499921</td>\n",
       "      <td>-0.970614</td>\n",
       "      <td>1.279041</td>\n",
       "      <td>1.285536</td>\n",
       "      <td>-0.848450</td>\n",
       "      <td>1.654154</td>\n",
       "      <td>-0.234950</td>\n",
       "      <td>-1.800436</td>\n",
       "      <td>-0.890014</td>\n",
       "    </tr>\n",
       "    <tr>\n",
       "      <th>1</th>\n",
       "      <td>-1.261152</td>\n",
       "      <td>0.890014</td>\n",
       "      <td>-0.973812</td>\n",
       "      <td>-0.253703</td>\n",
       "      <td>0.499921</td>\n",
       "      <td>-0.381999</td>\n",
       "      <td>-0.196319</td>\n",
       "      <td>-0.872724</td>\n",
       "      <td>-1.517909</td>\n",
       "      <td>-1.303113</td>\n",
       "      <td>1.363607</td>\n",
       "      <td>-0.050909</td>\n",
       "      <td>-0.587094</td>\n",
       "    </tr>\n",
       "    <tr>\n",
       "      <th>2</th>\n",
       "      <td>0.014369</td>\n",
       "      <td>0.040556</td>\n",
       "      <td>-0.295743</td>\n",
       "      <td>-0.253703</td>\n",
       "      <td>0.499921</td>\n",
       "      <td>1.030677</td>\n",
       "      <td>-1.671678</td>\n",
       "      <td>-0.759131</td>\n",
       "      <td>1.159928</td>\n",
       "      <td>-0.607286</td>\n",
       "      <td>0.031476</td>\n",
       "      <td>-1.363054</td>\n",
       "      <td>0.018745</td>\n",
       "    </tr>\n",
       "    <tr>\n",
       "      <th>3</th>\n",
       "      <td>-0.410805</td>\n",
       "      <td>0.890014</td>\n",
       "      <td>-0.973812</td>\n",
       "      <td>-0.807341</td>\n",
       "      <td>0.499921</td>\n",
       "      <td>-0.617445</td>\n",
       "      <td>-0.196319</td>\n",
       "      <td>-0.872724</td>\n",
       "      <td>2.164117</td>\n",
       "      <td>0.958326</td>\n",
       "      <td>-1.034229</td>\n",
       "      <td>1.407030</td>\n",
       "      <td>0.321664</td>\n",
       "    </tr>\n",
       "    <tr>\n",
       "      <th>4</th>\n",
       "      <td>-0.410805</td>\n",
       "      <td>-1.658359</td>\n",
       "      <td>2.416534</td>\n",
       "      <td>-0.807341</td>\n",
       "      <td>0.499921</td>\n",
       "      <td>-0.735168</td>\n",
       "      <td>0.983969</td>\n",
       "      <td>-1.099909</td>\n",
       "      <td>-1.517909</td>\n",
       "      <td>0.610412</td>\n",
       "      <td>1.363607</td>\n",
       "      <td>1.115442</td>\n",
       "      <td>0.624584</td>\n",
       "    </tr>\n",
       "    <tr>\n",
       "      <th>...</th>\n",
       "      <td>...</td>\n",
       "      <td>...</td>\n",
       "      <td>...</td>\n",
       "      <td>...</td>\n",
       "      <td>...</td>\n",
       "      <td>...</td>\n",
       "      <td>...</td>\n",
       "      <td>...</td>\n",
       "      <td>...</td>\n",
       "      <td>...</td>\n",
       "      <td>...</td>\n",
       "      <td>...</td>\n",
       "      <td>...</td>\n",
       "    </tr>\n",
       "    <tr>\n",
       "      <th>10678</th>\n",
       "      <td>-1.686326</td>\n",
       "      <td>0.890014</td>\n",
       "      <td>-0.973812</td>\n",
       "      <td>1.407210</td>\n",
       "      <td>0.499921</td>\n",
       "      <td>-0.970614</td>\n",
       "      <td>0.098753</td>\n",
       "      <td>-0.986316</td>\n",
       "      <td>1.159928</td>\n",
       "      <td>1.132283</td>\n",
       "      <td>1.630034</td>\n",
       "      <td>1.261236</td>\n",
       "      <td>0.018745</td>\n",
       "    </tr>\n",
       "    <tr>\n",
       "      <th>10679</th>\n",
       "      <td>-1.261152</td>\n",
       "      <td>0.890014</td>\n",
       "      <td>-0.973812</td>\n",
       "      <td>1.407210</td>\n",
       "      <td>0.499921</td>\n",
       "      <td>-0.970614</td>\n",
       "      <td>0.393825</td>\n",
       "      <td>1.626314</td>\n",
       "      <td>-0.513720</td>\n",
       "      <td>1.306240</td>\n",
       "      <td>1.097181</td>\n",
       "      <td>1.407030</td>\n",
       "      <td>-0.284175</td>\n",
       "    </tr>\n",
       "    <tr>\n",
       "      <th>10680</th>\n",
       "      <td>0.014369</td>\n",
       "      <td>-1.658359</td>\n",
       "      <td>0.382326</td>\n",
       "      <td>1.407210</td>\n",
       "      <td>0.499921</td>\n",
       "      <td>-0.852891</td>\n",
       "      <td>-1.671678</td>\n",
       "      <td>1.626314</td>\n",
       "      <td>-0.513720</td>\n",
       "      <td>-0.781243</td>\n",
       "      <td>-0.234950</td>\n",
       "      <td>-0.342497</td>\n",
       "      <td>-0.284175</td>\n",
       "    </tr>\n",
       "    <tr>\n",
       "      <th>10681</th>\n",
       "      <td>2.565411</td>\n",
       "      <td>-1.658359</td>\n",
       "      <td>2.416534</td>\n",
       "      <td>1.407210</td>\n",
       "      <td>0.499921</td>\n",
       "      <td>-0.970614</td>\n",
       "      <td>0.688897</td>\n",
       "      <td>-1.099909</td>\n",
       "      <td>-1.517909</td>\n",
       "      <td>-0.259372</td>\n",
       "      <td>0.297903</td>\n",
       "      <td>0.094885</td>\n",
       "      <td>-0.890014</td>\n",
       "    </tr>\n",
       "    <tr>\n",
       "      <th>10682</th>\n",
       "      <td>-1.261152</td>\n",
       "      <td>0.040556</td>\n",
       "      <td>-0.295743</td>\n",
       "      <td>-0.253703</td>\n",
       "      <td>0.499921</td>\n",
       "      <td>-0.264276</td>\n",
       "      <td>-0.491391</td>\n",
       "      <td>-0.872724</td>\n",
       "      <td>1.159928</td>\n",
       "      <td>-0.433329</td>\n",
       "      <td>1.630034</td>\n",
       "      <td>0.823854</td>\n",
       "      <td>-0.587094</td>\n",
       "    </tr>\n",
       "  </tbody>\n",
       "</table>\n",
       "<p>10682 rows × 13 columns</p>\n",
       "</div>"
      ],
      "text/plain": [
       "        Airline    Source  Destination  Total_Stops  Additional_Info  \\\n",
       "0     -0.410805 -1.658359     2.416534     1.407210         0.499921   \n",
       "1     -1.261152  0.890014    -0.973812    -0.253703         0.499921   \n",
       "2      0.014369  0.040556    -0.295743    -0.253703         0.499921   \n",
       "3     -0.410805  0.890014    -0.973812    -0.807341         0.499921   \n",
       "4     -0.410805 -1.658359     2.416534    -0.807341         0.499921   \n",
       "...         ...       ...          ...          ...              ...   \n",
       "10678 -1.686326  0.890014    -0.973812     1.407210         0.499921   \n",
       "10679 -1.261152  0.890014    -0.973812     1.407210         0.499921   \n",
       "10680  0.014369 -1.658359     0.382326     1.407210         0.499921   \n",
       "10681  2.565411 -1.658359     2.416534     1.407210         0.499921   \n",
       "10682 -1.261152  0.040556    -0.295743    -0.253703         0.499921   \n",
       "\n",
       "       dur_hour   dur_min  Journey_Day  Journey_Month  Dep_time_hour  \\\n",
       "0     -0.970614  1.279041     1.285536      -0.848450       1.654154   \n",
       "1     -0.381999 -0.196319    -0.872724      -1.517909      -1.303113   \n",
       "2      1.030677 -1.671678    -0.759131       1.159928      -0.607286   \n",
       "3     -0.617445 -0.196319    -0.872724       2.164117       0.958326   \n",
       "4     -0.735168  0.983969    -1.099909      -1.517909       0.610412   \n",
       "...         ...       ...          ...            ...            ...   \n",
       "10678 -0.970614  0.098753    -0.986316       1.159928       1.132283   \n",
       "10679 -0.970614  0.393825     1.626314      -0.513720       1.306240   \n",
       "10680 -0.852891 -1.671678     1.626314      -0.513720      -0.781243   \n",
       "10681 -0.970614  0.688897    -1.099909      -1.517909      -0.259372   \n",
       "10682 -0.264276 -0.491391    -0.872724       1.159928      -0.433329   \n",
       "\n",
       "       Dep_time_min  Arrival_Time_hour  Arrival_Time_min  \n",
       "0         -0.234950          -1.800436         -0.890014  \n",
       "1          1.363607          -0.050909         -0.587094  \n",
       "2          0.031476          -1.363054          0.018745  \n",
       "3         -1.034229           1.407030          0.321664  \n",
       "4          1.363607           1.115442          0.624584  \n",
       "...             ...                ...               ...  \n",
       "10678      1.630034           1.261236          0.018745  \n",
       "10679      1.097181           1.407030         -0.284175  \n",
       "10680     -0.234950          -0.342497         -0.284175  \n",
       "10681      0.297903           0.094885         -0.890014  \n",
       "10682      1.630034           0.823854         -0.587094  \n",
       "\n",
       "[10682 rows x 13 columns]"
      ]
     },
     "execution_count": 55,
     "metadata": {},
     "output_type": "execute_result"
    }
   ],
   "source": [
    "# create the new data frame\n",
    "data1=data[['Airline','Source','Destination','Total_Stops','Additional_Info','dur_hour','dur_min','Journey_Day','Journey_Month','Dep_time_hour','Dep_time_min','Arrival_Time_hour','Arrival_Time_min']]\n",
    "data1"
   ]
  },
  {
   "cell_type": "code",
   "execution_count": 56,
   "id": "e4c31302",
   "metadata": {},
   "outputs": [
    {
     "data": {
      "text/html": [
       "<div>\n",
       "<style scoped>\n",
       "    .dataframe tbody tr th:only-of-type {\n",
       "        vertical-align: middle;\n",
       "    }\n",
       "\n",
       "    .dataframe tbody tr th {\n",
       "        vertical-align: top;\n",
       "    }\n",
       "\n",
       "    .dataframe thead th {\n",
       "        text-align: right;\n",
       "    }\n",
       "</style>\n",
       "<table border=\"1\" class=\"dataframe\">\n",
       "  <thead>\n",
       "    <tr style=\"text-align: right;\">\n",
       "      <th></th>\n",
       "      <th>Airline</th>\n",
       "      <th>Source</th>\n",
       "      <th>Destination</th>\n",
       "      <th>Total_Stops</th>\n",
       "      <th>Additional_Info</th>\n",
       "      <th>dur_hour</th>\n",
       "      <th>dur_min</th>\n",
       "      <th>Journey_Day</th>\n",
       "      <th>Journey_Month</th>\n",
       "      <th>Dep_time_hour</th>\n",
       "      <th>Dep_time_min</th>\n",
       "      <th>Arrival_Time_hour</th>\n",
       "      <th>Arrival_Time_min</th>\n",
       "    </tr>\n",
       "  </thead>\n",
       "  <tbody>\n",
       "    <tr>\n",
       "      <th>Airline</th>\n",
       "      <td>1.000000</td>\n",
       "      <td>-0.013397</td>\n",
       "      <td>0.018446</td>\n",
       "      <td>0.035973</td>\n",
       "      <td>-0.060748</td>\n",
       "      <td>-0.158136</td>\n",
       "      <td>-0.028009</td>\n",
       "      <td>0.031118</td>\n",
       "      <td>-0.007900</td>\n",
       "      <td>-0.035269</td>\n",
       "      <td>-0.059922</td>\n",
       "      <td>-0.007567</td>\n",
       "      <td>-0.071092</td>\n",
       "    </tr>\n",
       "    <tr>\n",
       "      <th>Source</th>\n",
       "      <td>-0.013397</td>\n",
       "      <td>1.000000</td>\n",
       "      <td>-0.592576</td>\n",
       "      <td>-0.225605</td>\n",
       "      <td>-0.022109</td>\n",
       "      <td>0.166121</td>\n",
       "      <td>-0.145193</td>\n",
       "      <td>0.007563</td>\n",
       "      <td>0.063052</td>\n",
       "      <td>0.059047</td>\n",
       "      <td>-0.056998</td>\n",
       "      <td>0.025635</td>\n",
       "      <td>0.021040</td>\n",
       "    </tr>\n",
       "    <tr>\n",
       "      <th>Destination</th>\n",
       "      <td>0.018446</td>\n",
       "      <td>-0.592576</td>\n",
       "      <td>1.000000</td>\n",
       "      <td>0.337872</td>\n",
       "      <td>0.026821</td>\n",
       "      <td>-0.258446</td>\n",
       "      <td>0.061235</td>\n",
       "      <td>-0.052102</td>\n",
       "      <td>-0.105035</td>\n",
       "      <td>-0.072997</td>\n",
       "      <td>0.127931</td>\n",
       "      <td>-0.039729</td>\n",
       "      <td>0.017196</td>\n",
       "    </tr>\n",
       "    <tr>\n",
       "      <th>Total_Stops</th>\n",
       "      <td>0.035973</td>\n",
       "      <td>-0.225605</td>\n",
       "      <td>0.337872</td>\n",
       "      <td>1.000000</td>\n",
       "      <td>0.164054</td>\n",
       "      <td>-0.606137</td>\n",
       "      <td>0.182223</td>\n",
       "      <td>0.043844</td>\n",
       "      <td>-0.056514</td>\n",
       "      <td>0.039224</td>\n",
       "      <td>0.048901</td>\n",
       "      <td>-0.095650</td>\n",
       "      <td>0.175980</td>\n",
       "    </tr>\n",
       "    <tr>\n",
       "      <th>Additional_Info</th>\n",
       "      <td>-0.060748</td>\n",
       "      <td>-0.022109</td>\n",
       "      <td>0.026821</td>\n",
       "      <td>0.164054</td>\n",
       "      <td>1.000000</td>\n",
       "      <td>-0.168815</td>\n",
       "      <td>0.046910</td>\n",
       "      <td>-0.019416</td>\n",
       "      <td>-0.009105</td>\n",
       "      <td>-0.050983</td>\n",
       "      <td>-0.019392</td>\n",
       "      <td>0.026204</td>\n",
       "      <td>0.041310</td>\n",
       "    </tr>\n",
       "    <tr>\n",
       "      <th>dur_hour</th>\n",
       "      <td>-0.158136</td>\n",
       "      <td>0.166121</td>\n",
       "      <td>-0.258446</td>\n",
       "      <td>-0.606137</td>\n",
       "      <td>-0.168815</td>\n",
       "      <td>1.000000</td>\n",
       "      <td>-0.126468</td>\n",
       "      <td>-0.037964</td>\n",
       "      <td>0.055552</td>\n",
       "      <td>0.002869</td>\n",
       "      <td>-0.022104</td>\n",
       "      <td>0.055276</td>\n",
       "      <td>-0.074450</td>\n",
       "    </tr>\n",
       "    <tr>\n",
       "      <th>dur_min</th>\n",
       "      <td>-0.028009</td>\n",
       "      <td>-0.145193</td>\n",
       "      <td>0.061235</td>\n",
       "      <td>0.182223</td>\n",
       "      <td>0.046910</td>\n",
       "      <td>-0.126468</td>\n",
       "      <td>1.000000</td>\n",
       "      <td>-0.007708</td>\n",
       "      <td>-0.018597</td>\n",
       "      <td>-0.023707</td>\n",
       "      <td>0.092485</td>\n",
       "      <td>-0.118309</td>\n",
       "      <td>0.151628</td>\n",
       "    </tr>\n",
       "    <tr>\n",
       "      <th>Journey_Day</th>\n",
       "      <td>0.031118</td>\n",
       "      <td>0.007563</td>\n",
       "      <td>-0.052102</td>\n",
       "      <td>0.043844</td>\n",
       "      <td>-0.019416</td>\n",
       "      <td>-0.037964</td>\n",
       "      <td>-0.007708</td>\n",
       "      <td>1.000000</td>\n",
       "      <td>-0.264896</td>\n",
       "      <td>-0.002301</td>\n",
       "      <td>-0.016433</td>\n",
       "      <td>-0.002176</td>\n",
       "      <td>-0.021423</td>\n",
       "    </tr>\n",
       "    <tr>\n",
       "      <th>Journey_Month</th>\n",
       "      <td>-0.007900</td>\n",
       "      <td>0.063052</td>\n",
       "      <td>-0.105035</td>\n",
       "      <td>-0.056514</td>\n",
       "      <td>-0.009105</td>\n",
       "      <td>0.055552</td>\n",
       "      <td>-0.018597</td>\n",
       "      <td>-0.264896</td>\n",
       "      <td>1.000000</td>\n",
       "      <td>0.028189</td>\n",
       "      <td>0.002136</td>\n",
       "      <td>-0.004329</td>\n",
       "      <td>-0.025786</td>\n",
       "    </tr>\n",
       "    <tr>\n",
       "      <th>Dep_time_hour</th>\n",
       "      <td>-0.035269</td>\n",
       "      <td>0.059047</td>\n",
       "      <td>-0.072997</td>\n",
       "      <td>0.039224</td>\n",
       "      <td>-0.050983</td>\n",
       "      <td>0.002869</td>\n",
       "      <td>-0.023707</td>\n",
       "      <td>-0.002301</td>\n",
       "      <td>0.028189</td>\n",
       "      <td>1.000000</td>\n",
       "      <td>-0.024745</td>\n",
       "      <td>0.005180</td>\n",
       "      <td>0.067911</td>\n",
       "    </tr>\n",
       "    <tr>\n",
       "      <th>Dep_time_min</th>\n",
       "      <td>-0.059922</td>\n",
       "      <td>-0.056998</td>\n",
       "      <td>0.127931</td>\n",
       "      <td>0.048901</td>\n",
       "      <td>-0.019392</td>\n",
       "      <td>-0.022104</td>\n",
       "      <td>0.092485</td>\n",
       "      <td>-0.016433</td>\n",
       "      <td>0.002136</td>\n",
       "      <td>-0.024745</td>\n",
       "      <td>1.000000</td>\n",
       "      <td>0.043122</td>\n",
       "      <td>-0.017597</td>\n",
       "    </tr>\n",
       "    <tr>\n",
       "      <th>Arrival_Time_hour</th>\n",
       "      <td>-0.007567</td>\n",
       "      <td>0.025635</td>\n",
       "      <td>-0.039729</td>\n",
       "      <td>-0.095650</td>\n",
       "      <td>0.026204</td>\n",
       "      <td>0.055276</td>\n",
       "      <td>-0.118309</td>\n",
       "      <td>-0.002176</td>\n",
       "      <td>-0.004329</td>\n",
       "      <td>0.005180</td>\n",
       "      <td>0.043122</td>\n",
       "      <td>1.000000</td>\n",
       "      <td>-0.154363</td>\n",
       "    </tr>\n",
       "    <tr>\n",
       "      <th>Arrival_Time_min</th>\n",
       "      <td>-0.071092</td>\n",
       "      <td>0.021040</td>\n",
       "      <td>0.017196</td>\n",
       "      <td>0.175980</td>\n",
       "      <td>0.041310</td>\n",
       "      <td>-0.074450</td>\n",
       "      <td>0.151628</td>\n",
       "      <td>-0.021423</td>\n",
       "      <td>-0.025786</td>\n",
       "      <td>0.067911</td>\n",
       "      <td>-0.017597</td>\n",
       "      <td>-0.154363</td>\n",
       "      <td>1.000000</td>\n",
       "    </tr>\n",
       "  </tbody>\n",
       "</table>\n",
       "</div>"
      ],
      "text/plain": [
       "                    Airline    Source  Destination  Total_Stops  \\\n",
       "Airline            1.000000 -0.013397     0.018446     0.035973   \n",
       "Source            -0.013397  1.000000    -0.592576    -0.225605   \n",
       "Destination        0.018446 -0.592576     1.000000     0.337872   \n",
       "Total_Stops        0.035973 -0.225605     0.337872     1.000000   \n",
       "Additional_Info   -0.060748 -0.022109     0.026821     0.164054   \n",
       "dur_hour          -0.158136  0.166121    -0.258446    -0.606137   \n",
       "dur_min           -0.028009 -0.145193     0.061235     0.182223   \n",
       "Journey_Day        0.031118  0.007563    -0.052102     0.043844   \n",
       "Journey_Month     -0.007900  0.063052    -0.105035    -0.056514   \n",
       "Dep_time_hour     -0.035269  0.059047    -0.072997     0.039224   \n",
       "Dep_time_min      -0.059922 -0.056998     0.127931     0.048901   \n",
       "Arrival_Time_hour -0.007567  0.025635    -0.039729    -0.095650   \n",
       "Arrival_Time_min  -0.071092  0.021040     0.017196     0.175980   \n",
       "\n",
       "                   Additional_Info  dur_hour   dur_min  Journey_Day  \\\n",
       "Airline                  -0.060748 -0.158136 -0.028009     0.031118   \n",
       "Source                   -0.022109  0.166121 -0.145193     0.007563   \n",
       "Destination               0.026821 -0.258446  0.061235    -0.052102   \n",
       "Total_Stops               0.164054 -0.606137  0.182223     0.043844   \n",
       "Additional_Info           1.000000 -0.168815  0.046910    -0.019416   \n",
       "dur_hour                 -0.168815  1.000000 -0.126468    -0.037964   \n",
       "dur_min                   0.046910 -0.126468  1.000000    -0.007708   \n",
       "Journey_Day              -0.019416 -0.037964 -0.007708     1.000000   \n",
       "Journey_Month            -0.009105  0.055552 -0.018597    -0.264896   \n",
       "Dep_time_hour            -0.050983  0.002869 -0.023707    -0.002301   \n",
       "Dep_time_min             -0.019392 -0.022104  0.092485    -0.016433   \n",
       "Arrival_Time_hour         0.026204  0.055276 -0.118309    -0.002176   \n",
       "Arrival_Time_min          0.041310 -0.074450  0.151628    -0.021423   \n",
       "\n",
       "                   Journey_Month  Dep_time_hour  Dep_time_min  \\\n",
       "Airline                -0.007900      -0.035269     -0.059922   \n",
       "Source                  0.063052       0.059047     -0.056998   \n",
       "Destination            -0.105035      -0.072997      0.127931   \n",
       "Total_Stops            -0.056514       0.039224      0.048901   \n",
       "Additional_Info        -0.009105      -0.050983     -0.019392   \n",
       "dur_hour                0.055552       0.002869     -0.022104   \n",
       "dur_min                -0.018597      -0.023707      0.092485   \n",
       "Journey_Day            -0.264896      -0.002301     -0.016433   \n",
       "Journey_Month           1.000000       0.028189      0.002136   \n",
       "Dep_time_hour           0.028189       1.000000     -0.024745   \n",
       "Dep_time_min            0.002136      -0.024745      1.000000   \n",
       "Arrival_Time_hour      -0.004329       0.005180      0.043122   \n",
       "Arrival_Time_min       -0.025786       0.067911     -0.017597   \n",
       "\n",
       "                   Arrival_Time_hour  Arrival_Time_min  \n",
       "Airline                    -0.007567         -0.071092  \n",
       "Source                      0.025635          0.021040  \n",
       "Destination                -0.039729          0.017196  \n",
       "Total_Stops                -0.095650          0.175980  \n",
       "Additional_Info             0.026204          0.041310  \n",
       "dur_hour                    0.055276         -0.074450  \n",
       "dur_min                    -0.118309          0.151628  \n",
       "Journey_Day                -0.002176         -0.021423  \n",
       "Journey_Month              -0.004329         -0.025786  \n",
       "Dep_time_hour               0.005180          0.067911  \n",
       "Dep_time_min                0.043122         -0.017597  \n",
       "Arrival_Time_hour           1.000000         -0.154363  \n",
       "Arrival_Time_min           -0.154363          1.000000  "
      ]
     },
     "execution_count": 56,
     "metadata": {},
     "output_type": "execute_result"
    }
   ],
   "source": [
    "# Check the correlation between independent variable\n",
    "data1.corr()    # We can see , No correlation between the indendent features."
   ]
  },
  {
   "cell_type": "code",
   "execution_count": 57,
   "id": "466471c0",
   "metadata": {},
   "outputs": [
    {
     "data": {
      "text/plain": [
       "<Axes: >"
      ]
     },
     "execution_count": 57,
     "metadata": {},
     "output_type": "execute_result"
    },
    {
     "data": {
      "image/png": "[encoded data removed]",
      "text/plain": [
       "<Figure size 2000x2000 with 2 Axes>"
      ]
     },
     "metadata": {},
     "output_type": "display_data"
    }
   ],
   "source": [
    "# check the heatmap correlation\n",
    "plt.figure(figsize=(20,20))      \n",
    "sns.heatmap(data1.corr(),annot=True)  "
   ]
  },
  {
   "cell_type": "raw",
   "id": "aa43754a",
   "metadata": {},
   "source": [
    "# There is No correlation Between Independent variable"
   ]
  },
  {
   "cell_type": "markdown",
   "id": "ffb5bdf0",
   "metadata": {},
   "source": [
    "## Model Creation"
   ]
  },
  {
   "cell_type": "code",
   "execution_count": 58,
   "id": "0409dfb7",
   "metadata": {},
   "outputs": [],
   "source": [
    "# Model creation independent variable and dependent variable.\n",
    "x=data1\n",
    "y=data.Price"
   ]
  },
  {
   "cell_type": "code",
   "execution_count": 59,
   "id": "13440d26",
   "metadata": {},
   "outputs": [
    {
     "data": {
      "text/html": [
       "<div>\n",
       "<style scoped>\n",
       "    .dataframe tbody tr th:only-of-type {\n",
       "        vertical-align: middle;\n",
       "    }\n",
       "\n",
       "    .dataframe tbody tr th {\n",
       "        vertical-align: top;\n",
       "    }\n",
       "\n",
       "    .dataframe thead th {\n",
       "        text-align: right;\n",
       "    }\n",
       "</style>\n",
       "<table border=\"1\" class=\"dataframe\">\n",
       "  <thead>\n",
       "    <tr style=\"text-align: right;\">\n",
       "      <th></th>\n",
       "      <th>Airline</th>\n",
       "      <th>Source</th>\n",
       "      <th>Destination</th>\n",
       "      <th>Total_Stops</th>\n",
       "      <th>Additional_Info</th>\n",
       "      <th>dur_hour</th>\n",
       "      <th>dur_min</th>\n",
       "      <th>Journey_Day</th>\n",
       "      <th>Journey_Month</th>\n",
       "      <th>Dep_time_hour</th>\n",
       "      <th>Dep_time_min</th>\n",
       "      <th>Arrival_Time_hour</th>\n",
       "      <th>Arrival_Time_min</th>\n",
       "    </tr>\n",
       "  </thead>\n",
       "  <tbody>\n",
       "    <tr>\n",
       "      <th>0</th>\n",
       "      <td>-0.410805</td>\n",
       "      <td>-1.658359</td>\n",
       "      <td>2.416534</td>\n",
       "      <td>1.407210</td>\n",
       "      <td>0.499921</td>\n",
       "      <td>-0.970614</td>\n",
       "      <td>1.279041</td>\n",
       "      <td>1.285536</td>\n",
       "      <td>-0.848450</td>\n",
       "      <td>1.654154</td>\n",
       "      <td>-0.234950</td>\n",
       "      <td>-1.800436</td>\n",
       "      <td>-0.890014</td>\n",
       "    </tr>\n",
       "    <tr>\n",
       "      <th>1</th>\n",
       "      <td>-1.261152</td>\n",
       "      <td>0.890014</td>\n",
       "      <td>-0.973812</td>\n",
       "      <td>-0.253703</td>\n",
       "      <td>0.499921</td>\n",
       "      <td>-0.381999</td>\n",
       "      <td>-0.196319</td>\n",
       "      <td>-0.872724</td>\n",
       "      <td>-1.517909</td>\n",
       "      <td>-1.303113</td>\n",
       "      <td>1.363607</td>\n",
       "      <td>-0.050909</td>\n",
       "      <td>-0.587094</td>\n",
       "    </tr>\n",
       "    <tr>\n",
       "      <th>2</th>\n",
       "      <td>0.014369</td>\n",
       "      <td>0.040556</td>\n",
       "      <td>-0.295743</td>\n",
       "      <td>-0.253703</td>\n",
       "      <td>0.499921</td>\n",
       "      <td>1.030677</td>\n",
       "      <td>-1.671678</td>\n",
       "      <td>-0.759131</td>\n",
       "      <td>1.159928</td>\n",
       "      <td>-0.607286</td>\n",
       "      <td>0.031476</td>\n",
       "      <td>-1.363054</td>\n",
       "      <td>0.018745</td>\n",
       "    </tr>\n",
       "    <tr>\n",
       "      <th>3</th>\n",
       "      <td>-0.410805</td>\n",
       "      <td>0.890014</td>\n",
       "      <td>-0.973812</td>\n",
       "      <td>-0.807341</td>\n",
       "      <td>0.499921</td>\n",
       "      <td>-0.617445</td>\n",
       "      <td>-0.196319</td>\n",
       "      <td>-0.872724</td>\n",
       "      <td>2.164117</td>\n",
       "      <td>0.958326</td>\n",
       "      <td>-1.034229</td>\n",
       "      <td>1.407030</td>\n",
       "      <td>0.321664</td>\n",
       "    </tr>\n",
       "    <tr>\n",
       "      <th>4</th>\n",
       "      <td>-0.410805</td>\n",
       "      <td>-1.658359</td>\n",
       "      <td>2.416534</td>\n",
       "      <td>-0.807341</td>\n",
       "      <td>0.499921</td>\n",
       "      <td>-0.735168</td>\n",
       "      <td>0.983969</td>\n",
       "      <td>-1.099909</td>\n",
       "      <td>-1.517909</td>\n",
       "      <td>0.610412</td>\n",
       "      <td>1.363607</td>\n",
       "      <td>1.115442</td>\n",
       "      <td>0.624584</td>\n",
       "    </tr>\n",
       "    <tr>\n",
       "      <th>...</th>\n",
       "      <td>...</td>\n",
       "      <td>...</td>\n",
       "      <td>...</td>\n",
       "      <td>...</td>\n",
       "      <td>...</td>\n",
       "      <td>...</td>\n",
       "      <td>...</td>\n",
       "      <td>...</td>\n",
       "      <td>...</td>\n",
       "      <td>...</td>\n",
       "      <td>...</td>\n",
       "      <td>...</td>\n",
       "      <td>...</td>\n",
       "    </tr>\n",
       "    <tr>\n",
       "      <th>10678</th>\n",
       "      <td>-1.686326</td>\n",
       "      <td>0.890014</td>\n",
       "      <td>-0.973812</td>\n",
       "      <td>1.407210</td>\n",
       "      <td>0.499921</td>\n",
       "      <td>-0.970614</td>\n",
       "      <td>0.098753</td>\n",
       "      <td>-0.986316</td>\n",
       "      <td>1.159928</td>\n",
       "      <td>1.132283</td>\n",
       "      <td>1.630034</td>\n",
       "      <td>1.261236</td>\n",
       "      <td>0.018745</td>\n",
       "    </tr>\n",
       "    <tr>\n",
       "      <th>10679</th>\n",
       "      <td>-1.261152</td>\n",
       "      <td>0.890014</td>\n",
       "      <td>-0.973812</td>\n",
       "      <td>1.407210</td>\n",
       "      <td>0.499921</td>\n",
       "      <td>-0.970614</td>\n",
       "      <td>0.393825</td>\n",
       "      <td>1.626314</td>\n",
       "      <td>-0.513720</td>\n",
       "      <td>1.306240</td>\n",
       "      <td>1.097181</td>\n",
       "      <td>1.407030</td>\n",
       "      <td>-0.284175</td>\n",
       "    </tr>\n",
       "    <tr>\n",
       "      <th>10680</th>\n",
       "      <td>0.014369</td>\n",
       "      <td>-1.658359</td>\n",
       "      <td>0.382326</td>\n",
       "      <td>1.407210</td>\n",
       "      <td>0.499921</td>\n",
       "      <td>-0.852891</td>\n",
       "      <td>-1.671678</td>\n",
       "      <td>1.626314</td>\n",
       "      <td>-0.513720</td>\n",
       "      <td>-0.781243</td>\n",
       "      <td>-0.234950</td>\n",
       "      <td>-0.342497</td>\n",
       "      <td>-0.284175</td>\n",
       "    </tr>\n",
       "    <tr>\n",
       "      <th>10681</th>\n",
       "      <td>2.565411</td>\n",
       "      <td>-1.658359</td>\n",
       "      <td>2.416534</td>\n",
       "      <td>1.407210</td>\n",
       "      <td>0.499921</td>\n",
       "      <td>-0.970614</td>\n",
       "      <td>0.688897</td>\n",
       "      <td>-1.099909</td>\n",
       "      <td>-1.517909</td>\n",
       "      <td>-0.259372</td>\n",
       "      <td>0.297903</td>\n",
       "      <td>0.094885</td>\n",
       "      <td>-0.890014</td>\n",
       "    </tr>\n",
       "    <tr>\n",
       "      <th>10682</th>\n",
       "      <td>-1.261152</td>\n",
       "      <td>0.040556</td>\n",
       "      <td>-0.295743</td>\n",
       "      <td>-0.253703</td>\n",
       "      <td>0.499921</td>\n",
       "      <td>-0.264276</td>\n",
       "      <td>-0.491391</td>\n",
       "      <td>-0.872724</td>\n",
       "      <td>1.159928</td>\n",
       "      <td>-0.433329</td>\n",
       "      <td>1.630034</td>\n",
       "      <td>0.823854</td>\n",
       "      <td>-0.587094</td>\n",
       "    </tr>\n",
       "  </tbody>\n",
       "</table>\n",
       "<p>10682 rows × 13 columns</p>\n",
       "</div>"
      ],
      "text/plain": [
       "        Airline    Source  Destination  Total_Stops  Additional_Info  \\\n",
       "0     -0.410805 -1.658359     2.416534     1.407210         0.499921   \n",
       "1     -1.261152  0.890014    -0.973812    -0.253703         0.499921   \n",
       "2      0.014369  0.040556    -0.295743    -0.253703         0.499921   \n",
       "3     -0.410805  0.890014    -0.973812    -0.807341         0.499921   \n",
       "4     -0.410805 -1.658359     2.416534    -0.807341         0.499921   \n",
       "...         ...       ...          ...          ...              ...   \n",
       "10678 -1.686326  0.890014    -0.973812     1.407210         0.499921   \n",
       "10679 -1.261152  0.890014    -0.973812     1.407210         0.499921   \n",
       "10680  0.014369 -1.658359     0.382326     1.407210         0.499921   \n",
       "10681  2.565411 -1.658359     2.416534     1.407210         0.499921   \n",
       "10682 -1.261152  0.040556    -0.295743    -0.253703         0.499921   \n",
       "\n",
       "       dur_hour   dur_min  Journey_Day  Journey_Month  Dep_time_hour  \\\n",
       "0     -0.970614  1.279041     1.285536      -0.848450       1.654154   \n",
       "1     -0.381999 -0.196319    -0.872724      -1.517909      -1.303113   \n",
       "2      1.030677 -1.671678    -0.759131       1.159928      -0.607286   \n",
       "3     -0.617445 -0.196319    -0.872724       2.164117       0.958326   \n",
       "4     -0.735168  0.983969    -1.099909      -1.517909       0.610412   \n",
       "...         ...       ...          ...            ...            ...   \n",
       "10678 -0.970614  0.098753    -0.986316       1.159928       1.132283   \n",
       "10679 -0.970614  0.393825     1.626314      -0.513720       1.306240   \n",
       "10680 -0.852891 -1.671678     1.626314      -0.513720      -0.781243   \n",
       "10681 -0.970614  0.688897    -1.099909      -1.517909      -0.259372   \n",
       "10682 -0.264276 -0.491391    -0.872724       1.159928      -0.433329   \n",
       "\n",
       "       Dep_time_min  Arrival_Time_hour  Arrival_Time_min  \n",
       "0         -0.234950          -1.800436         -0.890014  \n",
       "1          1.363607          -0.050909         -0.587094  \n",
       "2          0.031476          -1.363054          0.018745  \n",
       "3         -1.034229           1.407030          0.321664  \n",
       "4          1.363607           1.115442          0.624584  \n",
       "...             ...                ...               ...  \n",
       "10678      1.630034           1.261236          0.018745  \n",
       "10679      1.097181           1.407030         -0.284175  \n",
       "10680     -0.234950          -0.342497         -0.284175  \n",
       "10681      0.297903           0.094885         -0.890014  \n",
       "10682      1.630034           0.823854         -0.587094  \n",
       "\n",
       "[10682 rows x 13 columns]"
      ]
     },
     "execution_count": 59,
     "metadata": {},
     "output_type": "execute_result"
    }
   ],
   "source": [
    "x               # Independent variable"
   ]
  },
  {
   "cell_type": "code",
   "execution_count": 60,
   "id": "73768ca5",
   "metadata": {},
   "outputs": [
    {
     "data": {
      "text/plain": [
       "0         3897\n",
       "1         7662\n",
       "2        13882\n",
       "3         6218\n",
       "4        13302\n",
       "         ...  \n",
       "10678     4107\n",
       "10679     4145\n",
       "10680     7229\n",
       "10681    12648\n",
       "10682    11753\n",
       "Name: Price, Length: 10682, dtype: int64"
      ]
     },
     "execution_count": 60,
     "metadata": {},
     "output_type": "execute_result"
    }
   ],
   "source": [
    "y               # Dependent variable "
   ]
  },
  {
   "cell_type": "markdown",
   "id": "637e6a34",
   "metadata": {},
   "source": [
    "## Splitting Training and Testing data"
   ]
  },
  {
   "cell_type": "code",
   "execution_count": 61,
   "id": "8f67e38f",
   "metadata": {},
   "outputs": [],
   "source": [
    "# Spliting the train and test data\n",
    "from sklearn.model_selection import train_test_split\n",
    "x_train,x_test,y_train,y_test=train_test_split(x,y,test_size=0.35,random_state=30)"
   ]
  },
  {
   "cell_type": "code",
   "execution_count": 62,
   "id": "c560f13b",
   "metadata": {},
   "outputs": [
    {
     "data": {
      "text/plain": [
       "(6943, 13)"
      ]
     },
     "execution_count": 62,
     "metadata": {},
     "output_type": "execute_result"
    }
   ],
   "source": [
    "x_train.shape          # Actual dataset"
   ]
  },
  {
   "cell_type": "code",
   "execution_count": 63,
   "id": "09714b0d",
   "metadata": {},
   "outputs": [
    {
     "data": {
      "text/plain": [
       "(6943,)"
      ]
     },
     "execution_count": 63,
     "metadata": {},
     "output_type": "execute_result"
    }
   ],
   "source": [
    "y_train.shape           # Actual dataset"
   ]
  },
  {
   "cell_type": "code",
   "execution_count": 64,
   "id": "17fb5238",
   "metadata": {},
   "outputs": [
    {
     "data": {
      "text/plain": [
       "(3739, 13)"
      ]
     },
     "execution_count": 64,
     "metadata": {},
     "output_type": "execute_result"
    }
   ],
   "source": [
    "x_test.shape             # Test Prediction"
   ]
  },
  {
   "cell_type": "code",
   "execution_count": 65,
   "id": "f3ae122b",
   "metadata": {},
   "outputs": [
    {
     "data": {
      "text/plain": [
       "(3739,)"
      ]
     },
     "execution_count": 65,
     "metadata": {},
     "output_type": "execute_result"
    }
   ],
   "source": [
    "y_test.shape              # # Test Prediction"
   ]
  },
  {
   "cell_type": "markdown",
   "id": "39ecfe4d",
   "metadata": {},
   "source": [
    "## Linear Regression"
   ]
  },
  {
   "cell_type": "code",
   "execution_count": 66,
   "id": "82987fff",
   "metadata": {},
   "outputs": [],
   "source": [
    "# create Linear Regression model\n",
    "from sklearn.linear_model import LinearRegression\n",
    "LR=LinearRegression()   # object creation\n",
    "LR.fit(x_train,y_train) # Training the model\n",
    "y_predict=LR.predict(x_test)   # Test prediction"
   ]
  },
  {
   "cell_type": "code",
   "execution_count": 67,
   "id": "2ab2b5c1",
   "metadata": {},
   "outputs": [
    {
     "data": {
      "text/plain": [
       "9982      9258\n",
       "7179     13339\n",
       "10461     4804\n",
       "9424      7229\n",
       "701       5228\n",
       "         ...  \n",
       "544      16092\n",
       "7649      8137\n",
       "9904      2754\n",
       "4851      6135\n",
       "6502      5678\n",
       "Name: Price, Length: 3739, dtype: int64"
      ]
     },
     "execution_count": 67,
     "metadata": {},
     "output_type": "execute_result"
    }
   ],
   "source": [
    "y_test         # actual Prediction"
   ]
  },
  {
   "cell_type": "code",
   "execution_count": 68,
   "id": "50df8654",
   "metadata": {},
   "outputs": [
    {
     "data": {
      "text/plain": [
       "array([9297.68441169, 9642.79234945, 2997.53075164, ..., 5527.10537381,\n",
       "       8044.12206091, 5606.03526845])"
      ]
     },
     "execution_count": 68,
     "metadata": {},
     "output_type": "execute_result"
    }
   ],
   "source": [
    "y_predict    # Predicted data"
   ]
  },
  {
   "cell_type": "markdown",
   "id": "3f95e224",
   "metadata": {},
   "source": [
    "## Model Evaluation"
   ]
  },
  {
   "cell_type": "code",
   "execution_count": 69,
   "id": "ea04222c",
   "metadata": {},
   "outputs": [],
   "source": [
    "# Matrics\n",
    "from sklearn.metrics import r2_score,mean_squared_error,mean_absolute_error"
   ]
  },
  {
   "cell_type": "code",
   "execution_count": 70,
   "id": "d230d2d6",
   "metadata": {},
   "outputs": [
    {
     "name": "stdout",
     "output_type": "stream",
     "text": [
      " R2 score is : 0.42486169139759056\n"
     ]
    }
   ],
   "source": [
    "# r2score for testing\n",
    "r2score=r2_score(y_test,y_predict)\n",
    "print(\" R2 score is :\",r2score)"
   ]
  },
  {
   "cell_type": "code",
   "execution_count": 71,
   "id": "09577b2f",
   "metadata": {},
   "outputs": [
    {
     "name": "stdout",
     "output_type": "stream",
     "text": [
      "R2 score is: 0.42486169139759056\n",
      "Mean_squared_error: 11140883.080507591\n",
      "Meas_Absolute_error: 2516.64518730356\n",
      "Root_mean_squared_error: 3337.7961412446375\n"
     ]
    }
   ],
   "source": [
    "# Linear Regression model Score\n",
    "print('R2 score is:',r2score)\n",
    "print(\"Mean_squared_error:\",mean_squared_error(y_test,y_predict))\n",
    "print(\"Meas_Absolute_error:\",mean_absolute_error(y_test,y_predict))\n",
    "print(\"Root_mean_squared_error:\",(np.sqrt(mean_squared_error(y_test,y_predict))))"
   ]
  },
  {
   "cell_type": "code",
   "execution_count": 72,
   "id": "46405946",
   "metadata": {},
   "outputs": [
    {
     "data": {
      "text/plain": [
       "(3739, 13)"
      ]
     },
     "execution_count": 72,
     "metadata": {},
     "output_type": "execute_result"
    }
   ],
   "source": [
    "x_test.shape"
   ]
  },
  {
   "cell_type": "code",
   "execution_count": 73,
   "id": "f62b3785",
   "metadata": {},
   "outputs": [
    {
     "name": "stdout",
     "output_type": "stream",
     "text": [
      "adjusted R2 score is : 0.406387187941592\n"
     ]
    }
   ],
   "source": [
    "# Adjusted R2 score\n",
    "adj_r2score=1-(1-0.41)*(2137-1)/(2137-13-1)\n",
    "print('adjusted R2 score is :',adj_r2score)"
   ]
  },
  {
   "cell_type": "code",
   "execution_count": 74,
   "id": "53da7cef",
   "metadata": {},
   "outputs": [
    {
     "data": {
      "text/plain": [
       "array([ 8320.2928793 , 12464.76201969,  4896.79960385, ...,\n",
       "        5498.5609626 , 10104.06855951,  5048.9318427 ])"
      ]
     },
     "execution_count": 74,
     "metadata": {},
     "output_type": "execute_result"
    }
   ],
   "source": [
    "# train r2 score\n",
    "y_pred_train=LR.predict(x_train)\n",
    "y_pred_train"
   ]
  },
  {
   "cell_type": "code",
   "execution_count": 75,
   "id": "a755964b",
   "metadata": {},
   "outputs": [
    {
     "name": "stdout",
     "output_type": "stream",
     "text": [
      "Training r2 score is : 0.41230652492123976\n"
     ]
    }
   ],
   "source": [
    "# r2score for training\n",
    "r2score_train=r2_score(y_train,y_pred_train)\n",
    "print(\"Training r2 score is :\",r2score_train)"
   ]
  },
  {
   "cell_type": "code",
   "execution_count": 76,
   "id": "a5a16b9b",
   "metadata": {},
   "outputs": [
    {
     "data": {
      "text/plain": [
       "(6943, 13)"
      ]
     },
     "execution_count": 76,
     "metadata": {},
     "output_type": "execute_result"
    }
   ],
   "source": [
    "x_train.shape"
   ]
  },
  {
   "cell_type": "code",
   "execution_count": 77,
   "id": "af825034",
   "metadata": {},
   "outputs": [
    {
     "name": "stdout",
     "output_type": "stream",
     "text": [
      "adjusted R2 score is : 0.40910092603446246\n"
     ]
    }
   ],
   "source": [
    "#adjusted r2 score for training\n",
    "adj_r2score_tra=1-(1-0.41)*(8545-1)/(8545-13-1)\n",
    "print('adjusted R2 score is :',adj_r2score_tra)"
   ]
  },
  {
   "cell_type": "markdown",
   "id": "20750f37",
   "metadata": {},
   "source": [
    "# SVM algorithms"
   ]
  },
  {
   "cell_type": "code",
   "execution_count": 78,
   "id": "943891fa",
   "metadata": {},
   "outputs": [
    {
     "data": {
      "text/html": [
       "<style>#sk-container-id-1 {color: black;background-color: white;}#sk-container-id-1 pre{padding: 0;}#sk-container-id-1 div.sk-toggleable {background-color: white;}#sk-container-id-1 label.sk-toggleable__label {cursor: pointer;display: block;width: 100%;margin-bottom: 0;padding: 0.3em;box-sizing: border-box;text-align: center;}#sk-container-id-1 label.sk-toggleable__label-arrow:before {content: \"▸\";float: left;margin-right: 0.25em;color: #696969;}#sk-container-id-1 label.sk-toggleable__label-arrow:hover:before {color: black;}#sk-container-id-1 div.sk-estimator:hover label.sk-toggleable__label-arrow:before {color: black;}#sk-container-id-1 div.sk-toggleable__content {max-height: 0;max-width: 0;overflow: hidden;text-align: left;background-color: #f0f8ff;}#sk-container-id-1 div.sk-toggleable__content pre {margin: 0.2em;color: black;border-radius: 0.25em;background-color: #f0f8ff;}#sk-container-id-1 input.sk-toggleable__control:checked~div.sk-toggleable__content {max-height: 200px;max-width: 100%;overflow: auto;}#sk-container-id-1 input.sk-toggleable__control:checked~label.sk-toggleable__label-arrow:before {content: \"▾\";}#sk-container-id-1 div.sk-estimator input.sk-toggleable__control:checked~label.sk-toggleable__label {background-color: #d4ebff;}#sk-container-id-1 div.sk-label input.sk-toggleable__control:checked~label.sk-toggleable__label {background-color: #d4ebff;}#sk-container-id-1 input.sk-hidden--visually {border: 0;clip: rect(1px 1px 1px 1px);clip: rect(1px, 1px, 1px, 1px);height: 1px;margin: -1px;overflow: hidden;padding: 0;position: absolute;width: 1px;}#sk-container-id-1 div.sk-estimator {font-family: monospace;background-color: #f0f8ff;border: 1px dotted black;border-radius: 0.25em;box-sizing: border-box;margin-bottom: 0.5em;}#sk-container-id-1 div.sk-estimator:hover {background-color: #d4ebff;}#sk-container-id-1 div.sk-parallel-item::after {content: \"\";width: 100%;border-bottom: 1px solid gray;flex-grow: 1;}#sk-container-id-1 div.sk-label:hover label.sk-toggleable__label {background-color: #d4ebff;}#sk-container-id-1 div.sk-serial::before {content: \"\";position: absolute;border-left: 1px solid gray;box-sizing: border-box;top: 0;bottom: 0;left: 50%;z-index: 0;}#sk-container-id-1 div.sk-serial {display: flex;flex-direction: column;align-items: center;background-color: white;padding-right: 0.2em;padding-left: 0.2em;position: relative;}#sk-container-id-1 div.sk-item {position: relative;z-index: 1;}#sk-container-id-1 div.sk-parallel {display: flex;align-items: stretch;justify-content: center;background-color: white;position: relative;}#sk-container-id-1 div.sk-item::before, #sk-container-id-1 div.sk-parallel-item::before {content: \"\";position: absolute;border-left: 1px solid gray;box-sizing: border-box;top: 0;bottom: 0;left: 50%;z-index: -1;}#sk-container-id-1 div.sk-parallel-item {display: flex;flex-direction: column;z-index: 1;position: relative;background-color: white;}#sk-container-id-1 div.sk-parallel-item:first-child::after {align-self: flex-end;width: 50%;}#sk-container-id-1 div.sk-parallel-item:last-child::after {align-self: flex-start;width: 50%;}#sk-container-id-1 div.sk-parallel-item:only-child::after {width: 0;}#sk-container-id-1 div.sk-dashed-wrapped {border: 1px dashed gray;margin: 0 0.4em 0.5em 0.4em;box-sizing: border-box;padding-bottom: 0.4em;background-color: white;}#sk-container-id-1 div.sk-label label {font-family: monospace;font-weight: bold;display: inline-block;line-height: 1.2em;}#sk-container-id-1 div.sk-label-container {text-align: center;}#sk-container-id-1 div.sk-container {/* jupyter's `normalize.less` sets `[hidden] { display: none; }` but bootstrap.min.css set `[hidden] { display: none !important; }` so we also need the `!important` here to be able to override the default hidden behavior on the sphinx rendered scikit-learn.org. See: https://github.com/scikit-learn/scikit-learn/issues/21755 */display: inline-block !important;position: relative;}#sk-container-id-1 div.sk-text-repr-fallback {display: none;}</style><div id=\"sk-container-id-1\" class=\"sk-top-container\"><div class=\"sk-text-repr-fallback\"><pre>SVR()</pre><b>In a Jupyter environment, please rerun this cell to show the HTML representation or trust the notebook. <br />On GitHub, the HTML representation is unable to render, please try loading this page with nbviewer.org.</b></div><div class=\"sk-container\" hidden><div class=\"sk-item\"><div class=\"sk-estimator sk-toggleable\"><input class=\"sk-toggleable__control sk-hidden--visually\" id=\"sk-estimator-id-1\" type=\"checkbox\" checked><label for=\"sk-estimator-id-1\" class=\"sk-toggleable__label sk-toggleable__label-arrow\">SVR</label><div class=\"sk-toggleable__content\"><pre>SVR()</pre></div></div></div></div></div>"
      ],
      "text/plain": [
       "SVR()"
      ]
     },
     "execution_count": 78,
     "metadata": {},
     "output_type": "execute_result"
    }
   ],
   "source": [
    "from sklearn.svm import SVR\n",
    "sv=SVR()\n",
    "sv.fit(x_train,y_train)   # Fit the training data"
   ]
  },
  {
   "cell_type": "code",
   "execution_count": 79,
   "id": "aa89caaa",
   "metadata": {},
   "outputs": [
    {
     "data": {
      "text/plain": [
       "array([8304.09186586, 8442.60951735, 8022.36714527, ..., 8050.20619461,\n",
       "       8113.72419633, 8096.42346383])"
      ]
     },
     "execution_count": 79,
     "metadata": {},
     "output_type": "execute_result"
    }
   ],
   "source": [
    "y_pred2=sv.predict(x_test)   # Test data prediction\n",
    "y_pred2"
   ]
  },
  {
   "cell_type": "code",
   "execution_count": 80,
   "id": "99c6ffd3",
   "metadata": {},
   "outputs": [
    {
     "name": "stdout",
     "output_type": "stream",
     "text": [
      "R2 score 0.029018322061977075\n"
     ]
    }
   ],
   "source": [
    "r2score_sv=r2_score(y_test,y_pred2)\n",
    "print(\"R2 score\",r2score_sv)"
   ]
  },
  {
   "cell_type": "code",
   "execution_count": 81,
   "id": "96a08ffb",
   "metadata": {},
   "outputs": [
    {
     "name": "stdout",
     "output_type": "stream",
     "text": [
      "R2 score is: 0.029018322061977075\n",
      "Mean_squared_error: 18808681.643045872\n",
      "Meas_Absolute_error: 3445.7559412685882\n",
      "Root_mean_squared_error: 4336.897698014777\n"
     ]
    }
   ],
   "source": [
    "# SVM model score\n",
    "print('R2 score is:',r2score_sv)\n",
    "print(\"Mean_squared_error:\",mean_squared_error(y_test,y_pred2))\n",
    "print(\"Meas_Absolute_error:\",mean_absolute_error(y_test,y_pred2))\n",
    "print(\"Root_mean_squared_error:\",(np.sqrt(mean_squared_error(y_test,y_pred2))))"
   ]
  },
  {
   "cell_type": "code",
   "execution_count": 82,
   "id": "ae79ced3",
   "metadata": {},
   "outputs": [
    {
     "data": {
      "text/plain": [
       "(3739, 13)"
      ]
     },
     "execution_count": 82,
     "metadata": {},
     "output_type": "execute_result"
    }
   ],
   "source": [
    "x_test.shape                # test data"
   ]
  },
  {
   "cell_type": "code",
   "execution_count": 83,
   "id": "8d1052a7",
   "metadata": {},
   "outputs": [
    {
     "data": {
      "text/plain": [
       "-0.0010927932171456156"
      ]
     },
     "execution_count": 83,
     "metadata": {},
     "output_type": "execute_result"
    }
   ],
   "source": [
    "# adjusted r2 score\n",
    "adj_r2score_sv=1-(1-0.005)*(2137-1)/(2137-13-1)\n",
    "adj_r2score_sv"
   ]
  },
  {
   "cell_type": "code",
   "execution_count": 84,
   "id": "eb2ec785",
   "metadata": {},
   "outputs": [],
   "source": [
    "# Train data prediction\n",
    "y_pred2_train=sv.predict(x_train)"
   ]
  },
  {
   "cell_type": "code",
   "execution_count": 85,
   "id": "3d7c704e",
   "metadata": {},
   "outputs": [
    {
     "name": "stdout",
     "output_type": "stream",
     "text": [
      "Train r2 score : 0.01836423917526031\n"
     ]
    }
   ],
   "source": [
    "# Train r2 score\n",
    "r2score_train=r2_score(y_train,y_pred2_train)\n",
    "print('Train r2 score :',r2score_train)"
   ]
  },
  {
   "cell_type": "markdown",
   "id": "7dca5a7d",
   "metadata": {},
   "source": [
    "## Gradient Boosting"
   ]
  },
  {
   "cell_type": "code",
   "execution_count": 86,
   "id": "983522ac",
   "metadata": {},
   "outputs": [
    {
     "data": {
      "text/html": [
       "<style>#sk-container-id-2 {color: black;background-color: white;}#sk-container-id-2 pre{padding: 0;}#sk-container-id-2 div.sk-toggleable {background-color: white;}#sk-container-id-2 label.sk-toggleable__label {cursor: pointer;display: block;width: 100%;margin-bottom: 0;padding: 0.3em;box-sizing: border-box;text-align: center;}#sk-container-id-2 label.sk-toggleable__label-arrow:before {content: \"▸\";float: left;margin-right: 0.25em;color: #696969;}#sk-container-id-2 label.sk-toggleable__label-arrow:hover:before {color: black;}#sk-container-id-2 div.sk-estimator:hover label.sk-toggleable__label-arrow:before {color: black;}#sk-container-id-2 div.sk-toggleable__content {max-height: 0;max-width: 0;overflow: hidden;text-align: left;background-color: #f0f8ff;}#sk-container-id-2 div.sk-toggleable__content pre {margin: 0.2em;color: black;border-radius: 0.25em;background-color: #f0f8ff;}#sk-container-id-2 input.sk-toggleable__control:checked~div.sk-toggleable__content {max-height: 200px;max-width: 100%;overflow: auto;}#sk-container-id-2 input.sk-toggleable__control:checked~label.sk-toggleable__label-arrow:before {content: \"▾\";}#sk-container-id-2 div.sk-estimator input.sk-toggleable__control:checked~label.sk-toggleable__label {background-color: #d4ebff;}#sk-container-id-2 div.sk-label input.sk-toggleable__control:checked~label.sk-toggleable__label {background-color: #d4ebff;}#sk-container-id-2 input.sk-hidden--visually {border: 0;clip: rect(1px 1px 1px 1px);clip: rect(1px, 1px, 1px, 1px);height: 1px;margin: -1px;overflow: hidden;padding: 0;position: absolute;width: 1px;}#sk-container-id-2 div.sk-estimator {font-family: monospace;background-color: #f0f8ff;border: 1px dotted black;border-radius: 0.25em;box-sizing: border-box;margin-bottom: 0.5em;}#sk-container-id-2 div.sk-estimator:hover {background-color: #d4ebff;}#sk-container-id-2 div.sk-parallel-item::after {content: \"\";width: 100%;border-bottom: 1px solid gray;flex-grow: 1;}#sk-container-id-2 div.sk-label:hover label.sk-toggleable__label {background-color: #d4ebff;}#sk-container-id-2 div.sk-serial::before {content: \"\";position: absolute;border-left: 1px solid gray;box-sizing: border-box;top: 0;bottom: 0;left: 50%;z-index: 0;}#sk-container-id-2 div.sk-serial {display: flex;flex-direction: column;align-items: center;background-color: white;padding-right: 0.2em;padding-left: 0.2em;position: relative;}#sk-container-id-2 div.sk-item {position: relative;z-index: 1;}#sk-container-id-2 div.sk-parallel {display: flex;align-items: stretch;justify-content: center;background-color: white;position: relative;}#sk-container-id-2 div.sk-item::before, #sk-container-id-2 div.sk-parallel-item::before {content: \"\";position: absolute;border-left: 1px solid gray;box-sizing: border-box;top: 0;bottom: 0;left: 50%;z-index: -1;}#sk-container-id-2 div.sk-parallel-item {display: flex;flex-direction: column;z-index: 1;position: relative;background-color: white;}#sk-container-id-2 div.sk-parallel-item:first-child::after {align-self: flex-end;width: 50%;}#sk-container-id-2 div.sk-parallel-item:last-child::after {align-self: flex-start;width: 50%;}#sk-container-id-2 div.sk-parallel-item:only-child::after {width: 0;}#sk-container-id-2 div.sk-dashed-wrapped {border: 1px dashed gray;margin: 0 0.4em 0.5em 0.4em;box-sizing: border-box;padding-bottom: 0.4em;background-color: white;}#sk-container-id-2 div.sk-label label {font-family: monospace;font-weight: bold;display: inline-block;line-height: 1.2em;}#sk-container-id-2 div.sk-label-container {text-align: center;}#sk-container-id-2 div.sk-container {/* jupyter's `normalize.less` sets `[hidden] { display: none; }` but bootstrap.min.css set `[hidden] { display: none !important; }` so we also need the `!important` here to be able to override the default hidden behavior on the sphinx rendered scikit-learn.org. See: https://github.com/scikit-learn/scikit-learn/issues/21755 */display: inline-block !important;position: relative;}#sk-container-id-2 div.sk-text-repr-fallback {display: none;}</style><div id=\"sk-container-id-2\" class=\"sk-top-container\"><div class=\"sk-text-repr-fallback\"><pre>GradientBoostingRegressor()</pre><b>In a Jupyter environment, please rerun this cell to show the HTML representation or trust the notebook. <br />On GitHub, the HTML representation is unable to render, please try loading this page with nbviewer.org.</b></div><div class=\"sk-container\" hidden><div class=\"sk-item\"><div class=\"sk-estimator sk-toggleable\"><input class=\"sk-toggleable__control sk-hidden--visually\" id=\"sk-estimator-id-2\" type=\"checkbox\" checked><label for=\"sk-estimator-id-2\" class=\"sk-toggleable__label sk-toggleable__label-arrow\">GradientBoostingRegressor</label><div class=\"sk-toggleable__content\"><pre>GradientBoostingRegressor()</pre></div></div></div></div></div>"
      ],
      "text/plain": [
       "GradientBoostingRegressor()"
      ]
     },
     "execution_count": 86,
     "metadata": {},
     "output_type": "execute_result"
    }
   ],
   "source": [
    "from sklearn.ensemble import GradientBoostingRegressor\n",
    "gb=GradientBoostingRegressor() # object creation\n",
    "gb.fit(x_train,y_train)   # fitting the training data"
   ]
  },
  {
   "cell_type": "code",
   "execution_count": 87,
   "id": "42c7fb98",
   "metadata": {},
   "outputs": [
    {
     "data": {
      "text/plain": [
       "array([ 9961.0904224 , 13007.55758624,  4492.47337841, ...,\n",
       "        2950.47415766,  7773.15622935,  6112.76398996])"
      ]
     },
     "execution_count": 87,
     "metadata": {},
     "output_type": "execute_result"
    }
   ],
   "source": [
    "# Test data prediction\n",
    "y_pred1=gb.predict(x_test)\n",
    "y_pred1"
   ]
  },
  {
   "cell_type": "code",
   "execution_count": 88,
   "id": "dc3f22e0",
   "metadata": {},
   "outputs": [
    {
     "name": "stdout",
     "output_type": "stream",
     "text": [
      "R2 score is : 0.8158849637580083\n"
     ]
    }
   ],
   "source": [
    "#Testing r2 score\n",
    "r2score_gb=r2_score(y_test,y_pred1)\n",
    "print('R2 score is :',r2score_gb)"
   ]
  },
  {
   "cell_type": "code",
   "execution_count": 89,
   "id": "758587b5",
   "metadata": {},
   "outputs": [
    {
     "data": {
      "text/plain": [
       "array([10553.73416234,  8898.9031202 ,  5383.3475824 , ...,\n",
       "        4489.85952968, 10510.93467135,  5850.1790582 ])"
      ]
     },
     "execution_count": 89,
     "metadata": {},
     "output_type": "execute_result"
    }
   ],
   "source": [
    "# Train data prediction\n",
    "y_pred1_gb_train=gb.predict(x_train)\n",
    "y_pred1_gb_train"
   ]
  },
  {
   "cell_type": "code",
   "execution_count": 90,
   "id": "5633687e",
   "metadata": {},
   "outputs": [
    {
     "name": "stdout",
     "output_type": "stream",
     "text": [
      "Training r2 score is : 0.8288372994725303\n"
     ]
    }
   ],
   "source": [
    "# Training r2 score\n",
    "r2score_gb_train=r2_score(y_train,y_pred1_gb_train)\n",
    "print('Training r2 score is :',r2score_gb_train)"
   ]
  },
  {
   "cell_type": "code",
   "execution_count": 91,
   "id": "aed3c243",
   "metadata": {},
   "outputs": [
    {
     "name": "stdout",
     "output_type": "stream",
     "text": [
      "R2 score is: 0.8158849637580083\n",
      "Mean_squared_error: 3566453.601603915\n",
      "Meas_Absolute_error: 1284.6959439103998\n",
      "Root_mean_squared_error: 1888.505653050558\n"
     ]
    }
   ],
   "source": [
    "# Gradient Boosting Regression Model score\n",
    "print('R2 score is:',r2score_gb)\n",
    "print(\"Mean_squared_error:\",mean_squared_error(y_test,y_pred1))\n",
    "print(\"Meas_Absolute_error:\",mean_absolute_error(y_test,y_pred1))\n",
    "print(\"Root_mean_squared_error:\",(np.sqrt(mean_squared_error(y_test,y_pred1))))"
   ]
  },
  {
   "cell_type": "code",
   "execution_count": 92,
   "id": "45be5fea",
   "metadata": {},
   "outputs": [
    {
     "data": {
      "text/plain": [
       "(3739, 13)"
      ]
     },
     "execution_count": 92,
     "metadata": {},
     "output_type": "execute_result"
    }
   ],
   "source": [
    "x_test.shape"
   ]
  },
  {
   "cell_type": "code",
   "execution_count": 93,
   "id": "d19dc01c",
   "metadata": {},
   "outputs": [
    {
     "data": {
      "text/plain": [
       "0.7987753179463024"
      ]
     },
     "execution_count": 93,
     "metadata": {},
     "output_type": "execute_result"
    }
   ],
   "source": [
    "# Adjusted r2 score for test data\n",
    "adj_r2score_gb=1-(1-0.80)*(2137-1)/(2137-13-1)\n",
    "adj_r2score_gb"
   ]
  },
  {
   "cell_type": "code",
   "execution_count": 94,
   "id": "70f81916",
   "metadata": {},
   "outputs": [
    {
     "data": {
      "text/plain": [
       "(6943, 13)"
      ]
     },
     "execution_count": 94,
     "metadata": {},
     "output_type": "execute_result"
    }
   ],
   "source": [
    "x_train.shape"
   ]
  },
  {
   "cell_type": "code",
   "execution_count": 95,
   "id": "efca3b02",
   "metadata": {},
   "outputs": [
    {
     "data": {
      "text/plain": [
       "0.819725706247802"
      ]
     },
     "execution_count": 95,
     "metadata": {},
     "output_type": "execute_result"
    }
   ],
   "source": [
    "# Adjusted r2 score for training data\n",
    "adj_r2score_gb_train=1-(1-0.82)*(8545-1)/(8545-13-1)\n",
    "adj_r2score_gb_train"
   ]
  },
  {
   "cell_type": "markdown",
   "id": "26c39203",
   "metadata": {},
   "source": [
    "# Logistic Regression"
   ]
  },
  {
   "cell_type": "code",
   "execution_count": 96,
   "id": "9d97eefb",
   "metadata": {},
   "outputs": [
    {
     "data": {
      "text/html": [
       "<style>#sk-container-id-3 {color: black;background-color: white;}#sk-container-id-3 pre{padding: 0;}#sk-container-id-3 div.sk-toggleable {background-color: white;}#sk-container-id-3 label.sk-toggleable__label {cursor: pointer;display: block;width: 100%;margin-bottom: 0;padding: 0.3em;box-sizing: border-box;text-align: center;}#sk-container-id-3 label.sk-toggleable__label-arrow:before {content: \"▸\";float: left;margin-right: 0.25em;color: #696969;}#sk-container-id-3 label.sk-toggleable__label-arrow:hover:before {color: black;}#sk-container-id-3 div.sk-estimator:hover label.sk-toggleable__label-arrow:before {color: black;}#sk-container-id-3 div.sk-toggleable__content {max-height: 0;max-width: 0;overflow: hidden;text-align: left;background-color: #f0f8ff;}#sk-container-id-3 div.sk-toggleable__content pre {margin: 0.2em;color: black;border-radius: 0.25em;background-color: #f0f8ff;}#sk-container-id-3 input.sk-toggleable__control:checked~div.sk-toggleable__content {max-height: 200px;max-width: 100%;overflow: auto;}#sk-container-id-3 input.sk-toggleable__control:checked~label.sk-toggleable__label-arrow:before {content: \"▾\";}#sk-container-id-3 div.sk-estimator input.sk-toggleable__control:checked~label.sk-toggleable__label {background-color: #d4ebff;}#sk-container-id-3 div.sk-label input.sk-toggleable__control:checked~label.sk-toggleable__label {background-color: #d4ebff;}#sk-container-id-3 input.sk-hidden--visually {border: 0;clip: rect(1px 1px 1px 1px);clip: rect(1px, 1px, 1px, 1px);height: 1px;margin: -1px;overflow: hidden;padding: 0;position: absolute;width: 1px;}#sk-container-id-3 div.sk-estimator {font-family: monospace;background-color: #f0f8ff;border: 1px dotted black;border-radius: 0.25em;box-sizing: border-box;margin-bottom: 0.5em;}#sk-container-id-3 div.sk-estimator:hover {background-color: #d4ebff;}#sk-container-id-3 div.sk-parallel-item::after {content: \"\";width: 100%;border-bottom: 1px solid gray;flex-grow: 1;}#sk-container-id-3 div.sk-label:hover label.sk-toggleable__label {background-color: #d4ebff;}#sk-container-id-3 div.sk-serial::before {content: \"\";position: absolute;border-left: 1px solid gray;box-sizing: border-box;top: 0;bottom: 0;left: 50%;z-index: 0;}#sk-container-id-3 div.sk-serial {display: flex;flex-direction: column;align-items: center;background-color: white;padding-right: 0.2em;padding-left: 0.2em;position: relative;}#sk-container-id-3 div.sk-item {position: relative;z-index: 1;}#sk-container-id-3 div.sk-parallel {display: flex;align-items: stretch;justify-content: center;background-color: white;position: relative;}#sk-container-id-3 div.sk-item::before, #sk-container-id-3 div.sk-parallel-item::before {content: \"\";position: absolute;border-left: 1px solid gray;box-sizing: border-box;top: 0;bottom: 0;left: 50%;z-index: -1;}#sk-container-id-3 div.sk-parallel-item {display: flex;flex-direction: column;z-index: 1;position: relative;background-color: white;}#sk-container-id-3 div.sk-parallel-item:first-child::after {align-self: flex-end;width: 50%;}#sk-container-id-3 div.sk-parallel-item:last-child::after {align-self: flex-start;width: 50%;}#sk-container-id-3 div.sk-parallel-item:only-child::after {width: 0;}#sk-container-id-3 div.sk-dashed-wrapped {border: 1px dashed gray;margin: 0 0.4em 0.5em 0.4em;box-sizing: border-box;padding-bottom: 0.4em;background-color: white;}#sk-container-id-3 div.sk-label label {font-family: monospace;font-weight: bold;display: inline-block;line-height: 1.2em;}#sk-container-id-3 div.sk-label-container {text-align: center;}#sk-container-id-3 div.sk-container {/* jupyter's `normalize.less` sets `[hidden] { display: none; }` but bootstrap.min.css set `[hidden] { display: none !important; }` so we also need the `!important` here to be able to override the default hidden behavior on the sphinx rendered scikit-learn.org. See: https://github.com/scikit-learn/scikit-learn/issues/21755 */display: inline-block !important;position: relative;}#sk-container-id-3 div.sk-text-repr-fallback {display: none;}</style><div id=\"sk-container-id-3\" class=\"sk-top-container\"><div class=\"sk-text-repr-fallback\"><pre>LogisticRegression()</pre><b>In a Jupyter environment, please rerun this cell to show the HTML representation or trust the notebook. <br />On GitHub, the HTML representation is unable to render, please try loading this page with nbviewer.org.</b></div><div class=\"sk-container\" hidden><div class=\"sk-item\"><div class=\"sk-estimator sk-toggleable\"><input class=\"sk-toggleable__control sk-hidden--visually\" id=\"sk-estimator-id-3\" type=\"checkbox\" checked><label for=\"sk-estimator-id-3\" class=\"sk-toggleable__label sk-toggleable__label-arrow\">LogisticRegression</label><div class=\"sk-toggleable__content\"><pre>LogisticRegression()</pre></div></div></div></div></div>"
      ],
      "text/plain": [
       "LogisticRegression()"
      ]
     },
     "execution_count": 96,
     "metadata": {},
     "output_type": "execute_result"
    }
   ],
   "source": [
    "from sklearn.linear_model import LogisticRegression\n",
    "lgr=LogisticRegression()\n",
    "lgr.fit(x_train,y_train)"
   ]
  },
  {
   "cell_type": "code",
   "execution_count": 97,
   "id": "1b3276d1",
   "metadata": {},
   "outputs": [
    {
     "data": {
      "text/plain": [
       "array([10151, 14781,  4804, ...,  2227,  4482,  5678], dtype=int64)"
      ]
     },
     "execution_count": 97,
     "metadata": {},
     "output_type": "execute_result"
    }
   ],
   "source": [
    "y_pred_lgr=lgr.predict(x_test)\n",
    "y_pred_lgr"
   ]
  },
  {
   "cell_type": "code",
   "execution_count": 98,
   "id": "27335831",
   "metadata": {},
   "outputs": [
    {
     "name": "stdout",
     "output_type": "stream",
     "text": [
      " r2 score is : 0.46863635913061563\n"
     ]
    }
   ],
   "source": [
    "r2score_lgr=r2_score(y_test,y_pred_lgr)\n",
    "print(' r2 score is :',r2score_lgr)"
   ]
  },
  {
   "cell_type": "code",
   "execution_count": 99,
   "id": "1a3f8a3a",
   "metadata": {},
   "outputs": [
    {
     "name": "stdout",
     "output_type": "stream",
     "text": [
      "R2 score is: 0.46863635913061563\n",
      "Mean_squared_error: 10292933.208611928\n",
      "Meas_Absolute_error: 1760.8684140144424\n",
      "Root_mean_squared_error: 3208.2601528884666\n"
     ]
    }
   ],
   "source": [
    "print('R2 score is:',r2score_lgr)\n",
    "print(\"Mean_squared_error:\",mean_squared_error(y_test,y_pred_lgr))\n",
    "print(\"Meas_Absolute_error:\",mean_absolute_error(y_test,y_pred_lgr))\n",
    "print(\"Root_mean_squared_error:\",(np.sqrt(mean_squared_error(y_test,y_pred_lgr))))"
   ]
  },
  {
   "cell_type": "code",
   "execution_count": 100,
   "id": "2242959c",
   "metadata": {},
   "outputs": [
    {
     "data": {
      "text/plain": [
       "(3739, 13)"
      ]
     },
     "execution_count": 100,
     "metadata": {},
     "output_type": "execute_result"
    }
   ],
   "source": [
    "x_test.shape"
   ]
  },
  {
   "cell_type": "code",
   "execution_count": 101,
   "id": "3d8a2ef1",
   "metadata": {},
   "outputs": [
    {
     "name": "stdout",
     "output_type": "stream",
     "text": [
      "Adjusted r2 score is : 0.47681582666038624\n"
     ]
    }
   ],
   "source": [
    "#adjusted r2 score\n",
    "adj_r2score_lgr=1-(1-0.48)*(2137-1)/(2137-13-1)\n",
    "print('Adjusted r2 score is :',adj_r2score_lgr)"
   ]
  },
  {
   "cell_type": "code",
   "execution_count": 102,
   "id": "67b20b6a",
   "metadata": {},
   "outputs": [],
   "source": [
    "# Train data prediction\n",
    "y_pred_lgr1=lgr.predict(x_train)\n"
   ]
  },
  {
   "cell_type": "code",
   "execution_count": 103,
   "id": "a4c221e5",
   "metadata": {},
   "outputs": [
    {
     "name": "stdout",
     "output_type": "stream",
     "text": [
      "Train r2 score : 0.5682865980604788\n"
     ]
    }
   ],
   "source": [
    "# Train r2 score\n",
    "r2score_lgr_train=r2_score(y_train,y_pred_lgr1)\n",
    "print('Train r2 score :',r2score_lgr_train)"
   ]
  },
  {
   "cell_type": "markdown",
   "id": "3c0df476",
   "metadata": {},
   "source": [
    "# Decision Tree Regression"
   ]
  },
  {
   "cell_type": "code",
   "execution_count": 104,
   "id": "fbf001af",
   "metadata": {},
   "outputs": [
    {
     "data": {
      "text/html": [
       "<style>#sk-container-id-4 {color: black;background-color: white;}#sk-container-id-4 pre{padding: 0;}#sk-container-id-4 div.sk-toggleable {background-color: white;}#sk-container-id-4 label.sk-toggleable__label {cursor: pointer;display: block;width: 100%;margin-bottom: 0;padding: 0.3em;box-sizing: border-box;text-align: center;}#sk-container-id-4 label.sk-toggleable__label-arrow:before {content: \"▸\";float: left;margin-right: 0.25em;color: #696969;}#sk-container-id-4 label.sk-toggleable__label-arrow:hover:before {color: black;}#sk-container-id-4 div.sk-estimator:hover label.sk-toggleable__label-arrow:before {color: black;}#sk-container-id-4 div.sk-toggleable__content {max-height: 0;max-width: 0;overflow: hidden;text-align: left;background-color: #f0f8ff;}#sk-container-id-4 div.sk-toggleable__content pre {margin: 0.2em;color: black;border-radius: 0.25em;background-color: #f0f8ff;}#sk-container-id-4 input.sk-toggleable__control:checked~div.sk-toggleable__content {max-height: 200px;max-width: 100%;overflow: auto;}#sk-container-id-4 input.sk-toggleable__control:checked~label.sk-toggleable__label-arrow:before {content: \"▾\";}#sk-container-id-4 div.sk-estimator input.sk-toggleable__control:checked~label.sk-toggleable__label {background-color: #d4ebff;}#sk-container-id-4 div.sk-label input.sk-toggleable__control:checked~label.sk-toggleable__label {background-color: #d4ebff;}#sk-container-id-4 input.sk-hidden--visually {border: 0;clip: rect(1px 1px 1px 1px);clip: rect(1px, 1px, 1px, 1px);height: 1px;margin: -1px;overflow: hidden;padding: 0;position: absolute;width: 1px;}#sk-container-id-4 div.sk-estimator {font-family: monospace;background-color: #f0f8ff;border: 1px dotted black;border-radius: 0.25em;box-sizing: border-box;margin-bottom: 0.5em;}#sk-container-id-4 div.sk-estimator:hover {background-color: #d4ebff;}#sk-container-id-4 div.sk-parallel-item::after {content: \"\";width: 100%;border-bottom: 1px solid gray;flex-grow: 1;}#sk-container-id-4 div.sk-label:hover label.sk-toggleable__label {background-color: #d4ebff;}#sk-container-id-4 div.sk-serial::before {content: \"\";position: absolute;border-left: 1px solid gray;box-sizing: border-box;top: 0;bottom: 0;left: 50%;z-index: 0;}#sk-container-id-4 div.sk-serial {display: flex;flex-direction: column;align-items: center;background-color: white;padding-right: 0.2em;padding-left: 0.2em;position: relative;}#sk-container-id-4 div.sk-item {position: relative;z-index: 1;}#sk-container-id-4 div.sk-parallel {display: flex;align-items: stretch;justify-content: center;background-color: white;position: relative;}#sk-container-id-4 div.sk-item::before, #sk-container-id-4 div.sk-parallel-item::before {content: \"\";position: absolute;border-left: 1px solid gray;box-sizing: border-box;top: 0;bottom: 0;left: 50%;z-index: -1;}#sk-container-id-4 div.sk-parallel-item {display: flex;flex-direction: column;z-index: 1;position: relative;background-color: white;}#sk-container-id-4 div.sk-parallel-item:first-child::after {align-self: flex-end;width: 50%;}#sk-container-id-4 div.sk-parallel-item:last-child::after {align-self: flex-start;width: 50%;}#sk-container-id-4 div.sk-parallel-item:only-child::after {width: 0;}#sk-container-id-4 div.sk-dashed-wrapped {border: 1px dashed gray;margin: 0 0.4em 0.5em 0.4em;box-sizing: border-box;padding-bottom: 0.4em;background-color: white;}#sk-container-id-4 div.sk-label label {font-family: monospace;font-weight: bold;display: inline-block;line-height: 1.2em;}#sk-container-id-4 div.sk-label-container {text-align: center;}#sk-container-id-4 div.sk-container {/* jupyter's `normalize.less` sets `[hidden] { display: none; }` but bootstrap.min.css set `[hidden] { display: none !important; }` so we also need the `!important` here to be able to override the default hidden behavior on the sphinx rendered scikit-learn.org. See: https://github.com/scikit-learn/scikit-learn/issues/21755 */display: inline-block !important;position: relative;}#sk-container-id-4 div.sk-text-repr-fallback {display: none;}</style><div id=\"sk-container-id-4\" class=\"sk-top-container\"><div class=\"sk-text-repr-fallback\"><pre>DecisionTreeRegressor()</pre><b>In a Jupyter environment, please rerun this cell to show the HTML representation or trust the notebook. <br />On GitHub, the HTML representation is unable to render, please try loading this page with nbviewer.org.</b></div><div class=\"sk-container\" hidden><div class=\"sk-item\"><div class=\"sk-estimator sk-toggleable\"><input class=\"sk-toggleable__control sk-hidden--visually\" id=\"sk-estimator-id-4\" type=\"checkbox\" checked><label for=\"sk-estimator-id-4\" class=\"sk-toggleable__label sk-toggleable__label-arrow\">DecisionTreeRegressor</label><div class=\"sk-toggleable__content\"><pre>DecisionTreeRegressor()</pre></div></div></div></div></div>"
      ],
      "text/plain": [
       "DecisionTreeRegressor()"
      ]
     },
     "execution_count": 104,
     "metadata": {},
     "output_type": "execute_result"
    }
   ],
   "source": [
    "from sklearn.tree import DecisionTreeRegressor\n",
    "dr=DecisionTreeRegressor()\n",
    "dr.fit(x_train,y_train)     # Fit the training data"
   ]
  },
  {
   "cell_type": "code",
   "execution_count": 105,
   "id": "9f2fa834",
   "metadata": {},
   "outputs": [
    {
     "data": {
      "text/plain": [
       "array([10151., 13339.,  4804., ...,  2437.,  6477.,  5678.])"
      ]
     },
     "execution_count": 105,
     "metadata": {},
     "output_type": "execute_result"
    }
   ],
   "source": [
    "# Test prediction \n",
    "y_pred_dr=dr.predict(x_test)\n",
    "y_pred_dr"
   ]
  },
  {
   "cell_type": "code",
   "execution_count": 106,
   "id": "beed91e3",
   "metadata": {},
   "outputs": [
    {
     "name": "stdout",
     "output_type": "stream",
     "text": [
      "r2 score is : 0.7407833991340921\n"
     ]
    }
   ],
   "source": [
    "r2score_dr=r2_score(y_test,y_pred_dr)\n",
    "print('r2 score is :',r2score_dr)"
   ]
  },
  {
   "cell_type": "code",
   "execution_count": 107,
   "id": "479f02fe",
   "metadata": {},
   "outputs": [
    {
     "name": "stdout",
     "output_type": "stream",
     "text": [
      "R2 score is: 0.7407833991340921\n",
      "Mean_squared_error: 5021230.197291685\n",
      "mean_absolute_error: 830.4236203976108\n",
      "Root_Mean_squared_error: 2240.810165384762\n"
     ]
    }
   ],
   "source": [
    "print('R2 score is:',r2score_dr)\n",
    "print('Mean_squared_error:',(mean_squared_error(y_test,y_pred_dr)))\n",
    "print('mean_absolute_error:',(mean_absolute_error(y_test,y_pred_dr)))\n",
    "print(\"Root_Mean_squared_error:\",(np.sqrt(mean_squared_error(y_test,y_pred_dr))))"
   ]
  },
  {
   "cell_type": "code",
   "execution_count": 108,
   "id": "8d697a94",
   "metadata": {},
   "outputs": [
    {
     "data": {
      "text/plain": [
       "(3739, 13)"
      ]
     },
     "execution_count": 108,
     "metadata": {},
     "output_type": "execute_result"
    }
   ],
   "source": [
    "x_test.shape"
   ]
  },
  {
   "cell_type": "code",
   "execution_count": 109,
   "id": "6ba8afb0",
   "metadata": {},
   "outputs": [
    {
     "name": "stdout",
     "output_type": "stream",
     "text": [
      "Adjusted r2 score is : 0.7082242110221384\n"
     ]
    }
   ],
   "source": [
    "# Adjusted r2 score\n",
    "adj_r2score_dr=1-(1-0.71)*(2137-1)/(2137-13-1)\n",
    "print('Adjusted r2 score is :',adj_r2score_dr)"
   ]
  },
  {
   "cell_type": "code",
   "execution_count": 110,
   "id": "77fe4f51",
   "metadata": {},
   "outputs": [
    {
     "data": {
      "text/plain": [
       "array([10844.,  6612.,  4668., ...,  4823., 10844.,  7417.])"
      ]
     },
     "execution_count": 110,
     "metadata": {},
     "output_type": "execute_result"
    }
   ],
   "source": [
    "# Training score\n",
    "y_pred_dr_train=dr.predict(x_train)\n",
    "y_pred_dr_train"
   ]
  },
  {
   "cell_type": "code",
   "execution_count": 111,
   "id": "1fb6f8d0",
   "metadata": {},
   "outputs": [
    {
     "name": "stdout",
     "output_type": "stream",
     "text": [
      "Training R2 score is : 0.9968060591494553\n"
     ]
    }
   ],
   "source": [
    "# Training r2 score \n",
    "r2score_dr_train=r2_score(y_train,y_pred_dr_train)\n",
    "print('Training R2 score is :',r2score_dr_train)"
   ]
  },
  {
   "cell_type": "markdown",
   "id": "d20509b2",
   "metadata": {},
   "source": [
    "## Hyperparameter Tuning with Decision tree regression"
   ]
  },
  {
   "cell_type": "code",
   "execution_count": 112,
   "id": "e87c23c1",
   "metadata": {},
   "outputs": [],
   "source": [
    "# using the RandomizedSearchCV for hyperparameter tuning\n",
    "from sklearn.model_selection import GridSearchCV\n"
   ]
  },
  {
   "cell_type": "code",
   "execution_count": 113,
   "id": "c82fe057",
   "metadata": {},
   "outputs": [],
   "source": [
    "\n",
    "#dictionary for hyperparameters\n",
    "decisiontree_grid={\n",
    "                   'max_features':['auto', 'sqrt'],   #maximum number of features allowed to try in individual tree\n",
    "                  'max_depth':[5,10,15],             # maximum number of levels allowed in a decision tree.   \n",
    "                  'min_samples_split':[2,5,10],   #minimum number of samples required to split an internal node\n",
    "                   'min_samples_leaf':[1,2,4]}    #minimum number of samples required to be at a leaf node."
   ]
  },
  {
   "cell_type": "code",
   "execution_count": 114,
   "id": "9a944f7e",
   "metadata": {},
   "outputs": [],
   "source": [
    "#Create the Decision Tree Regression Model\n",
    "dt_reg=DecisionTreeRegressor(random_state=42) \n",
    "# Create the gridsearchcv object\n",
    "dt_cv=GridSearchCV(estimator=dt_reg, scoring='r2', param_grid=decisiontree_grid, cv=3,verbose=2)"
   ]
  },
  {
   "cell_type": "code",
   "execution_count": 115,
   "id": "6229d4f5",
   "metadata": {},
   "outputs": [
    {
     "name": "stdout",
     "output_type": "stream",
     "text": [
      "Fitting 3 folds for each of 54 candidates, totalling 162 fits\n",
      "[CV] END max_depth=5, max_features=auto, min_samples_leaf=1, min_samples_split=2; total time=   0.0s\n",
      "[CV] END max_depth=5, max_features=auto, min_samples_leaf=1, min_samples_split=2; total time=   0.0s\n",
      "[CV] END max_depth=5, max_features=auto, min_samples_leaf=1, min_samples_split=2; total time=   0.0s\n",
      "[CV] END max_depth=5, max_features=auto, min_samples_leaf=1, min_samples_split=5; total time=   0.0s\n",
      "[CV] END max_depth=5, max_features=auto, min_samples_leaf=1, min_samples_split=5; total time=   0.0s\n",
      "[CV] END max_depth=5, max_features=auto, min_samples_leaf=1, min_samples_split=5; total time=   0.0s\n",
      "[CV] END max_depth=5, max_features=auto, min_samples_leaf=1, min_samples_split=10; total time=   0.0s\n",
      "[CV] END max_depth=5, max_features=auto, min_samples_leaf=1, min_samples_split=10; total time=   0.0s\n",
      "[CV] END max_depth=5, max_features=auto, min_samples_leaf=1, min_samples_split=10; total time=   0.0s\n",
      "[CV] END max_depth=5, max_features=auto, min_samples_leaf=2, min_samples_split=2; total time=   0.0s\n",
      "[CV] END max_depth=5, max_features=auto, min_samples_leaf=2, min_samples_split=2; total time=   0.0s\n",
      "[CV] END max_depth=5, max_features=auto, min_samples_leaf=2, min_samples_split=2; total time=   0.0s\n",
      "[CV] END max_depth=5, max_features=auto, min_samples_leaf=2, min_samples_split=5; total time=   0.0s\n",
      "[CV] END max_depth=5, max_features=auto, min_samples_leaf=2, min_samples_split=5; total time=   0.0s\n",
      "[CV] END max_depth=5, max_features=auto, min_samples_leaf=2, min_samples_split=5; total time=   0.0s\n",
      "[CV] END max_depth=5, max_features=auto, min_samples_leaf=2, min_samples_split=10; total time=   0.0s\n",
      "[CV] END max_depth=5, max_features=auto, min_samples_leaf=2, min_samples_split=10; total time=   0.0s\n",
      "[CV] END max_depth=5, max_features=auto, min_samples_leaf=2, min_samples_split=10; total time=   0.0s\n",
      "[CV] END max_depth=5, max_features=auto, min_samples_leaf=4, min_samples_split=2; total time=   0.0s\n",
      "[CV] END max_depth=5, max_features=auto, min_samples_leaf=4, min_samples_split=2; total time=   0.0s\n",
      "[CV] END max_depth=5, max_features=auto, min_samples_leaf=4, min_samples_split=2; total time=   0.0s\n",
      "[CV] END max_depth=5, max_features=auto, min_samples_leaf=4, min_samples_split=5; total time=   0.0s\n",
      "[CV] END max_depth=5, max_features=auto, min_samples_leaf=4, min_samples_split=5; total time=   0.0s\n",
      "[CV] END max_depth=5, max_features=auto, min_samples_leaf=4, min_samples_split=5; total time=   0.0s\n",
      "[CV] END max_depth=5, max_features=auto, min_samples_leaf=4, min_samples_split=10; total time=   0.0s\n",
      "[CV] END max_depth=5, max_features=auto, min_samples_leaf=4, min_samples_split=10; total time=   0.0s\n",
      "[CV] END max_depth=5, max_features=auto, min_samples_leaf=4, min_samples_split=10; total time=   0.0s\n",
      "[CV] END max_depth=5, max_features=sqrt, min_samples_leaf=1, min_samples_split=2; total time=   0.0s\n",
      "[CV] END max_depth=5, max_features=sqrt, min_samples_leaf=1, min_samples_split=2; total time=   0.0s\n",
      "[CV] END max_depth=5, max_features=sqrt, min_samples_leaf=1, min_samples_split=2; total time=   0.0s\n",
      "[CV] END max_depth=5, max_features=sqrt, min_samples_leaf=1, min_samples_split=5; total time=   0.0s\n",
      "[CV] END max_depth=5, max_features=sqrt, min_samples_leaf=1, min_samples_split=5; total time=   0.0s\n",
      "[CV] END max_depth=5, max_features=sqrt, min_samples_leaf=1, min_samples_split=5; total time=   0.0s\n",
      "[CV] END max_depth=5, max_features=sqrt, min_samples_leaf=1, min_samples_split=10; total time=   0.0s\n",
      "[CV] END max_depth=5, max_features=sqrt, min_samples_leaf=1, min_samples_split=10; total time=   0.0s\n",
      "[CV] END max_depth=5, max_features=sqrt, min_samples_leaf=1, min_samples_split=10; total time=   0.0s\n",
      "[CV] END max_depth=5, max_features=sqrt, min_samples_leaf=2, min_samples_split=2; total time=   0.0s\n",
      "[CV] END max_depth=5, max_features=sqrt, min_samples_leaf=2, min_samples_split=2; total time=   0.0s\n",
      "[CV] END max_depth=5, max_features=sqrt, min_samples_leaf=2, min_samples_split=2; total time=   0.0s\n",
      "[CV] END max_depth=5, max_features=sqrt, min_samples_leaf=2, min_samples_split=5; total time=   0.0s\n",
      "[CV] END max_depth=5, max_features=sqrt, min_samples_leaf=2, min_samples_split=5; total time=   0.0s\n",
      "[CV] END max_depth=5, max_features=sqrt, min_samples_leaf=2, min_samples_split=5; total time=   0.0s\n",
      "[CV] END max_depth=5, max_features=sqrt, min_samples_leaf=2, min_samples_split=10; total time=   0.0s\n",
      "[CV] END max_depth=5, max_features=sqrt, min_samples_leaf=2, min_samples_split=10; total time=   0.0s\n",
      "[CV] END max_depth=5, max_features=sqrt, min_samples_leaf=2, min_samples_split=10; total time=   0.0s\n",
      "[CV] END max_depth=5, max_features=sqrt, min_samples_leaf=4, min_samples_split=2; total time=   0.0s\n",
      "[CV] END max_depth=5, max_features=sqrt, min_samples_leaf=4, min_samples_split=2; total time=   0.0s\n",
      "[CV] END max_depth=5, max_features=sqrt, min_samples_leaf=4, min_samples_split=2; total time=   0.0s\n",
      "[CV] END max_depth=5, max_features=sqrt, min_samples_leaf=4, min_samples_split=5; total time=   0.0s\n",
      "[CV] END max_depth=5, max_features=sqrt, min_samples_leaf=4, min_samples_split=5; total time=   0.0s\n",
      "[CV] END max_depth=5, max_features=sqrt, min_samples_leaf=4, min_samples_split=5; total time=   0.0s\n",
      "[CV] END max_depth=5, max_features=sqrt, min_samples_leaf=4, min_samples_split=10; total time=   0.0s\n",
      "[CV] END max_depth=5, max_features=sqrt, min_samples_leaf=4, min_samples_split=10; total time=   0.0s\n",
      "[CV] END max_depth=5, max_features=sqrt, min_samples_leaf=4, min_samples_split=10; total time=   0.0s\n",
      "[CV] END max_depth=10, max_features=auto, min_samples_leaf=1, min_samples_split=2; total time=   0.0s\n",
      "[CV] END max_depth=10, max_features=auto, min_samples_leaf=1, min_samples_split=2; total time=   0.0s\n",
      "[CV] END max_depth=10, max_features=auto, min_samples_leaf=1, min_samples_split=2; total time=   0.0s\n",
      "[CV] END max_depth=10, max_features=auto, min_samples_leaf=1, min_samples_split=5; total time=   0.0s\n",
      "[CV] END max_depth=10, max_features=auto, min_samples_leaf=1, min_samples_split=5; total time=   0.0s\n",
      "[CV] END max_depth=10, max_features=auto, min_samples_leaf=1, min_samples_split=5; total time=   0.0s\n",
      "[CV] END max_depth=10, max_features=auto, min_samples_leaf=1, min_samples_split=10; total time=   0.0s\n",
      "[CV] END max_depth=10, max_features=auto, min_samples_leaf=1, min_samples_split=10; total time=   0.0s\n",
      "[CV] END max_depth=10, max_features=auto, min_samples_leaf=1, min_samples_split=10; total time=   0.0s\n",
      "[CV] END max_depth=10, max_features=auto, min_samples_leaf=2, min_samples_split=2; total time=   0.0s\n",
      "[CV] END max_depth=10, max_features=auto, min_samples_leaf=2, min_samples_split=2; total time=   0.0s\n",
      "[CV] END max_depth=10, max_features=auto, min_samples_leaf=2, min_samples_split=2; total time=   0.0s\n",
      "[CV] END max_depth=10, max_features=auto, min_samples_leaf=2, min_samples_split=5; total time=   0.0s\n",
      "[CV] END max_depth=10, max_features=auto, min_samples_leaf=2, min_samples_split=5; total time=   0.0s\n",
      "[CV] END max_depth=10, max_features=auto, min_samples_leaf=2, min_samples_split=5; total time=   0.0s\n",
      "[CV] END max_depth=10, max_features=auto, min_samples_leaf=2, min_samples_split=10; total time=   0.0s\n",
      "[CV] END max_depth=10, max_features=auto, min_samples_leaf=2, min_samples_split=10; total time=   0.0s\n",
      "[CV] END max_depth=10, max_features=auto, min_samples_leaf=2, min_samples_split=10; total time=   0.0s\n",
      "[CV] END max_depth=10, max_features=auto, min_samples_leaf=4, min_samples_split=2; total time=   0.0s\n",
      "[CV] END max_depth=10, max_features=auto, min_samples_leaf=4, min_samples_split=2; total time=   0.0s\n",
      "[CV] END max_depth=10, max_features=auto, min_samples_leaf=4, min_samples_split=2; total time=   0.0s\n",
      "[CV] END max_depth=10, max_features=auto, min_samples_leaf=4, min_samples_split=5; total time=   0.0s\n",
      "[CV] END max_depth=10, max_features=auto, min_samples_leaf=4, min_samples_split=5; total time=   0.0s\n",
      "[CV] END max_depth=10, max_features=auto, min_samples_leaf=4, min_samples_split=5; total time=   0.0s\n",
      "[CV] END max_depth=10, max_features=auto, min_samples_leaf=4, min_samples_split=10; total time=   0.0s\n",
      "[CV] END max_depth=10, max_features=auto, min_samples_leaf=4, min_samples_split=10; total time=   0.0s\n",
      "[CV] END max_depth=10, max_features=auto, min_samples_leaf=4, min_samples_split=10; total time=   0.0s\n",
      "[CV] END max_depth=10, max_features=sqrt, min_samples_leaf=1, min_samples_split=2; total time=   0.0s\n",
      "[CV] END max_depth=10, max_features=sqrt, min_samples_leaf=1, min_samples_split=2; total time=   0.0s\n",
      "[CV] END max_depth=10, max_features=sqrt, min_samples_leaf=1, min_samples_split=2; total time=   0.0s\n",
      "[CV] END max_depth=10, max_features=sqrt, min_samples_leaf=1, min_samples_split=5; total time=   0.0s\n"
     ]
    },
    {
     "name": "stdout",
     "output_type": "stream",
     "text": [
      "[CV] END max_depth=10, max_features=sqrt, min_samples_leaf=1, min_samples_split=5; total time=   0.0s\n",
      "[CV] END max_depth=10, max_features=sqrt, min_samples_leaf=1, min_samples_split=5; total time=   0.0s\n",
      "[CV] END max_depth=10, max_features=sqrt, min_samples_leaf=1, min_samples_split=10; total time=   0.0s\n",
      "[CV] END max_depth=10, max_features=sqrt, min_samples_leaf=1, min_samples_split=10; total time=   0.0s\n",
      "[CV] END max_depth=10, max_features=sqrt, min_samples_leaf=1, min_samples_split=10; total time=   0.0s\n",
      "[CV] END max_depth=10, max_features=sqrt, min_samples_leaf=2, min_samples_split=2; total time=   0.0s\n",
      "[CV] END max_depth=10, max_features=sqrt, min_samples_leaf=2, min_samples_split=2; total time=   0.0s\n",
      "[CV] END max_depth=10, max_features=sqrt, min_samples_leaf=2, min_samples_split=2; total time=   0.0s\n",
      "[CV] END max_depth=10, max_features=sqrt, min_samples_leaf=2, min_samples_split=5; total time=   0.0s\n",
      "[CV] END max_depth=10, max_features=sqrt, min_samples_leaf=2, min_samples_split=5; total time=   0.0s\n",
      "[CV] END max_depth=10, max_features=sqrt, min_samples_leaf=2, min_samples_split=5; total time=   0.0s\n",
      "[CV] END max_depth=10, max_features=sqrt, min_samples_leaf=2, min_samples_split=10; total time=   0.0s\n",
      "[CV] END max_depth=10, max_features=sqrt, min_samples_leaf=2, min_samples_split=10; total time=   0.0s\n",
      "[CV] END max_depth=10, max_features=sqrt, min_samples_leaf=2, min_samples_split=10; total time=   0.0s\n",
      "[CV] END max_depth=10, max_features=sqrt, min_samples_leaf=4, min_samples_split=2; total time=   0.0s\n",
      "[CV] END max_depth=10, max_features=sqrt, min_samples_leaf=4, min_samples_split=2; total time=   0.0s\n",
      "[CV] END max_depth=10, max_features=sqrt, min_samples_leaf=4, min_samples_split=2; total time=   0.0s\n",
      "[CV] END max_depth=10, max_features=sqrt, min_samples_leaf=4, min_samples_split=5; total time=   0.0s\n",
      "[CV] END max_depth=10, max_features=sqrt, min_samples_leaf=4, min_samples_split=5; total time=   0.0s\n",
      "[CV] END max_depth=10, max_features=sqrt, min_samples_leaf=4, min_samples_split=5; total time=   0.0s\n",
      "[CV] END max_depth=10, max_features=sqrt, min_samples_leaf=4, min_samples_split=10; total time=   0.0s\n",
      "[CV] END max_depth=10, max_features=sqrt, min_samples_leaf=4, min_samples_split=10; total time=   0.0s\n",
      "[CV] END max_depth=10, max_features=sqrt, min_samples_leaf=4, min_samples_split=10; total time=   0.0s\n",
      "[CV] END max_depth=15, max_features=auto, min_samples_leaf=1, min_samples_split=2; total time=   0.0s\n",
      "[CV] END max_depth=15, max_features=auto, min_samples_leaf=1, min_samples_split=2; total time=   0.0s\n",
      "[CV] END max_depth=15, max_features=auto, min_samples_leaf=1, min_samples_split=2; total time=   0.0s\n",
      "[CV] END max_depth=15, max_features=auto, min_samples_leaf=1, min_samples_split=5; total time=   0.0s\n",
      "[CV] END max_depth=15, max_features=auto, min_samples_leaf=1, min_samples_split=5; total time=   0.0s\n",
      "[CV] END max_depth=15, max_features=auto, min_samples_leaf=1, min_samples_split=5; total time=   0.0s\n",
      "[CV] END max_depth=15, max_features=auto, min_samples_leaf=1, min_samples_split=10; total time=   0.0s\n",
      "[CV] END max_depth=15, max_features=auto, min_samples_leaf=1, min_samples_split=10; total time=   0.0s\n",
      "[CV] END max_depth=15, max_features=auto, min_samples_leaf=1, min_samples_split=10; total time=   0.0s\n",
      "[CV] END max_depth=15, max_features=auto, min_samples_leaf=2, min_samples_split=2; total time=   0.0s\n",
      "[CV] END max_depth=15, max_features=auto, min_samples_leaf=2, min_samples_split=2; total time=   0.0s\n",
      "[CV] END max_depth=15, max_features=auto, min_samples_leaf=2, min_samples_split=2; total time=   0.0s\n",
      "[CV] END max_depth=15, max_features=auto, min_samples_leaf=2, min_samples_split=5; total time=   0.0s\n",
      "[CV] END max_depth=15, max_features=auto, min_samples_leaf=2, min_samples_split=5; total time=   0.0s\n",
      "[CV] END max_depth=15, max_features=auto, min_samples_leaf=2, min_samples_split=5; total time=   0.0s\n",
      "[CV] END max_depth=15, max_features=auto, min_samples_leaf=2, min_samples_split=10; total time=   0.0s\n",
      "[CV] END max_depth=15, max_features=auto, min_samples_leaf=2, min_samples_split=10; total time=   0.0s\n",
      "[CV] END max_depth=15, max_features=auto, min_samples_leaf=2, min_samples_split=10; total time=   0.0s\n",
      "[CV] END max_depth=15, max_features=auto, min_samples_leaf=4, min_samples_split=2; total time=   0.0s\n",
      "[CV] END max_depth=15, max_features=auto, min_samples_leaf=4, min_samples_split=2; total time=   0.0s\n",
      "[CV] END max_depth=15, max_features=auto, min_samples_leaf=4, min_samples_split=2; total time=   0.0s\n",
      "[CV] END max_depth=15, max_features=auto, min_samples_leaf=4, min_samples_split=5; total time=   0.0s\n",
      "[CV] END max_depth=15, max_features=auto, min_samples_leaf=4, min_samples_split=5; total time=   0.0s\n",
      "[CV] END max_depth=15, max_features=auto, min_samples_leaf=4, min_samples_split=5; total time=   0.0s\n",
      "[CV] END max_depth=15, max_features=auto, min_samples_leaf=4, min_samples_split=10; total time=   0.0s\n",
      "[CV] END max_depth=15, max_features=auto, min_samples_leaf=4, min_samples_split=10; total time=   0.0s\n",
      "[CV] END max_depth=15, max_features=auto, min_samples_leaf=4, min_samples_split=10; total time=   0.0s\n",
      "[CV] END max_depth=15, max_features=sqrt, min_samples_leaf=1, min_samples_split=2; total time=   0.0s\n",
      "[CV] END max_depth=15, max_features=sqrt, min_samples_leaf=1, min_samples_split=2; total time=   0.0s\n",
      "[CV] END max_depth=15, max_features=sqrt, min_samples_leaf=1, min_samples_split=2; total time=   0.0s\n",
      "[CV] END max_depth=15, max_features=sqrt, min_samples_leaf=1, min_samples_split=5; total time=   0.0s\n",
      "[CV] END max_depth=15, max_features=sqrt, min_samples_leaf=1, min_samples_split=5; total time=   0.0s\n",
      "[CV] END max_depth=15, max_features=sqrt, min_samples_leaf=1, min_samples_split=5; total time=   0.0s\n",
      "[CV] END max_depth=15, max_features=sqrt, min_samples_leaf=1, min_samples_split=10; total time=   0.0s\n",
      "[CV] END max_depth=15, max_features=sqrt, min_samples_leaf=1, min_samples_split=10; total time=   0.0s\n",
      "[CV] END max_depth=15, max_features=sqrt, min_samples_leaf=1, min_samples_split=10; total time=   0.0s\n",
      "[CV] END max_depth=15, max_features=sqrt, min_samples_leaf=2, min_samples_split=2; total time=   0.0s\n",
      "[CV] END max_depth=15, max_features=sqrt, min_samples_leaf=2, min_samples_split=2; total time=   0.0s\n",
      "[CV] END max_depth=15, max_features=sqrt, min_samples_leaf=2, min_samples_split=2; total time=   0.0s\n",
      "[CV] END max_depth=15, max_features=sqrt, min_samples_leaf=2, min_samples_split=5; total time=   0.0s\n",
      "[CV] END max_depth=15, max_features=sqrt, min_samples_leaf=2, min_samples_split=5; total time=   0.0s\n",
      "[CV] END max_depth=15, max_features=sqrt, min_samples_leaf=2, min_samples_split=5; total time=   0.0s\n",
      "[CV] END max_depth=15, max_features=sqrt, min_samples_leaf=2, min_samples_split=10; total time=   0.0s\n",
      "[CV] END max_depth=15, max_features=sqrt, min_samples_leaf=2, min_samples_split=10; total time=   0.0s\n",
      "[CV] END max_depth=15, max_features=sqrt, min_samples_leaf=2, min_samples_split=10; total time=   0.0s\n",
      "[CV] END max_depth=15, max_features=sqrt, min_samples_leaf=4, min_samples_split=2; total time=   0.0s\n",
      "[CV] END max_depth=15, max_features=sqrt, min_samples_leaf=4, min_samples_split=2; total time=   0.0s\n",
      "[CV] END max_depth=15, max_features=sqrt, min_samples_leaf=4, min_samples_split=2; total time=   0.0s\n",
      "[CV] END max_depth=15, max_features=sqrt, min_samples_leaf=4, min_samples_split=5; total time=   0.0s\n",
      "[CV] END max_depth=15, max_features=sqrt, min_samples_leaf=4, min_samples_split=5; total time=   0.0s\n",
      "[CV] END max_depth=15, max_features=sqrt, min_samples_leaf=4, min_samples_split=5; total time=   0.0s\n",
      "[CV] END max_depth=15, max_features=sqrt, min_samples_leaf=4, min_samples_split=10; total time=   0.0s\n",
      "[CV] END max_depth=15, max_features=sqrt, min_samples_leaf=4, min_samples_split=10; total time=   0.0s\n",
      "[CV] END max_depth=15, max_features=sqrt, min_samples_leaf=4, min_samples_split=10; total time=   0.0s\n"
     ]
    },
    {
     "data": {
      "text/html": [
       "<style>#sk-container-id-5 {color: black;background-color: white;}#sk-container-id-5 pre{padding: 0;}#sk-container-id-5 div.sk-toggleable {background-color: white;}#sk-container-id-5 label.sk-toggleable__label {cursor: pointer;display: block;width: 100%;margin-bottom: 0;padding: 0.3em;box-sizing: border-box;text-align: center;}#sk-container-id-5 label.sk-toggleable__label-arrow:before {content: \"▸\";float: left;margin-right: 0.25em;color: #696969;}#sk-container-id-5 label.sk-toggleable__label-arrow:hover:before {color: black;}#sk-container-id-5 div.sk-estimator:hover label.sk-toggleable__label-arrow:before {color: black;}#sk-container-id-5 div.sk-toggleable__content {max-height: 0;max-width: 0;overflow: hidden;text-align: left;background-color: #f0f8ff;}#sk-container-id-5 div.sk-toggleable__content pre {margin: 0.2em;color: black;border-radius: 0.25em;background-color: #f0f8ff;}#sk-container-id-5 input.sk-toggleable__control:checked~div.sk-toggleable__content {max-height: 200px;max-width: 100%;overflow: auto;}#sk-container-id-5 input.sk-toggleable__control:checked~label.sk-toggleable__label-arrow:before {content: \"▾\";}#sk-container-id-5 div.sk-estimator input.sk-toggleable__control:checked~label.sk-toggleable__label {background-color: #d4ebff;}#sk-container-id-5 div.sk-label input.sk-toggleable__control:checked~label.sk-toggleable__label {background-color: #d4ebff;}#sk-container-id-5 input.sk-hidden--visually {border: 0;clip: rect(1px 1px 1px 1px);clip: rect(1px, 1px, 1px, 1px);height: 1px;margin: -1px;overflow: hidden;padding: 0;position: absolute;width: 1px;}#sk-container-id-5 div.sk-estimator {font-family: monospace;background-color: #f0f8ff;border: 1px dotted black;border-radius: 0.25em;box-sizing: border-box;margin-bottom: 0.5em;}#sk-container-id-5 div.sk-estimator:hover {background-color: #d4ebff;}#sk-container-id-5 div.sk-parallel-item::after {content: \"\";width: 100%;border-bottom: 1px solid gray;flex-grow: 1;}#sk-container-id-5 div.sk-label:hover label.sk-toggleable__label {background-color: #d4ebff;}#sk-container-id-5 div.sk-serial::before {content: \"\";position: absolute;border-left: 1px solid gray;box-sizing: border-box;top: 0;bottom: 0;left: 50%;z-index: 0;}#sk-container-id-5 div.sk-serial {display: flex;flex-direction: column;align-items: center;background-color: white;padding-right: 0.2em;padding-left: 0.2em;position: relative;}#sk-container-id-5 div.sk-item {position: relative;z-index: 1;}#sk-container-id-5 div.sk-parallel {display: flex;align-items: stretch;justify-content: center;background-color: white;position: relative;}#sk-container-id-5 div.sk-item::before, #sk-container-id-5 div.sk-parallel-item::before {content: \"\";position: absolute;border-left: 1px solid gray;box-sizing: border-box;top: 0;bottom: 0;left: 50%;z-index: -1;}#sk-container-id-5 div.sk-parallel-item {display: flex;flex-direction: column;z-index: 1;position: relative;background-color: white;}#sk-container-id-5 div.sk-parallel-item:first-child::after {align-self: flex-end;width: 50%;}#sk-container-id-5 div.sk-parallel-item:last-child::after {align-self: flex-start;width: 50%;}#sk-container-id-5 div.sk-parallel-item:only-child::after {width: 0;}#sk-container-id-5 div.sk-dashed-wrapped {border: 1px dashed gray;margin: 0 0.4em 0.5em 0.4em;box-sizing: border-box;padding-bottom: 0.4em;background-color: white;}#sk-container-id-5 div.sk-label label {font-family: monospace;font-weight: bold;display: inline-block;line-height: 1.2em;}#sk-container-id-5 div.sk-label-container {text-align: center;}#sk-container-id-5 div.sk-container {/* jupyter's `normalize.less` sets `[hidden] { display: none; }` but bootstrap.min.css set `[hidden] { display: none !important; }` so we also need the `!important` here to be able to override the default hidden behavior on the sphinx rendered scikit-learn.org. See: https://github.com/scikit-learn/scikit-learn/issues/21755 */display: inline-block !important;position: relative;}#sk-container-id-5 div.sk-text-repr-fallback {display: none;}</style><div id=\"sk-container-id-5\" class=\"sk-top-container\"><div class=\"sk-text-repr-fallback\"><pre>GridSearchCV(cv=3, estimator=DecisionTreeRegressor(random_state=42),\n",
       "             param_grid={&#x27;max_depth&#x27;: [5, 10, 15],\n",
       "                         &#x27;max_features&#x27;: [&#x27;auto&#x27;, &#x27;sqrt&#x27;],\n",
       "                         &#x27;min_samples_leaf&#x27;: [1, 2, 4],\n",
       "                         &#x27;min_samples_split&#x27;: [2, 5, 10]},\n",
       "             scoring=&#x27;r2&#x27;, verbose=2)</pre><b>In a Jupyter environment, please rerun this cell to show the HTML representation or trust the notebook. <br />On GitHub, the HTML representation is unable to render, please try loading this page with nbviewer.org.</b></div><div class=\"sk-container\" hidden><div class=\"sk-item sk-dashed-wrapped\"><div class=\"sk-label-container\"><div class=\"sk-label sk-toggleable\"><input class=\"sk-toggleable__control sk-hidden--visually\" id=\"sk-estimator-id-5\" type=\"checkbox\" ><label for=\"sk-estimator-id-5\" class=\"sk-toggleable__label sk-toggleable__label-arrow\">GridSearchCV</label><div class=\"sk-toggleable__content\"><pre>GridSearchCV(cv=3, estimator=DecisionTreeRegressor(random_state=42),\n",
       "             param_grid={&#x27;max_depth&#x27;: [5, 10, 15],\n",
       "                         &#x27;max_features&#x27;: [&#x27;auto&#x27;, &#x27;sqrt&#x27;],\n",
       "                         &#x27;min_samples_leaf&#x27;: [1, 2, 4],\n",
       "                         &#x27;min_samples_split&#x27;: [2, 5, 10]},\n",
       "             scoring=&#x27;r2&#x27;, verbose=2)</pre></div></div></div><div class=\"sk-parallel\"><div class=\"sk-parallel-item\"><div class=\"sk-item\"><div class=\"sk-label-container\"><div class=\"sk-label sk-toggleable\"><input class=\"sk-toggleable__control sk-hidden--visually\" id=\"sk-estimator-id-6\" type=\"checkbox\" ><label for=\"sk-estimator-id-6\" class=\"sk-toggleable__label sk-toggleable__label-arrow\">estimator: DecisionTreeRegressor</label><div class=\"sk-toggleable__content\"><pre>DecisionTreeRegressor(random_state=42)</pre></div></div></div><div class=\"sk-serial\"><div class=\"sk-item\"><div class=\"sk-estimator sk-toggleable\"><input class=\"sk-toggleable__control sk-hidden--visually\" id=\"sk-estimator-id-7\" type=\"checkbox\" ><label for=\"sk-estimator-id-7\" class=\"sk-toggleable__label sk-toggleable__label-arrow\">DecisionTreeRegressor</label><div class=\"sk-toggleable__content\"><pre>DecisionTreeRegressor(random_state=42)</pre></div></div></div></div></div></div></div></div></div></div>"
      ],
      "text/plain": [
       "GridSearchCV(cv=3, estimator=DecisionTreeRegressor(random_state=42),\n",
       "             param_grid={'max_depth': [5, 10, 15],\n",
       "                         'max_features': ['auto', 'sqrt'],\n",
       "                         'min_samples_leaf': [1, 2, 4],\n",
       "                         'min_samples_split': [2, 5, 10]},\n",
       "             scoring='r2', verbose=2)"
      ]
     },
     "execution_count": 115,
     "metadata": {},
     "output_type": "execute_result"
    }
   ],
   "source": [
    "# Fit the GridSearchCV object to the training data\n",
    "dt_cv.fit(x_train,y_train)"
   ]
  },
  {
   "cell_type": "code",
   "execution_count": 116,
   "id": "2aa4be37",
   "metadata": {},
   "outputs": [
    {
     "name": "stdout",
     "output_type": "stream",
     "text": [
      "Best Parameters : {'max_depth': 15, 'max_features': 'auto', 'min_samples_leaf': 4, 'min_samples_split': 10}\n",
      "Best Score : 0.8019517327606128\n"
     ]
    }
   ],
   "source": [
    "# Get the best parameters and best score\n",
    "best_params = dt_cv.best_params_\n",
    "best_score =dt_cv.best_score_\n",
    "print('Best Parameters :',best_params)\n",
    "print(\"Best Score :\",best_score)\n"
   ]
  },
  {
   "cell_type": "code",
   "execution_count": 117,
   "id": "58efb60b",
   "metadata": {},
   "outputs": [],
   "source": [
    "#Create the new model with the best parameter\n",
    "dt_reg_best_model=DecisionTreeRegressor(max_depth= 15, max_features= 'auto', min_samples_leaf=4, min_samples_split=10)"
   ]
  },
  {
   "cell_type": "code",
   "execution_count": 118,
   "id": "45d1b368",
   "metadata": {},
   "outputs": [
    {
     "data": {
      "text/html": [
       "<style>#sk-container-id-6 {color: black;background-color: white;}#sk-container-id-6 pre{padding: 0;}#sk-container-id-6 div.sk-toggleable {background-color: white;}#sk-container-id-6 label.sk-toggleable__label {cursor: pointer;display: block;width: 100%;margin-bottom: 0;padding: 0.3em;box-sizing: border-box;text-align: center;}#sk-container-id-6 label.sk-toggleable__label-arrow:before {content: \"▸\";float: left;margin-right: 0.25em;color: #696969;}#sk-container-id-6 label.sk-toggleable__label-arrow:hover:before {color: black;}#sk-container-id-6 div.sk-estimator:hover label.sk-toggleable__label-arrow:before {color: black;}#sk-container-id-6 div.sk-toggleable__content {max-height: 0;max-width: 0;overflow: hidden;text-align: left;background-color: #f0f8ff;}#sk-container-id-6 div.sk-toggleable__content pre {margin: 0.2em;color: black;border-radius: 0.25em;background-color: #f0f8ff;}#sk-container-id-6 input.sk-toggleable__control:checked~div.sk-toggleable__content {max-height: 200px;max-width: 100%;overflow: auto;}#sk-container-id-6 input.sk-toggleable__control:checked~label.sk-toggleable__label-arrow:before {content: \"▾\";}#sk-container-id-6 div.sk-estimator input.sk-toggleable__control:checked~label.sk-toggleable__label {background-color: #d4ebff;}#sk-container-id-6 div.sk-label input.sk-toggleable__control:checked~label.sk-toggleable__label {background-color: #d4ebff;}#sk-container-id-6 input.sk-hidden--visually {border: 0;clip: rect(1px 1px 1px 1px);clip: rect(1px, 1px, 1px, 1px);height: 1px;margin: -1px;overflow: hidden;padding: 0;position: absolute;width: 1px;}#sk-container-id-6 div.sk-estimator {font-family: monospace;background-color: #f0f8ff;border: 1px dotted black;border-radius: 0.25em;box-sizing: border-box;margin-bottom: 0.5em;}#sk-container-id-6 div.sk-estimator:hover {background-color: #d4ebff;}#sk-container-id-6 div.sk-parallel-item::after {content: \"\";width: 100%;border-bottom: 1px solid gray;flex-grow: 1;}#sk-container-id-6 div.sk-label:hover label.sk-toggleable__label {background-color: #d4ebff;}#sk-container-id-6 div.sk-serial::before {content: \"\";position: absolute;border-left: 1px solid gray;box-sizing: border-box;top: 0;bottom: 0;left: 50%;z-index: 0;}#sk-container-id-6 div.sk-serial {display: flex;flex-direction: column;align-items: center;background-color: white;padding-right: 0.2em;padding-left: 0.2em;position: relative;}#sk-container-id-6 div.sk-item {position: relative;z-index: 1;}#sk-container-id-6 div.sk-parallel {display: flex;align-items: stretch;justify-content: center;background-color: white;position: relative;}#sk-container-id-6 div.sk-item::before, #sk-container-id-6 div.sk-parallel-item::before {content: \"\";position: absolute;border-left: 1px solid gray;box-sizing: border-box;top: 0;bottom: 0;left: 50%;z-index: -1;}#sk-container-id-6 div.sk-parallel-item {display: flex;flex-direction: column;z-index: 1;position: relative;background-color: white;}#sk-container-id-6 div.sk-parallel-item:first-child::after {align-self: flex-end;width: 50%;}#sk-container-id-6 div.sk-parallel-item:last-child::after {align-self: flex-start;width: 50%;}#sk-container-id-6 div.sk-parallel-item:only-child::after {width: 0;}#sk-container-id-6 div.sk-dashed-wrapped {border: 1px dashed gray;margin: 0 0.4em 0.5em 0.4em;box-sizing: border-box;padding-bottom: 0.4em;background-color: white;}#sk-container-id-6 div.sk-label label {font-family: monospace;font-weight: bold;display: inline-block;line-height: 1.2em;}#sk-container-id-6 div.sk-label-container {text-align: center;}#sk-container-id-6 div.sk-container {/* jupyter's `normalize.less` sets `[hidden] { display: none; }` but bootstrap.min.css set `[hidden] { display: none !important; }` so we also need the `!important` here to be able to override the default hidden behavior on the sphinx rendered scikit-learn.org. See: https://github.com/scikit-learn/scikit-learn/issues/21755 */display: inline-block !important;position: relative;}#sk-container-id-6 div.sk-text-repr-fallback {display: none;}</style><div id=\"sk-container-id-6\" class=\"sk-top-container\"><div class=\"sk-text-repr-fallback\"><pre>DecisionTreeRegressor(max_depth=15, max_features=&#x27;auto&#x27;, min_samples_leaf=4,\n",
       "                      min_samples_split=10)</pre><b>In a Jupyter environment, please rerun this cell to show the HTML representation or trust the notebook. <br />On GitHub, the HTML representation is unable to render, please try loading this page with nbviewer.org.</b></div><div class=\"sk-container\" hidden><div class=\"sk-item\"><div class=\"sk-estimator sk-toggleable\"><input class=\"sk-toggleable__control sk-hidden--visually\" id=\"sk-estimator-id-8\" type=\"checkbox\" checked><label for=\"sk-estimator-id-8\" class=\"sk-toggleable__label sk-toggleable__label-arrow\">DecisionTreeRegressor</label><div class=\"sk-toggleable__content\"><pre>DecisionTreeRegressor(max_depth=15, max_features=&#x27;auto&#x27;, min_samples_leaf=4,\n",
       "                      min_samples_split=10)</pre></div></div></div></div></div>"
      ],
      "text/plain": [
       "DecisionTreeRegressor(max_depth=15, max_features='auto', min_samples_leaf=4,\n",
       "                      min_samples_split=10)"
      ]
     },
     "execution_count": 118,
     "metadata": {},
     "output_type": "execute_result"
    }
   ],
   "source": [
    "# Fit the best model to the training data\n",
    "dt_reg_best_model.fit(x_train,y_train)"
   ]
  },
  {
   "cell_type": "code",
   "execution_count": 119,
   "id": "dfdf9037",
   "metadata": {},
   "outputs": [],
   "source": [
    "y_pred_ht=dt_reg_best_model.predict(x_test)  # Test data prediction"
   ]
  },
  {
   "cell_type": "code",
   "execution_count": 120,
   "id": "f579d5dc",
   "metadata": {},
   "outputs": [
    {
     "name": "stdout",
     "output_type": "stream",
     "text": [
      "Test R2 score : 0.8115413757751293\n"
     ]
    }
   ],
   "source": [
    "r2score_ht=r2_score(y_test,y_pred_ht)\n",
    "print('Test R2 score :',r2score_ht)                    # Test data"
   ]
  },
  {
   "cell_type": "code",
   "execution_count": 121,
   "id": "d0e42789",
   "metadata": {},
   "outputs": [],
   "source": [
    "y_pred_ht1=dt_reg_best_model.predict(x_train)  # train data prediction"
   ]
  },
  {
   "cell_type": "code",
   "execution_count": 122,
   "id": "ac2f8475",
   "metadata": {},
   "outputs": [
    {
     "name": "stdout",
     "output_type": "stream",
     "text": [
      "Train R2 score 0.917823385924446\n"
     ]
    }
   ],
   "source": [
    "r2score_ht1=r2_score(y_train,y_pred_ht1)\n",
    "print(\"Train R2 score\",r2score_ht1)                        # Train data "
   ]
  },
  {
   "cell_type": "markdown",
   "id": "e3f9f996",
   "metadata": {},
   "source": [
    "# Random Forest Regression"
   ]
  },
  {
   "cell_type": "code",
   "execution_count": 123,
   "id": "4f3fc447",
   "metadata": {},
   "outputs": [
    {
     "data": {
      "text/html": [
       "<style>#sk-container-id-7 {color: black;background-color: white;}#sk-container-id-7 pre{padding: 0;}#sk-container-id-7 div.sk-toggleable {background-color: white;}#sk-container-id-7 label.sk-toggleable__label {cursor: pointer;display: block;width: 100%;margin-bottom: 0;padding: 0.3em;box-sizing: border-box;text-align: center;}#sk-container-id-7 label.sk-toggleable__label-arrow:before {content: \"▸\";float: left;margin-right: 0.25em;color: #696969;}#sk-container-id-7 label.sk-toggleable__label-arrow:hover:before {color: black;}#sk-container-id-7 div.sk-estimator:hover label.sk-toggleable__label-arrow:before {color: black;}#sk-container-id-7 div.sk-toggleable__content {max-height: 0;max-width: 0;overflow: hidden;text-align: left;background-color: #f0f8ff;}#sk-container-id-7 div.sk-toggleable__content pre {margin: 0.2em;color: black;border-radius: 0.25em;background-color: #f0f8ff;}#sk-container-id-7 input.sk-toggleable__control:checked~div.sk-toggleable__content {max-height: 200px;max-width: 100%;overflow: auto;}#sk-container-id-7 input.sk-toggleable__control:checked~label.sk-toggleable__label-arrow:before {content: \"▾\";}#sk-container-id-7 div.sk-estimator input.sk-toggleable__control:checked~label.sk-toggleable__label {background-color: #d4ebff;}#sk-container-id-7 div.sk-label input.sk-toggleable__control:checked~label.sk-toggleable__label {background-color: #d4ebff;}#sk-container-id-7 input.sk-hidden--visually {border: 0;clip: rect(1px 1px 1px 1px);clip: rect(1px, 1px, 1px, 1px);height: 1px;margin: -1px;overflow: hidden;padding: 0;position: absolute;width: 1px;}#sk-container-id-7 div.sk-estimator {font-family: monospace;background-color: #f0f8ff;border: 1px dotted black;border-radius: 0.25em;box-sizing: border-box;margin-bottom: 0.5em;}#sk-container-id-7 div.sk-estimator:hover {background-color: #d4ebff;}#sk-container-id-7 div.sk-parallel-item::after {content: \"\";width: 100%;border-bottom: 1px solid gray;flex-grow: 1;}#sk-container-id-7 div.sk-label:hover label.sk-toggleable__label {background-color: #d4ebff;}#sk-container-id-7 div.sk-serial::before {content: \"\";position: absolute;border-left: 1px solid gray;box-sizing: border-box;top: 0;bottom: 0;left: 50%;z-index: 0;}#sk-container-id-7 div.sk-serial {display: flex;flex-direction: column;align-items: center;background-color: white;padding-right: 0.2em;padding-left: 0.2em;position: relative;}#sk-container-id-7 div.sk-item {position: relative;z-index: 1;}#sk-container-id-7 div.sk-parallel {display: flex;align-items: stretch;justify-content: center;background-color: white;position: relative;}#sk-container-id-7 div.sk-item::before, #sk-container-id-7 div.sk-parallel-item::before {content: \"\";position: absolute;border-left: 1px solid gray;box-sizing: border-box;top: 0;bottom: 0;left: 50%;z-index: -1;}#sk-container-id-7 div.sk-parallel-item {display: flex;flex-direction: column;z-index: 1;position: relative;background-color: white;}#sk-container-id-7 div.sk-parallel-item:first-child::after {align-self: flex-end;width: 50%;}#sk-container-id-7 div.sk-parallel-item:last-child::after {align-self: flex-start;width: 50%;}#sk-container-id-7 div.sk-parallel-item:only-child::after {width: 0;}#sk-container-id-7 div.sk-dashed-wrapped {border: 1px dashed gray;margin: 0 0.4em 0.5em 0.4em;box-sizing: border-box;padding-bottom: 0.4em;background-color: white;}#sk-container-id-7 div.sk-label label {font-family: monospace;font-weight: bold;display: inline-block;line-height: 1.2em;}#sk-container-id-7 div.sk-label-container {text-align: center;}#sk-container-id-7 div.sk-container {/* jupyter's `normalize.less` sets `[hidden] { display: none; }` but bootstrap.min.css set `[hidden] { display: none !important; }` so we also need the `!important` here to be able to override the default hidden behavior on the sphinx rendered scikit-learn.org. See: https://github.com/scikit-learn/scikit-learn/issues/21755 */display: inline-block !important;position: relative;}#sk-container-id-7 div.sk-text-repr-fallback {display: none;}</style><div id=\"sk-container-id-7\" class=\"sk-top-container\"><div class=\"sk-text-repr-fallback\"><pre>RandomForestRegressor()</pre><b>In a Jupyter environment, please rerun this cell to show the HTML representation or trust the notebook. <br />On GitHub, the HTML representation is unable to render, please try loading this page with nbviewer.org.</b></div><div class=\"sk-container\" hidden><div class=\"sk-item\"><div class=\"sk-estimator sk-toggleable\"><input class=\"sk-toggleable__control sk-hidden--visually\" id=\"sk-estimator-id-9\" type=\"checkbox\" checked><label for=\"sk-estimator-id-9\" class=\"sk-toggleable__label sk-toggleable__label-arrow\">RandomForestRegressor</label><div class=\"sk-toggleable__content\"><pre>RandomForestRegressor()</pre></div></div></div></div></div>"
      ],
      "text/plain": [
       "RandomForestRegressor()"
      ]
     },
     "execution_count": 123,
     "metadata": {},
     "output_type": "execute_result"
    }
   ],
   "source": [
    "from sklearn.ensemble import RandomForestRegressor\n",
    "rfr=RandomForestRegressor(n_estimators=100) ##object creation ,taking 100 decision tree in random forest\n",
    "rfr.fit(x_train,y_train)    # training the data"
   ]
  },
  {
   "cell_type": "code",
   "execution_count": 124,
   "id": "867bfb90",
   "metadata": {},
   "outputs": [],
   "source": [
    "# test data prediction\n",
    "y_pred_rfr=rfr.predict(x_test)"
   ]
  },
  {
   "cell_type": "code",
   "execution_count": 125,
   "id": "cd5a6fa7",
   "metadata": {},
   "outputs": [
    {
     "name": "stdout",
     "output_type": "stream",
     "text": [
      "Test r2 score : 0.8684168504647605\n"
     ]
    }
   ],
   "source": [
    "r2score_rfr=r2_score(y_test,y_pred_rfr)\n",
    "print('Test r2 score :',r2score_rfr)       # Test data"
   ]
  },
  {
   "cell_type": "code",
   "execution_count": 126,
   "id": "8f9440ef",
   "metadata": {},
   "outputs": [
    {
     "name": "stdout",
     "output_type": "stream",
     "text": [
      "Test R2 score is: 0.8684168504647605\n",
      "Mean_squared_error: 2548869.484801537\n",
      "mean_absolute_error: 732.3220368080109\n",
      "Root_Mean_squared_error: 1596.5179249859793\n"
     ]
    }
   ],
   "source": [
    "print('Test R2 score is:',r2score_rfr)\n",
    "print('Mean_squared_error:',(mean_squared_error(y_test,y_pred_rfr)))\n",
    "print('mean_absolute_error:',(mean_absolute_error(y_test,y_pred_rfr)))\n",
    "print(\"Root_Mean_squared_error:\",(np.sqrt(mean_squared_error(y_test,y_pred_rfr))))"
   ]
  },
  {
   "cell_type": "code",
   "execution_count": 127,
   "id": "1a9db054",
   "metadata": {},
   "outputs": [],
   "source": [
    "# Train data prediction\n",
    "y_pred_rfr1=rfr.predict(x_train)"
   ]
  },
  {
   "cell_type": "code",
   "execution_count": 128,
   "id": "a35617f6",
   "metadata": {},
   "outputs": [
    {
     "name": "stdout",
     "output_type": "stream",
     "text": [
      "Train R2 score : 0.9789349792959704\n"
     ]
    }
   ],
   "source": [
    "r2score_rfr1=r2_score(y_train,y_pred_rfr1)\n",
    "print('Train R2 score :',r2score_rfr1)       ##Train data"
   ]
  },
  {
   "cell_type": "markdown",
   "id": "3b675be9",
   "metadata": {},
   "source": [
    "## Hyperparameter Tuning with random forest regression"
   ]
  },
  {
   "cell_type": "code",
   "execution_count": 129,
   "id": "a81942be",
   "metadata": {},
   "outputs": [],
   "source": [
    "# using the RandomizedSearchCV for hyperparameter tuning\n",
    "from sklearn.model_selection import RandomizedSearchCV"
   ]
  },
  {
   "cell_type": "code",
   "execution_count": 130,
   "id": "444833a2",
   "metadata": {},
   "outputs": [],
   "source": [
    "##dictionary for hyperparameters\n",
    "random_grid={'n_estimators':[200,300,400,500,600],   # The numbers of the tree\n",
    "            'max_depth':[5,10],                      #The mximum depth od the tree\n",
    "            'min_samples_split':[2,5,10],            ##minimum number of samples required to split an internal node\n",
    "            'min_samples_leaf':[1,2,4],              #minimum number of samples required to be at a leaf node. \n",
    "            'max_features':['auto','sqrt']}          ##maximum number of features allowed to try in individual tree"
   ]
  },
  {
   "cell_type": "code",
   "execution_count": 131,
   "id": "e8426dc8",
   "metadata": {},
   "outputs": [],
   "source": [
    "# #Create the random forest Regression Model\n",
    "random_reg=RandomForestRegressor()\n",
    "## Create the gridsearchcv object\n",
    "random_cv=RandomizedSearchCV(estimator=random_reg,\n",
    "                             param_distributions=random_grid,\n",
    "                            scoring='r2',\n",
    "                            cv=3,\n",
    "                            random_state=40,\n",
    "                            n_iter=10)"
   ]
  },
  {
   "cell_type": "code",
   "execution_count": 132,
   "id": "f9d7f96f",
   "metadata": {},
   "outputs": [
    {
     "data": {
      "text/html": [
       "<style>#sk-container-id-8 {color: black;background-color: white;}#sk-container-id-8 pre{padding: 0;}#sk-container-id-8 div.sk-toggleable {background-color: white;}#sk-container-id-8 label.sk-toggleable__label {cursor: pointer;display: block;width: 100%;margin-bottom: 0;padding: 0.3em;box-sizing: border-box;text-align: center;}#sk-container-id-8 label.sk-toggleable__label-arrow:before {content: \"▸\";float: left;margin-right: 0.25em;color: #696969;}#sk-container-id-8 label.sk-toggleable__label-arrow:hover:before {color: black;}#sk-container-id-8 div.sk-estimator:hover label.sk-toggleable__label-arrow:before {color: black;}#sk-container-id-8 div.sk-toggleable__content {max-height: 0;max-width: 0;overflow: hidden;text-align: left;background-color: #f0f8ff;}#sk-container-id-8 div.sk-toggleable__content pre {margin: 0.2em;color: black;border-radius: 0.25em;background-color: #f0f8ff;}#sk-container-id-8 input.sk-toggleable__control:checked~div.sk-toggleable__content {max-height: 200px;max-width: 100%;overflow: auto;}#sk-container-id-8 input.sk-toggleable__control:checked~label.sk-toggleable__label-arrow:before {content: \"▾\";}#sk-container-id-8 div.sk-estimator input.sk-toggleable__control:checked~label.sk-toggleable__label {background-color: #d4ebff;}#sk-container-id-8 div.sk-label input.sk-toggleable__control:checked~label.sk-toggleable__label {background-color: #d4ebff;}#sk-container-id-8 input.sk-hidden--visually {border: 0;clip: rect(1px 1px 1px 1px);clip: rect(1px, 1px, 1px, 1px);height: 1px;margin: -1px;overflow: hidden;padding: 0;position: absolute;width: 1px;}#sk-container-id-8 div.sk-estimator {font-family: monospace;background-color: #f0f8ff;border: 1px dotted black;border-radius: 0.25em;box-sizing: border-box;margin-bottom: 0.5em;}#sk-container-id-8 div.sk-estimator:hover {background-color: #d4ebff;}#sk-container-id-8 div.sk-parallel-item::after {content: \"\";width: 100%;border-bottom: 1px solid gray;flex-grow: 1;}#sk-container-id-8 div.sk-label:hover label.sk-toggleable__label {background-color: #d4ebff;}#sk-container-id-8 div.sk-serial::before {content: \"\";position: absolute;border-left: 1px solid gray;box-sizing: border-box;top: 0;bottom: 0;left: 50%;z-index: 0;}#sk-container-id-8 div.sk-serial {display: flex;flex-direction: column;align-items: center;background-color: white;padding-right: 0.2em;padding-left: 0.2em;position: relative;}#sk-container-id-8 div.sk-item {position: relative;z-index: 1;}#sk-container-id-8 div.sk-parallel {display: flex;align-items: stretch;justify-content: center;background-color: white;position: relative;}#sk-container-id-8 div.sk-item::before, #sk-container-id-8 div.sk-parallel-item::before {content: \"\";position: absolute;border-left: 1px solid gray;box-sizing: border-box;top: 0;bottom: 0;left: 50%;z-index: -1;}#sk-container-id-8 div.sk-parallel-item {display: flex;flex-direction: column;z-index: 1;position: relative;background-color: white;}#sk-container-id-8 div.sk-parallel-item:first-child::after {align-self: flex-end;width: 50%;}#sk-container-id-8 div.sk-parallel-item:last-child::after {align-self: flex-start;width: 50%;}#sk-container-id-8 div.sk-parallel-item:only-child::after {width: 0;}#sk-container-id-8 div.sk-dashed-wrapped {border: 1px dashed gray;margin: 0 0.4em 0.5em 0.4em;box-sizing: border-box;padding-bottom: 0.4em;background-color: white;}#sk-container-id-8 div.sk-label label {font-family: monospace;font-weight: bold;display: inline-block;line-height: 1.2em;}#sk-container-id-8 div.sk-label-container {text-align: center;}#sk-container-id-8 div.sk-container {/* jupyter's `normalize.less` sets `[hidden] { display: none; }` but bootstrap.min.css set `[hidden] { display: none !important; }` so we also need the `!important` here to be able to override the default hidden behavior on the sphinx rendered scikit-learn.org. See: https://github.com/scikit-learn/scikit-learn/issues/21755 */display: inline-block !important;position: relative;}#sk-container-id-8 div.sk-text-repr-fallback {display: none;}</style><div id=\"sk-container-id-8\" class=\"sk-top-container\"><div class=\"sk-text-repr-fallback\"><pre>RandomizedSearchCV(cv=3, estimator=RandomForestRegressor(),\n",
       "                   param_distributions={&#x27;max_depth&#x27;: [5, 10],\n",
       "                                        &#x27;max_features&#x27;: [&#x27;auto&#x27;, &#x27;sqrt&#x27;],\n",
       "                                        &#x27;min_samples_leaf&#x27;: [1, 2, 4],\n",
       "                                        &#x27;min_samples_split&#x27;: [2, 5, 10],\n",
       "                                        &#x27;n_estimators&#x27;: [200, 300, 400, 500,\n",
       "                                                         600]},\n",
       "                   random_state=40, scoring=&#x27;r2&#x27;)</pre><b>In a Jupyter environment, please rerun this cell to show the HTML representation or trust the notebook. <br />On GitHub, the HTML representation is unable to render, please try loading this page with nbviewer.org.</b></div><div class=\"sk-container\" hidden><div class=\"sk-item sk-dashed-wrapped\"><div class=\"sk-label-container\"><div class=\"sk-label sk-toggleable\"><input class=\"sk-toggleable__control sk-hidden--visually\" id=\"sk-estimator-id-10\" type=\"checkbox\" ><label for=\"sk-estimator-id-10\" class=\"sk-toggleable__label sk-toggleable__label-arrow\">RandomizedSearchCV</label><div class=\"sk-toggleable__content\"><pre>RandomizedSearchCV(cv=3, estimator=RandomForestRegressor(),\n",
       "                   param_distributions={&#x27;max_depth&#x27;: [5, 10],\n",
       "                                        &#x27;max_features&#x27;: [&#x27;auto&#x27;, &#x27;sqrt&#x27;],\n",
       "                                        &#x27;min_samples_leaf&#x27;: [1, 2, 4],\n",
       "                                        &#x27;min_samples_split&#x27;: [2, 5, 10],\n",
       "                                        &#x27;n_estimators&#x27;: [200, 300, 400, 500,\n",
       "                                                         600]},\n",
       "                   random_state=40, scoring=&#x27;r2&#x27;)</pre></div></div></div><div class=\"sk-parallel\"><div class=\"sk-parallel-item\"><div class=\"sk-item\"><div class=\"sk-label-container\"><div class=\"sk-label sk-toggleable\"><input class=\"sk-toggleable__control sk-hidden--visually\" id=\"sk-estimator-id-11\" type=\"checkbox\" ><label for=\"sk-estimator-id-11\" class=\"sk-toggleable__label sk-toggleable__label-arrow\">estimator: RandomForestRegressor</label><div class=\"sk-toggleable__content\"><pre>RandomForestRegressor()</pre></div></div></div><div class=\"sk-serial\"><div class=\"sk-item\"><div class=\"sk-estimator sk-toggleable\"><input class=\"sk-toggleable__control sk-hidden--visually\" id=\"sk-estimator-id-12\" type=\"checkbox\" ><label for=\"sk-estimator-id-12\" class=\"sk-toggleable__label sk-toggleable__label-arrow\">RandomForestRegressor</label><div class=\"sk-toggleable__content\"><pre>RandomForestRegressor()</pre></div></div></div></div></div></div></div></div></div></div>"
      ],
      "text/plain": [
       "RandomizedSearchCV(cv=3, estimator=RandomForestRegressor(),\n",
       "                   param_distributions={'max_depth': [5, 10],\n",
       "                                        'max_features': ['auto', 'sqrt'],\n",
       "                                        'min_samples_leaf': [1, 2, 4],\n",
       "                                        'min_samples_split': [2, 5, 10],\n",
       "                                        'n_estimators': [200, 300, 400, 500,\n",
       "                                                         600]},\n",
       "                   random_state=40, scoring='r2')"
      ]
     },
     "execution_count": 132,
     "metadata": {},
     "output_type": "execute_result"
    }
   ],
   "source": [
    "# fit the RandomizedSearchCV object to training data\n",
    "random_cv.fit(x_train,y_train)"
   ]
  },
  {
   "cell_type": "code",
   "execution_count": 133,
   "id": "d72fdd67",
   "metadata": {},
   "outputs": [
    {
     "name": "stdout",
     "output_type": "stream",
     "text": [
      "Best Paraameter : {'n_estimators': 600, 'min_samples_split': 2, 'min_samples_leaf': 4, 'max_features': 'auto', 'max_depth': 10}\n"
     ]
    }
   ],
   "source": [
    "# get the best parameters \n",
    "rfr_best_params=random_cv.best_params_\n",
    "print('Best Paraameter :',rfr_best_params)"
   ]
  },
  {
   "cell_type": "code",
   "execution_count": 134,
   "id": "6dab8910",
   "metadata": {},
   "outputs": [],
   "source": [
    "# create the new model with the best parameter\n",
    "random_reg_best_model=RandomForestRegressor(n_estimators=300,min_samples_split=2, min_samples_leaf=4, max_features='auto', max_depth=10)"
   ]
  },
  {
   "cell_type": "code",
   "execution_count": 135,
   "id": "af9f472c",
   "metadata": {},
   "outputs": [
    {
     "data": {
      "text/html": [
       "<style>#sk-container-id-9 {color: black;background-color: white;}#sk-container-id-9 pre{padding: 0;}#sk-container-id-9 div.sk-toggleable {background-color: white;}#sk-container-id-9 label.sk-toggleable__label {cursor: pointer;display: block;width: 100%;margin-bottom: 0;padding: 0.3em;box-sizing: border-box;text-align: center;}#sk-container-id-9 label.sk-toggleable__label-arrow:before {content: \"▸\";float: left;margin-right: 0.25em;color: #696969;}#sk-container-id-9 label.sk-toggleable__label-arrow:hover:before {color: black;}#sk-container-id-9 div.sk-estimator:hover label.sk-toggleable__label-arrow:before {color: black;}#sk-container-id-9 div.sk-toggleable__content {max-height: 0;max-width: 0;overflow: hidden;text-align: left;background-color: #f0f8ff;}#sk-container-id-9 div.sk-toggleable__content pre {margin: 0.2em;color: black;border-radius: 0.25em;background-color: #f0f8ff;}#sk-container-id-9 input.sk-toggleable__control:checked~div.sk-toggleable__content {max-height: 200px;max-width: 100%;overflow: auto;}#sk-container-id-9 input.sk-toggleable__control:checked~label.sk-toggleable__label-arrow:before {content: \"▾\";}#sk-container-id-9 div.sk-estimator input.sk-toggleable__control:checked~label.sk-toggleable__label {background-color: #d4ebff;}#sk-container-id-9 div.sk-label input.sk-toggleable__control:checked~label.sk-toggleable__label {background-color: #d4ebff;}#sk-container-id-9 input.sk-hidden--visually {border: 0;clip: rect(1px 1px 1px 1px);clip: rect(1px, 1px, 1px, 1px);height: 1px;margin: -1px;overflow: hidden;padding: 0;position: absolute;width: 1px;}#sk-container-id-9 div.sk-estimator {font-family: monospace;background-color: #f0f8ff;border: 1px dotted black;border-radius: 0.25em;box-sizing: border-box;margin-bottom: 0.5em;}#sk-container-id-9 div.sk-estimator:hover {background-color: #d4ebff;}#sk-container-id-9 div.sk-parallel-item::after {content: \"\";width: 100%;border-bottom: 1px solid gray;flex-grow: 1;}#sk-container-id-9 div.sk-label:hover label.sk-toggleable__label {background-color: #d4ebff;}#sk-container-id-9 div.sk-serial::before {content: \"\";position: absolute;border-left: 1px solid gray;box-sizing: border-box;top: 0;bottom: 0;left: 50%;z-index: 0;}#sk-container-id-9 div.sk-serial {display: flex;flex-direction: column;align-items: center;background-color: white;padding-right: 0.2em;padding-left: 0.2em;position: relative;}#sk-container-id-9 div.sk-item {position: relative;z-index: 1;}#sk-container-id-9 div.sk-parallel {display: flex;align-items: stretch;justify-content: center;background-color: white;position: relative;}#sk-container-id-9 div.sk-item::before, #sk-container-id-9 div.sk-parallel-item::before {content: \"\";position: absolute;border-left: 1px solid gray;box-sizing: border-box;top: 0;bottom: 0;left: 50%;z-index: -1;}#sk-container-id-9 div.sk-parallel-item {display: flex;flex-direction: column;z-index: 1;position: relative;background-color: white;}#sk-container-id-9 div.sk-parallel-item:first-child::after {align-self: flex-end;width: 50%;}#sk-container-id-9 div.sk-parallel-item:last-child::after {align-self: flex-start;width: 50%;}#sk-container-id-9 div.sk-parallel-item:only-child::after {width: 0;}#sk-container-id-9 div.sk-dashed-wrapped {border: 1px dashed gray;margin: 0 0.4em 0.5em 0.4em;box-sizing: border-box;padding-bottom: 0.4em;background-color: white;}#sk-container-id-9 div.sk-label label {font-family: monospace;font-weight: bold;display: inline-block;line-height: 1.2em;}#sk-container-id-9 div.sk-label-container {text-align: center;}#sk-container-id-9 div.sk-container {/* jupyter's `normalize.less` sets `[hidden] { display: none; }` but bootstrap.min.css set `[hidden] { display: none !important; }` so we also need the `!important` here to be able to override the default hidden behavior on the sphinx rendered scikit-learn.org. See: https://github.com/scikit-learn/scikit-learn/issues/21755 */display: inline-block !important;position: relative;}#sk-container-id-9 div.sk-text-repr-fallback {display: none;}</style><div id=\"sk-container-id-9\" class=\"sk-top-container\"><div class=\"sk-text-repr-fallback\"><pre>RandomForestRegressor(max_depth=10, max_features=&#x27;auto&#x27;, min_samples_leaf=4,\n",
       "                      n_estimators=300)</pre><b>In a Jupyter environment, please rerun this cell to show the HTML representation or trust the notebook. <br />On GitHub, the HTML representation is unable to render, please try loading this page with nbviewer.org.</b></div><div class=\"sk-container\" hidden><div class=\"sk-item\"><div class=\"sk-estimator sk-toggleable\"><input class=\"sk-toggleable__control sk-hidden--visually\" id=\"sk-estimator-id-13\" type=\"checkbox\" checked><label for=\"sk-estimator-id-13\" class=\"sk-toggleable__label sk-toggleable__label-arrow\">RandomForestRegressor</label><div class=\"sk-toggleable__content\"><pre>RandomForestRegressor(max_depth=10, max_features=&#x27;auto&#x27;, min_samples_leaf=4,\n",
       "                      n_estimators=300)</pre></div></div></div></div></div>"
      ],
      "text/plain": [
       "RandomForestRegressor(max_depth=10, max_features='auto', min_samples_leaf=4,\n",
       "                      n_estimators=300)"
      ]
     },
     "execution_count": 135,
     "metadata": {},
     "output_type": "execute_result"
    }
   ],
   "source": [
    "# Fit the best model to the training data\n",
    "random_reg_best_model.fit(x_train,y_train)"
   ]
  },
  {
   "cell_type": "code",
   "execution_count": 136,
   "id": "e6949745",
   "metadata": {},
   "outputs": [],
   "source": [
    "y_pred_rfr_ht=random_reg_best_model.predict(x_test)  # Test data"
   ]
  },
  {
   "cell_type": "code",
   "execution_count": 137,
   "id": "7cd4635f",
   "metadata": {},
   "outputs": [
    {
     "name": "stdout",
     "output_type": "stream",
     "text": [
      "Test r2 score : 0.8551006348442136\n"
     ]
    }
   ],
   "source": [
    "r2score_rfr_ht=r2_score(y_test,y_pred_rfr_ht)\n",
    "print('Test r2 score :',r2score_rfr_ht)"
   ]
  },
  {
   "cell_type": "code",
   "execution_count": 138,
   "id": "1cf02156",
   "metadata": {},
   "outputs": [],
   "source": [
    "y_pred_rfr_ht1=random_reg_best_model.predict(x_train)  # Train data"
   ]
  },
  {
   "cell_type": "code",
   "execution_count": 139,
   "id": "187964c3",
   "metadata": {},
   "outputs": [
    {
     "name": "stdout",
     "output_type": "stream",
     "text": [
      "Train r2 score : 0.8913174582317057\n"
     ]
    }
   ],
   "source": [
    "r2score_rfr_ht1=r2_score(y_train,y_pred_rfr_ht1)\n",
    "print('Train r2 score :',r2score_rfr_ht1)"
   ]
  },
  {
   "cell_type": "markdown",
   "id": "4a49c04e",
   "metadata": {},
   "source": [
    "## Create the Dataframe model score"
   ]
  },
  {
   "cell_type": "code",
   "execution_count": 140,
   "id": "6747d42c",
   "metadata": {},
   "outputs": [],
   "source": [
    "# Create the list of Dictionary \n",
    "new_data=[['LinearRegression',0.4248,0.4123],['SVR',0.0290,0.01836],['GradientBoostingRegressor',0.8182,0.8288],['LogisticRegression',0.4686, 0.5682],['DecisionTreeRegression',0.7692,0.9968,0.8051,0.9178],['randomForestRegression',0.8686,0.9784,0.8544,0.8921]]"
   ]
  },
  {
   "cell_type": "code",
   "execution_count": 141,
   "id": "c1891da0",
   "metadata": {},
   "outputs": [
    {
     "data": {
      "text/plain": [
       "[['LinearRegression', 0.4248, 0.4123],\n",
       " ['SVR', 0.029, 0.01836],\n",
       " ['GradientBoostingRegressor', 0.8182, 0.8288],\n",
       " ['LogisticRegression', 0.4686, 0.5682],\n",
       " ['DecisionTreeRegression', 0.7692, 0.9968, 0.8051, 0.9178],\n",
       " ['randomForestRegression', 0.8686, 0.9784, 0.8544, 0.8921]]"
      ]
     },
     "execution_count": 141,
     "metadata": {},
     "output_type": "execute_result"
    }
   ],
   "source": [
    "new_data  # Excute the elements"
   ]
  },
  {
   "cell_type": "code",
   "execution_count": 143,
   "id": "fd60fb85",
   "metadata": {},
   "outputs": [],
   "source": [
    "# Create the dataframe using Pd.datafram\n",
    "frame_data=pd.DataFrame(new_data,columns=['Model','Train_R2_score','Train_R2_score_hyper_tuning','Test_R2_Score_Hyper_Tuning','R2_Score'])"
   ]
  },
  {
   "cell_type": "code",
   "execution_count": 144,
   "id": "f20c63e0",
   "metadata": {
    "scrolled": true
   },
   "outputs": [
    {
     "data": {
      "text/html": [
       "<div>\n",
       "<style scoped>\n",
       "    .dataframe tbody tr th:only-of-type {\n",
       "        vertical-align: middle;\n",
       "    }\n",
       "\n",
       "    .dataframe tbody tr th {\n",
       "        vertical-align: top;\n",
       "    }\n",
       "\n",
       "    .dataframe thead th {\n",
       "        text-align: right;\n",
       "    }\n",
       "</style>\n",
       "<table border=\"1\" class=\"dataframe\">\n",
       "  <thead>\n",
       "    <tr style=\"text-align: right;\">\n",
       "      <th></th>\n",
       "      <th>Model</th>\n",
       "      <th>Train_R2_score</th>\n",
       "      <th>Train_R2_score_hyper_tuning</th>\n",
       "      <th>Test_R2_Score_Hyper_Tuning</th>\n",
       "      <th>R2_Score</th>\n",
       "    </tr>\n",
       "  </thead>\n",
       "  <tbody>\n",
       "    <tr>\n",
       "      <th>0</th>\n",
       "      <td>LinearRegression</td>\n",
       "      <td>0.4248</td>\n",
       "      <td>0.41230</td>\n",
       "      <td>NaN</td>\n",
       "      <td>NaN</td>\n",
       "    </tr>\n",
       "    <tr>\n",
       "      <th>1</th>\n",
       "      <td>SVR</td>\n",
       "      <td>0.0290</td>\n",
       "      <td>0.01836</td>\n",
       "      <td>NaN</td>\n",
       "      <td>NaN</td>\n",
       "    </tr>\n",
       "    <tr>\n",
       "      <th>2</th>\n",
       "      <td>GradientBoostingRegressor</td>\n",
       "      <td>0.8182</td>\n",
       "      <td>0.82880</td>\n",
       "      <td>NaN</td>\n",
       "      <td>NaN</td>\n",
       "    </tr>\n",
       "    <tr>\n",
       "      <th>3</th>\n",
       "      <td>LogisticRegression</td>\n",
       "      <td>0.4686</td>\n",
       "      <td>0.56820</td>\n",
       "      <td>NaN</td>\n",
       "      <td>NaN</td>\n",
       "    </tr>\n",
       "    <tr>\n",
       "      <th>4</th>\n",
       "      <td>DecisionTreeRegression</td>\n",
       "      <td>0.7692</td>\n",
       "      <td>0.99680</td>\n",
       "      <td>0.8051</td>\n",
       "      <td>0.9178</td>\n",
       "    </tr>\n",
       "    <tr>\n",
       "      <th>5</th>\n",
       "      <td>randomForestRegression</td>\n",
       "      <td>0.8686</td>\n",
       "      <td>0.97840</td>\n",
       "      <td>0.8544</td>\n",
       "      <td>0.8921</td>\n",
       "    </tr>\n",
       "  </tbody>\n",
       "</table>\n",
       "</div>"
      ],
      "text/plain": [
       "                       Model  Train_R2_score  Train_R2_score_hyper_tuning  \\\n",
       "0           LinearRegression          0.4248                      0.41230   \n",
       "1                        SVR          0.0290                      0.01836   \n",
       "2  GradientBoostingRegressor          0.8182                      0.82880   \n",
       "3         LogisticRegression          0.4686                      0.56820   \n",
       "4     DecisionTreeRegression          0.7692                      0.99680   \n",
       "5     randomForestRegression          0.8686                      0.97840   \n",
       "\n",
       "   Test_R2_Score_Hyper_Tuning  R2_Score  \n",
       "0                         NaN       NaN  \n",
       "1                         NaN       NaN  \n",
       "2                         NaN       NaN  \n",
       "3                         NaN       NaN  \n",
       "4                      0.8051    0.9178  \n",
       "5                      0.8544    0.8921  "
      ]
     },
     "execution_count": 144,
     "metadata": {},
     "output_type": "execute_result"
    }
   ],
   "source": [
    "frame_data     # Excute the frame with model score."
   ]
  },
  {
   "cell_type": "markdown",
   "id": "1950d34c",
   "metadata": {},
   "source": [
    "# Conclusion\n",
    "\n",
    "## Summary of Data Analysis report \n",
    "##### In this dataset,We are trying to analysis travel dataset and extract the insight.This will help us to understand the travel behavior."
   ]
  },
  {
   "cell_type": "markdown",
   "id": "14b4cc9f",
   "metadata": {},
   "source": [
    "### Univariate Analysis features Explaination"
   ]
  },
  {
   "cell_type": "raw",
   "id": "5df58ba9",
   "metadata": {},
   "source": [
    "# I have done the Exploratory data Analysis, where we can understand the each feature.\n",
    "Airline:\n",
    "Approximately 3800 passenger have traveled in jet Airways flight.\n",
    "\n",
    "Journey_Month:\n",
    "# more then 2500 passengers have traveled in June month.\n",
    "# minimum passengers have traveled in April month.\n",
    "\n",
    "Dep_time_hour:\n",
    "# Maximum passengers have departure time as 9 dep_time_hour and minimum passengers have dep_time_hour as 3 to 4 depature range.\n",
    "\n",
    "Arrival_Time_hour:\n",
    "# We can see in Arrival_Time_hour, Maximum passengers have Arrival_Time_hour as 19.\n",
    "#Minimum passengers have Arrival_Time_hour as 6.\n",
    "\n",
    "dur_hour:\n",
    "# We can see dur_hour, maximum passengers have travel duration hour as 1 to 2 hours.\n",
    "# Minimum passengers have travel duration hour as 40 to 41 hours.\n",
    "\n",
    "Source:\n",
    "# We can see in Source, More then 4500 passengers have started their journey from Delhi.\n",
    "# Near to 3000 passengers have started their journey from kollata.\n",
    "# Minimum passeners have started their journey from chennai.\n",
    "\n",
    "Destination:\n",
    "# We can see in Destination, more then 4000 passengers wanted to travel to cochin.\n",
    "# Near to 3000 passengers wanted to travel to Bangalore and more 1000 passengers wanted to travel to Delhi.\n",
    "# Minimum Passenger have traveled to kolkata.\n",
    "\n",
    "Route:\n",
    "# We can see in Route,Maximum passenger have strated their journey from Del-Bom-Cok and then Blr-Del they have started their jouney.\n",
    "Total_Stops:\n",
    "# We can see in Total_Stops, More then 5000 passenger have traveled with 1 stop flights. \n",
    "# 3500 passenger have traveled with non stop flights.\n",
    "# Very less passenger have traveled with 3 stops and 4 stops.\n",
    "\n",
    "Additional_Info:\n",
    "# We can seen in Additional_Info,maximum passenger have traveled with No info details,then In-flight meal not included."
   ]
  },
  {
   "cell_type": "markdown",
   "id": "9ce6aee6",
   "metadata": {},
   "source": [
    "### Bivariate Analysis features Explaination"
   ]
  },
  {
   "cell_type": "raw",
   "id": "3b132cd9",
   "metadata": {},
   "source": [
    "#Analyzing relationship between the Airline and Price\n",
    "In This Graph we can see that Jet Airways Business Have Highest fare for flight fare as compare the other flight fare.\n",
    "\n",
    "#Analyzing relationship between the Journey_month and Price\n",
    "We can see Journey Month march have highest fare price for flight fare as compare other months.\n",
    "\n",
    "#Analysis relationship between Source and price\n",
    "We can see , Maximum passenger wanted to travel to New Delh  and the price of fare is also high and then Cochin.\n",
    "\n",
    "# Analysis the relationship between Total_Stops  and price\n",
    "We can see,The passenger have traveled with non stop , 1 stop ,2 stops  and 4 stops but price fare sightly different.\n",
    "\n",
    "#Analysis the relationship between Additional_Info and price\n",
    "We can see in Additional_Info categories business class have price fare highest , might be passengers got other amenities.\n",
    "Additional_Info have No check-in baggage included price fare of flight is very less as compare to there categories.\n"
   ]
  },
  {
   "cell_type": "markdown",
   "id": "3b0cfc0a",
   "metadata": {},
   "source": [
    "### Data Preprocessing and feature Engineering Explaination"
   ]
  },
  {
   "cell_type": "raw",
   "id": "3e0d29ca",
   "metadata": {},
   "source": [
    "# 1) The columns data_of_journey ,Arrival_Time and dep_time were object so, we need to convert that columns into date,day,hour and minute.\n",
    "# I have defined the function name convert_into_datetime and using the pandas function ,I have converted the those columns into datetime format.\n",
    "\n",
    "# 2) Date_of_Journery:\n",
    "# In Date_of_Journery , Extract the day from Date_of_Journery Using the dt.day and assing the new column Journey_day.\n",
    "# Extract the Month from Date_of_Journery Using dt.month and assign the new column journey_Month.\n",
    "# Drop the Date_of_journey\n",
    "\n",
    "#3)Arrival_Time:\n",
    "# In Arrival_Time, Extract the hour from Arrival_Time Using dt.hour and assign the new column Arrival_Time_hour.\n",
    "# Extract the min from Arrival_Time Using dt.min and assign the new column Arrival_Time_min.\n",
    "#Drop the Arrival_time\n",
    "\n",
    "# 4)Dur_Time:\n",
    "# In Dur_Time,Extract the hour from Dur_time Using the dt.hour and assign the new column dur_hour.\n",
    "# Extract the min from Dur_time Using dt.min and assign the new column dur_min.\n",
    "#Drop the Dur_time\n",
    "\n",
    "#5)Duration:\n",
    "# Using the for loop in duration where we need to split the hour and minute.\n",
    "# create the list duration and contain the value from old column Duration\n",
    "# and than apply the for loop, where loop will run over each element in the duration list.\n",
    "#If the value at index i can be split using space('') into two part. pass the function\n",
    "# and if the duration contain only hour Add 0 minute and if ther is only minute add 0hour in present.\n",
    "# In data Column Duration equal to duration list.\n",
    "# Define the function hour and minute and where x value will split (\"\") in to two part hour and minuts than using index and slicing function we will take hour and same thing we do with the minuts function.\n",
    "\n",
    "# Check the null values using the isnull(),sum() function\n",
    "# Got two null values in columns Route and total_stops\n",
    "# Using the loc fuction check the both null value in same row and drop the row ,because there was only one null value present.\n",
    "\n",
    "# Drop the route columns ,Because total stops and route were giving thesame information.\n",
    "\n",
    "# Handle the categorical data\n",
    "# Using the Sklearn labraries in Label Encoding and using this technique to transform categorical feature into numerical values.\n",
    "\n",
    "# Scale the data\n",
    "# In the dataset, same feature values are High and low so it will not give better prediction to model so i used the sklean Labraries\n",
    "# and used the StandardScaler ,it will give the value range 3 to -3 between.\n",
    "# Transform all the indendent feature in StandardScaler range.\n"
   ]
  },
  {
   "cell_type": "markdown",
   "id": "fe97c433",
   "metadata": {},
   "source": [
    "### Feature Selection"
   ]
  },
  {
   "cell_type": "raw",
   "id": "35f6f2db",
   "metadata": {},
   "source": [
    "# Created the new dataset name data1 and contain all the independent vaiable.\n",
    "# Checked the correlation between the independent varaibe and found No Correlation bewteen them.\n",
    "# Checked the heatmap correlation  Using the heatmap function and There were no correlation between them. "
   ]
  },
  {
   "cell_type": "markdown",
   "id": "3e18c7d8",
   "metadata": {},
   "source": [
    "### Model Creation"
   ]
  },
  {
   "cell_type": "raw",
   "id": "2494b9b2",
   "metadata": {},
   "source": [
    "# model Create the indendent and dependent variable names x and y.\n",
    "\n",
    "# Split the data in train and test using the sklearn model selection.\n",
    "\n",
    "LinerRegression:\n",
    "\n",
    "# Applying Linear Regression model \n",
    "# Using the sklearn.linear_model import LinearRegresssion\n",
    "# Create the object creation\n",
    "# Fit the training data\n",
    "# Predict the test data\n",
    "# Using the Sklearn Matrics check the r2 score,MSE,MAE,Adjusted_r2_score"
   ]
  },
  {
   "cell_type": "markdown",
   "id": "f6548f41",
   "metadata": {},
   "source": [
    "### LinearRegression:"
   ]
  },
  {
   "cell_type": "raw",
   "id": "05cbedb8",
   "metadata": {},
   "source": [
    "# R2 score is: 0.41897053762898884\n",
    "# Mean_squared_error: 11927554.506123882\n",
    "# Mean_Absolute_error: 2474.1487009661323\n",
    "# Root_mean_squared_error: 3453.629179012113\n",
    "# Training r2 score is : 0.41230652492123976\n",
    "## Linear Regression model is able to expalin approximately 41.9% of the variance in flight prices."
   ]
  },
  {
   "cell_type": "markdown",
   "id": "9b195b43",
   "metadata": {},
   "source": [
    "### SVR:"
   ]
  },
  {
   "cell_type": "raw",
   "id": "2fbc9568",
   "metadata": {},
   "source": [
    "# R2 score is: 0.029018322061977075\n",
    "# Mean_squared_error: 18808681.643045872\n",
    "# Mean_Absolute_error: 3445.7559412685882\n",
    "# Root_mean_squared_error: 4336.897698014777\n",
    "# Train r2 score is :0.01836\n",
    "## SVR model indicates that the models ability to explain the variance in flight price is very low. \n"
   ]
  },
  {
   "cell_type": "markdown",
   "id": "c8367d5c",
   "metadata": {},
   "source": [
    "### LogistictRegression :"
   ]
  },
  {
   "cell_type": "raw",
   "id": "7bb47406",
   "metadata": {},
   "source": [
    "# R2 score is: 0.46863635913061563\n",
    "# Mean_squared_error: 10292933.208611928\n",
    "# Meas_Absolute_error: 1760.8684140144424\n",
    "# Root_mean_squared_error: 3208.2601528884666\n",
    "# Train r2 score : 0.5682865980604788\n",
    "# LogisticRegression has r2 score 0.468 indicates that the models ability to explain the variance in flight price is Moderate."
   ]
  },
  {
   "cell_type": "markdown",
   "id": "186efca1",
   "metadata": {},
   "source": [
    "### GradientBoostingRegression:"
   ]
  },
  {
   "cell_type": "raw",
   "id": "f44f5774",
   "metadata": {},
   "source": [
    "# R2 score is: 0.8182281998042514\n",
    "# Mean_squared_error: 3521063.2695207293\n",
    "# Meas_Absolute_error: 1283.3110127035334\n",
    "# Root_mean_squared_error: 1876.449644813505\n",
    "# Test for r2 score_gb is 0.8182 and train for r2 score_gb_train is 0.8288. This model is Generalized model performance.\n",
    "# Training r2 score is : 0.8288372994725302   \n",
    "\n",
    "# The r2 score is 0.8182 Indicates that the model can explain approximately 81.81% of the variance in the flight prices.\n",
    "# Model has a strong predictive power and it will help to predict the future flight price with accuracy 81.82%."
   ]
  },
  {
   "cell_type": "markdown",
   "id": "817625e3",
   "metadata": {},
   "source": [
    "### DecisionTreeRegression:"
   ]
  },
  {
   "cell_type": "raw",
   "id": "21e1392d",
   "metadata": {},
   "source": [
    "\n",
    "# R2 score is: 0.7692936074909953\n",
    "# Mean_squared_error: 4468964.954037399\n",
    "# mean_absolute_error: 818.019457074084\n",
    "# Root_Mean_squared_error: 2113.9926570443426\n",
    "# Training R2 score is : 0.9968060591494553\n",
    "# Training score is 0.9968 and r2 score is 0.7629.This model is overfitting model.\n",
    "# Hyper tuning R2 score is 0.8051714470006319\n",
    "# Hyper tuning train R2 score is 0.917823385924446   \n",
    "# The r2 score is 0.7692 and it indicates that model can explain approximately 76.92% of the variance in the fight price.\n",
    "# model had good predictive power,it will help to predict the future flight price with accuracy 76.92%."
   ]
  },
  {
   "cell_type": "markdown",
   "id": "d7b60a08",
   "metadata": {},
   "source": [
    "### RandomForestRegression:"
   ]
  },
  {
   "cell_type": "raw",
   "id": "5cc5ab3a",
   "metadata": {},
   "source": [
    "# Test R2 score is: 0.8686839344714816\n",
    "# Mean_squared_error: 2543695.856741906\n",
    "# mean_absolute_error: 733.6105978785487\n",
    "# Root_Mean_squared_error: 1594.896816957732\n",
    "# Train R2 score : 0.9784040622326775   \n",
    "# R2 score is 86.86% and train r2 score 97.84 and this is generalized model. \n",
    "# Hyper tuning r2 score is Test r2 score : 0.8544132123854166\n",
    "# Hyper tuning train r2 score is 0.8921167623041237    \n",
    "# The r2 score is 0.8686 and it indicates that model can explain approximately 86.86% of the variance in the flight price.\n",
    "# modle has storng predictive power and it will help to predict the future flight price witha accuracy 86.86%"
   ]
  },
  {
   "cell_type": "code",
   "execution_count": 145,
   "id": "27fa532b",
   "metadata": {
    "scrolled": true
   },
   "outputs": [
    {
     "data": {
      "text/html": [
       "<div>\n",
       "<style scoped>\n",
       "    .dataframe tbody tr th:only-of-type {\n",
       "        vertical-align: middle;\n",
       "    }\n",
       "\n",
       "    .dataframe tbody tr th {\n",
       "        vertical-align: top;\n",
       "    }\n",
       "\n",
       "    .dataframe thead th {\n",
       "        text-align: right;\n",
       "    }\n",
       "</style>\n",
       "<table border=\"1\" class=\"dataframe\">\n",
       "  <thead>\n",
       "    <tr style=\"text-align: right;\">\n",
       "      <th></th>\n",
       "      <th>Model</th>\n",
       "      <th>Train_R2_score</th>\n",
       "      <th>Train_R2_score_hyper_tuning</th>\n",
       "      <th>Test_R2_Score_Hyper_Tuning</th>\n",
       "      <th>R2_Score</th>\n",
       "    </tr>\n",
       "  </thead>\n",
       "  <tbody>\n",
       "    <tr>\n",
       "      <th>0</th>\n",
       "      <td>LinearRegression</td>\n",
       "      <td>0.4248</td>\n",
       "      <td>0.41230</td>\n",
       "      <td>NaN</td>\n",
       "      <td>NaN</td>\n",
       "    </tr>\n",
       "    <tr>\n",
       "      <th>1</th>\n",
       "      <td>SVR</td>\n",
       "      <td>0.0290</td>\n",
       "      <td>0.01836</td>\n",
       "      <td>NaN</td>\n",
       "      <td>NaN</td>\n",
       "    </tr>\n",
       "    <tr>\n",
       "      <th>2</th>\n",
       "      <td>GradientBoostingRegressor</td>\n",
       "      <td>0.8182</td>\n",
       "      <td>0.82880</td>\n",
       "      <td>NaN</td>\n",
       "      <td>NaN</td>\n",
       "    </tr>\n",
       "    <tr>\n",
       "      <th>3</th>\n",
       "      <td>LogisticRegression</td>\n",
       "      <td>0.4686</td>\n",
       "      <td>0.56820</td>\n",
       "      <td>NaN</td>\n",
       "      <td>NaN</td>\n",
       "    </tr>\n",
       "    <tr>\n",
       "      <th>4</th>\n",
       "      <td>DecisionTreeRegression</td>\n",
       "      <td>0.7692</td>\n",
       "      <td>0.99680</td>\n",
       "      <td>0.8051</td>\n",
       "      <td>0.9178</td>\n",
       "    </tr>\n",
       "    <tr>\n",
       "      <th>5</th>\n",
       "      <td>randomForestRegression</td>\n",
       "      <td>0.8686</td>\n",
       "      <td>0.97840</td>\n",
       "      <td>0.8544</td>\n",
       "      <td>0.8921</td>\n",
       "    </tr>\n",
       "  </tbody>\n",
       "</table>\n",
       "</div>"
      ],
      "text/plain": [
       "                       Model  Train_R2_score  Train_R2_score_hyper_tuning  \\\n",
       "0           LinearRegression          0.4248                      0.41230   \n",
       "1                        SVR          0.0290                      0.01836   \n",
       "2  GradientBoostingRegressor          0.8182                      0.82880   \n",
       "3         LogisticRegression          0.4686                      0.56820   \n",
       "4     DecisionTreeRegression          0.7692                      0.99680   \n",
       "5     randomForestRegression          0.8686                      0.97840   \n",
       "\n",
       "   Test_R2_Score_Hyper_Tuning  R2_Score  \n",
       "0                         NaN       NaN  \n",
       "1                         NaN       NaN  \n",
       "2                         NaN       NaN  \n",
       "3                         NaN       NaN  \n",
       "4                      0.8051    0.9178  \n",
       "5                      0.8544    0.8921  "
      ]
     },
     "execution_count": 145,
     "metadata": {},
     "output_type": "execute_result"
    }
   ],
   "source": [
    "frame_data "
   ]
  },
  {
   "cell_type": "markdown",
   "id": "cf748c4d",
   "metadata": {},
   "source": [
    "## Best Model For the Flight Price Prediction"
   ]
  },
  {
   "cell_type": "markdown",
   "id": "c50a3c64",
   "metadata": {},
   "source": [
    "#### Its been clearly evident from all the model r2 score ,where Random Forest Regression is giving us best model performance accuracy score 86.86%. its logically ideal to consider this model , which will be good for future flight price prediction."
   ]
  },
  {
   "cell_type": "code",
   "execution_count": null,
   "id": "1d1470c7",
   "metadata": {},
   "outputs": [],
   "source": []
  }
 ],
 "metadata": {
  "kernelspec": {
   "display_name": "Python 3 (ipykernel)",
   "language": "python",
   "name": "python3"
  },
  "language_info": {
   "codemirror_mode": {
    "name": "ipython",
    "version": 3
   },
   "file_extension": ".py",
   "mimetype": "text/x-python",
   "name": "python",
   "nbconvert_exporter": "python",
   "pygments_lexer": "ipython3",
   "version": "3.10.9"
  }
 },
 "nbformat": 4,
 "nbformat_minor": 5
}
